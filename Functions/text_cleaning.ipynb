{
 "cells": [
  {
   "cell_type": "code",
   "execution_count": 1,
   "metadata": {},
   "outputs": [],
   "source": [
    "#imports\n",
    "import pandas as pd\n",
    "import regex as re\n",
    "import warnings\n",
    "warnings.filterwarnings('ignore')\n",
    "from nltk.corpus import stopwords # Import the stopword list\n",
    "\n",
    "from nltk.stem.porter import PorterStemmer\n",
    "from nltk.stem import WordNetLemmatizer\n",
    "\n",
    "import pickle"
   ]
  },
  {
   "cell_type": "code",
   "execution_count": 2,
   "metadata": {},
   "outputs": [],
   "source": [
    "def text_cleaning(item):\n",
    "\n",
    "    #Removing \"\\n\" characters\n",
    "    item = re.sub(\"\\n\", \" \", item)\n",
    "    #Removing the [removed] characters\n",
    "    item = item.replace(\"[removed]\", \" \")\n",
    "    # Use regular expressions to do a find-and-replace\n",
    "    item = re.sub(\"[^a-zA-Z]\", \" \", item)\n",
    "    #Making all characters lower case\n",
    "    item = item.lower()\n",
    "    #Replacing multiple spaces\n",
    "    item = \" \".join(item.split())\n",
    "    #Removing stopwords\n",
    "    stops = stopwords.words(\"english\")\n",
    "    words = [w for w in item.split() if w not in stops]#stops\n",
    "    # Instantiate object of class PorterStemmer and stemming.\n",
    "    p_stemmer = PorterStemmer()\n",
    "    words = [p_stemmer.stem(i) for i in words]\n",
    "    # Adding space to stitch the words together\n",
    "    words = \" \".join(list(words)) \n",
    "    \n",
    "    return words"
   ]
  },
  {
   "cell_type": "code",
   "execution_count": null,
   "metadata": {},
   "outputs": [],
   "source": []
  }
 ],
 "metadata": {
  "kernelspec": {
   "display_name": "Python 3",
   "language": "python",
   "name": "python3"
  },
  "language_info": {
   "codemirror_mode": {
    "name": "ipython",
    "version": 3
   },
   "file_extension": ".py",
   "mimetype": "text/x-python",
   "name": "python",
   "nbconvert_exporter": "python",
   "pygments_lexer": "ipython3",
   "version": "3.6.4"
  }
 },
 "nbformat": 4,
 "nbformat_minor": 4
}
