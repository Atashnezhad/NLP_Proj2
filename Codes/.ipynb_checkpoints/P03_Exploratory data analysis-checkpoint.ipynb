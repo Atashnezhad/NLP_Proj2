{
 "cells": [
  {
   "cell_type": "markdown",
   "metadata": {},
   "source": [
    "# Exploratory data analysis"
   ]
  },
  {
   "cell_type": "code",
   "execution_count": 1,
   "metadata": {},
   "outputs": [],
   "source": [
    "# !pip install regex\n",
    "# !pip install wheel\n",
    "# !apt-get install python3"
   ]
  },
  {
   "cell_type": "code",
   "execution_count": 2,
   "metadata": {},
   "outputs": [],
   "source": [
    "#imports\n",
    "import numpy as np\n",
    "import pandas as pd\n",
    "import matplotlib.pylab as plt\n",
    "import seaborn as sns\n",
    "import collections\n",
    "import regex as re\n",
    "import nltk\n",
    "#nltk.download('vader_lexicon')\n",
    "from nltk.sentiment.vader import SentimentIntensityAnalyzer\n",
    "from sklearn.feature_extraction.text import CountVectorizer\n",
    "from sklearn.linear_model import LinearRegression\n",
    "\n",
    "import warnings\n",
    "warnings.filterwarnings('ignore')\n",
    "warnings.simplefilter(action='ignore', category=FutureWarning)\n",
    "\n",
    "\n",
    "from nltk.corpus import stopwords\n",
    "\n",
    "import pickle\n",
    "\n",
    "%config InlineBackend.figure_format = 'retina'"
   ]
  },
  {
   "cell_type": "code",
   "execution_count": 3,
   "metadata": {},
   "outputs": [
    {
     "data": {
      "text/html": [
       "<div>\n",
       "<style scoped>\n",
       "    .dataframe tbody tr th:only-of-type {\n",
       "        vertical-align: middle;\n",
       "    }\n",
       "\n",
       "    .dataframe tbody tr th {\n",
       "        vertical-align: top;\n",
       "    }\n",
       "\n",
       "    .dataframe thead th {\n",
       "        text-align: right;\n",
       "    }\n",
       "</style>\n",
       "<table border=\"1\" class=\"dataframe\">\n",
       "  <thead>\n",
       "    <tr style=\"text-align: right;\">\n",
       "      <th></th>\n",
       "      <th>author</th>\n",
       "      <th>created_utc</th>\n",
       "      <th>domain</th>\n",
       "      <th>id</th>\n",
       "      <th>num_comments</th>\n",
       "      <th>over_18</th>\n",
       "      <th>post_hint</th>\n",
       "      <th>score</th>\n",
       "      <th>text_merged</th>\n",
       "      <th>subreddit</th>\n",
       "    </tr>\n",
       "  </thead>\n",
       "  <tbody>\n",
       "    <tr>\n",
       "      <th>0</th>\n",
       "      <td>illichian</td>\n",
       "      <td>1579413305</td>\n",
       "      <td>i.imgur.com</td>\n",
       "      <td>eqsltj</td>\n",
       "      <td>2</td>\n",
       "      <td>False</td>\n",
       "      <td>link</td>\n",
       "      <td>1</td>\n",
       "      <td>star shine saturn ring</td>\n",
       "      <td>NASA</td>\n",
       "    </tr>\n",
       "    <tr>\n",
       "      <th>1</th>\n",
       "      <td>itstie</td>\n",
       "      <td>1579412680</td>\n",
       "      <td>i.redd.it</td>\n",
       "      <td>eqsibf</td>\n",
       "      <td>0</td>\n",
       "      <td>False</td>\n",
       "      <td>Empty</td>\n",
       "      <td>1</td>\n",
       "      <td>smithsonian nation air space museum</td>\n",
       "      <td>NASA</td>\n",
       "    </tr>\n",
       "    <tr>\n",
       "      <th>2</th>\n",
       "      <td>NASA_POTD_bot</td>\n",
       "      <td>1579410507</td>\n",
       "      <td>apod.nasa.gov</td>\n",
       "      <td>eqs6cb</td>\n",
       "      <td>0</td>\n",
       "      <td>False</td>\n",
       "      <td>Empty</td>\n",
       "      <td>1</td>\n",
       "      <td>incred expand crab nebula</td>\n",
       "      <td>NASA</td>\n",
       "    </tr>\n",
       "    <tr>\n",
       "      <th>3</th>\n",
       "      <td>AMC-Eagle85</td>\n",
       "      <td>1579410277</td>\n",
       "      <td>i.redd.it</td>\n",
       "      <td>eqs4zd</td>\n",
       "      <td>6</td>\n",
       "      <td>False</td>\n",
       "      <td>Empty</td>\n",
       "      <td>1</td>\n",
       "      <td>columbia readi st</td>\n",
       "      <td>NASA</td>\n",
       "    </tr>\n",
       "    <tr>\n",
       "      <th>4</th>\n",
       "      <td>BorisTheSpacePerson</td>\n",
       "      <td>1579404939</td>\n",
       "      <td>i.redd.it</td>\n",
       "      <td>eqr7wu</td>\n",
       "      <td>0</td>\n",
       "      <td>False</td>\n",
       "      <td>Empty</td>\n",
       "      <td>1</td>\n",
       "      <td>went ksc christma got see made interest spacef...</td>\n",
       "      <td>NASA</td>\n",
       "    </tr>\n",
       "  </tbody>\n",
       "</table>\n",
       "</div>"
      ],
      "text/plain": [
       "                author  created_utc         domain      id  num_comments  \\\n",
       "0            illichian   1579413305    i.imgur.com  eqsltj             2   \n",
       "1               itstie   1579412680      i.redd.it  eqsibf             0   \n",
       "2        NASA_POTD_bot   1579410507  apod.nasa.gov  eqs6cb             0   \n",
       "3          AMC-Eagle85   1579410277      i.redd.it  eqs4zd             6   \n",
       "4  BorisTheSpacePerson   1579404939      i.redd.it  eqr7wu             0   \n",
       "\n",
       "   over_18 post_hint  score  \\\n",
       "0    False      link      1   \n",
       "1    False     Empty      1   \n",
       "2    False     Empty      1   \n",
       "3    False     Empty      1   \n",
       "4    False     Empty      1   \n",
       "\n",
       "                                         text_merged subreddit  \n",
       "0                             star shine saturn ring      NASA  \n",
       "1                smithsonian nation air space museum      NASA  \n",
       "2                          incred expand crab nebula      NASA  \n",
       "3                                  columbia readi st      NASA  \n",
       "4  went ksc christma got see made interest spacef...      NASA  "
      ]
     },
     "execution_count": 3,
     "metadata": {},
     "output_type": "execute_result"
    }
   ],
   "source": [
    "df_reddit = pickle.load(open('../DataSet/df_reddit.pkl', 'rb'))\n",
    "df_reddit.head()"
   ]
  },
  {
   "cell_type": "code",
   "execution_count": 4,
   "metadata": {},
   "outputs": [
    {
     "data": {
      "text/plain": [
       "(12000, 10)"
      ]
     },
     "execution_count": 4,
     "metadata": {},
     "output_type": "execute_result"
    }
   ],
   "source": [
    "df_reddit.shape"
   ]
  },
  {
   "cell_type": "code",
   "execution_count": 5,
   "metadata": {},
   "outputs": [
    {
     "name": "stdout",
     "output_type": "stream",
     "text": [
      "<class 'pandas.core.frame.DataFrame'>\n",
      "RangeIndex: 12000 entries, 0 to 11999\n",
      "Data columns (total 10 columns):\n",
      " #   Column        Non-Null Count  Dtype \n",
      "---  ------        --------------  ----- \n",
      " 0   author        12000 non-null  object\n",
      " 1   created_utc   12000 non-null  int64 \n",
      " 2   domain        12000 non-null  object\n",
      " 3   id            12000 non-null  object\n",
      " 4   num_comments  12000 non-null  int64 \n",
      " 5   over_18       12000 non-null  bool  \n",
      " 6   post_hint     12000 non-null  object\n",
      " 7   score         12000 non-null  int64 \n",
      " 8   text_merged   12000 non-null  object\n",
      " 9   subreddit     12000 non-null  object\n",
      "dtypes: bool(1), int64(3), object(6)\n",
      "memory usage: 855.6+ KB\n"
     ]
    }
   ],
   "source": [
    "df_reddit.info()"
   ]
  },
  {
   "cell_type": "markdown",
   "metadata": {},
   "source": [
    "## Exploratory data analysis on data.\n",
    "\n",
    "* Count the number of words on text and add a new column with number of words.\n",
    "* Apply sentiment analyzer on each text and add it as a new column.\n",
    "* seperate the date and add it to data."
   ]
  },
  {
   "cell_type": "code",
   "execution_count": 6,
   "metadata": {},
   "outputs": [
    {
     "name": "stderr",
     "output_type": "stream",
     "text": [
      "[nltk_data] Downloading package vader_lexicon to C:\\Users\\DASLAB\n",
      "[nltk_data]     Hareland 3\\AppData\\Roaming\\nltk_data...\n",
      "[nltk_data]   Package vader_lexicon is already up-to-date!\n"
     ]
    }
   ],
   "source": [
    "nltk.download('vader_lexicon')\n",
    "# Mighani Approach:\n",
    "#Counting the charcaters and word in \"text_merged\"\n",
    "#df_reddit[\"text_char_count\"] = df_reddit[\"text_merged\"].map(lambda x: len(x))\n",
    "df_reddit[\"word_count*\"] = df_reddit[\"text_merged\"].map(lambda x: len(x.split(\" \")))\n",
    "\n",
    "#Sentiment analyzer\n",
    "sent = SentimentIntensityAnalyzer()\n",
    "\n",
    "df_reddit['sentiment_score*'] = df_reddit[\"text_merged\"].apply(lambda x: sent.polarity_scores(x)['compound'])\n",
    "\n",
    "df_reddit['date'] = pd.to_datetime(df_reddit['created_utc'],unit='s')"
   ]
  },
  {
   "cell_type": "code",
   "execution_count": 7,
   "metadata": {},
   "outputs": [
    {
     "data": {
      "text/plain": [
       "(12000, 13)"
      ]
     },
     "execution_count": 7,
     "metadata": {},
     "output_type": "execute_result"
    }
   ],
   "source": [
    "df_reddit.shape"
   ]
  },
  {
   "cell_type": "code",
   "execution_count": 8,
   "metadata": {},
   "outputs": [
    {
     "name": "stdout",
     "output_type": "stream",
     "text": [
      "<class 'pandas.core.frame.DataFrame'>\n",
      "RangeIndex: 12000 entries, 0 to 11999\n",
      "Data columns (total 13 columns):\n",
      " #   Column            Non-Null Count  Dtype         \n",
      "---  ------            --------------  -----         \n",
      " 0   author            12000 non-null  object        \n",
      " 1   created_utc       12000 non-null  int64         \n",
      " 2   domain            12000 non-null  object        \n",
      " 3   id                12000 non-null  object        \n",
      " 4   num_comments      12000 non-null  int64         \n",
      " 5   over_18           12000 non-null  bool          \n",
      " 6   post_hint         12000 non-null  object        \n",
      " 7   score             12000 non-null  int64         \n",
      " 8   text_merged       12000 non-null  object        \n",
      " 9   subreddit         12000 non-null  object        \n",
      " 10  word_count*       12000 non-null  int64         \n",
      " 11  sentiment_score*  12000 non-null  float64       \n",
      " 12  date              12000 non-null  datetime64[ns]\n",
      "dtypes: bool(1), datetime64[ns](1), float64(1), int64(4), object(6)\n",
      "memory usage: 1.1+ MB\n"
     ]
    }
   ],
   "source": [
    "df_reddit.info()"
   ]
  },
  {
   "cell_type": "markdown",
   "metadata": {},
   "source": [
    "Lets turn the subreddit column to numerical values."
   ]
  },
  {
   "cell_type": "code",
   "execution_count": 9,
   "metadata": {},
   "outputs": [],
   "source": [
    "df_reddit['target'] = df_reddit['subreddit'].replace({\"NASA\": 1, \"Space_discussion\": 0})\n",
    "targets = df_reddit['target']"
   ]
  },
  {
   "cell_type": "code",
   "execution_count": 10,
   "metadata": {},
   "outputs": [
    {
     "data": {
      "text/html": [
       "<div>\n",
       "<style scoped>\n",
       "    .dataframe tbody tr th:only-of-type {\n",
       "        vertical-align: middle;\n",
       "    }\n",
       "\n",
       "    .dataframe tbody tr th {\n",
       "        vertical-align: top;\n",
       "    }\n",
       "\n",
       "    .dataframe thead th {\n",
       "        text-align: right;\n",
       "    }\n",
       "</style>\n",
       "<table border=\"1\" class=\"dataframe\">\n",
       "  <thead>\n",
       "    <tr style=\"text-align: right;\">\n",
       "      <th></th>\n",
       "      <th>author</th>\n",
       "      <th>created_utc</th>\n",
       "      <th>domain</th>\n",
       "      <th>id</th>\n",
       "      <th>num_comments</th>\n",
       "      <th>over_18</th>\n",
       "      <th>post_hint</th>\n",
       "      <th>score</th>\n",
       "      <th>text_merged</th>\n",
       "      <th>subreddit</th>\n",
       "      <th>word_count*</th>\n",
       "      <th>sentiment_score*</th>\n",
       "      <th>date</th>\n",
       "      <th>target</th>\n",
       "    </tr>\n",
       "  </thead>\n",
       "  <tbody>\n",
       "    <tr>\n",
       "      <th>0</th>\n",
       "      <td>illichian</td>\n",
       "      <td>1579413305</td>\n",
       "      <td>i.imgur.com</td>\n",
       "      <td>eqsltj</td>\n",
       "      <td>2</td>\n",
       "      <td>False</td>\n",
       "      <td>link</td>\n",
       "      <td>1</td>\n",
       "      <td>star shine saturn ring</td>\n",
       "      <td>NASA</td>\n",
       "      <td>4</td>\n",
       "      <td>0.0000</td>\n",
       "      <td>2020-01-19 05:55:05</td>\n",
       "      <td>1</td>\n",
       "    </tr>\n",
       "    <tr>\n",
       "      <th>1</th>\n",
       "      <td>itstie</td>\n",
       "      <td>1579412680</td>\n",
       "      <td>i.redd.it</td>\n",
       "      <td>eqsibf</td>\n",
       "      <td>0</td>\n",
       "      <td>False</td>\n",
       "      <td>Empty</td>\n",
       "      <td>1</td>\n",
       "      <td>smithsonian nation air space museum</td>\n",
       "      <td>NASA</td>\n",
       "      <td>5</td>\n",
       "      <td>0.0000</td>\n",
       "      <td>2020-01-19 05:44:40</td>\n",
       "      <td>1</td>\n",
       "    </tr>\n",
       "    <tr>\n",
       "      <th>2</th>\n",
       "      <td>NASA_POTD_bot</td>\n",
       "      <td>1579410507</td>\n",
       "      <td>apod.nasa.gov</td>\n",
       "      <td>eqs6cb</td>\n",
       "      <td>0</td>\n",
       "      <td>False</td>\n",
       "      <td>Empty</td>\n",
       "      <td>1</td>\n",
       "      <td>incred expand crab nebula</td>\n",
       "      <td>NASA</td>\n",
       "      <td>4</td>\n",
       "      <td>0.3182</td>\n",
       "      <td>2020-01-19 05:08:27</td>\n",
       "      <td>1</td>\n",
       "    </tr>\n",
       "    <tr>\n",
       "      <th>3</th>\n",
       "      <td>AMC-Eagle85</td>\n",
       "      <td>1579410277</td>\n",
       "      <td>i.redd.it</td>\n",
       "      <td>eqs4zd</td>\n",
       "      <td>6</td>\n",
       "      <td>False</td>\n",
       "      <td>Empty</td>\n",
       "      <td>1</td>\n",
       "      <td>columbia readi st</td>\n",
       "      <td>NASA</td>\n",
       "      <td>3</td>\n",
       "      <td>0.0000</td>\n",
       "      <td>2020-01-19 05:04:37</td>\n",
       "      <td>1</td>\n",
       "    </tr>\n",
       "    <tr>\n",
       "      <th>4</th>\n",
       "      <td>BorisTheSpacePerson</td>\n",
       "      <td>1579404939</td>\n",
       "      <td>i.redd.it</td>\n",
       "      <td>eqr7wu</td>\n",
       "      <td>0</td>\n",
       "      <td>False</td>\n",
       "      <td>Empty</td>\n",
       "      <td>1</td>\n",
       "      <td>went ksc christma got see made interest spacef...</td>\n",
       "      <td>NASA</td>\n",
       "      <td>8</td>\n",
       "      <td>0.4588</td>\n",
       "      <td>2020-01-19 03:35:39</td>\n",
       "      <td>1</td>\n",
       "    </tr>\n",
       "  </tbody>\n",
       "</table>\n",
       "</div>"
      ],
      "text/plain": [
       "                author  created_utc         domain      id  num_comments  \\\n",
       "0            illichian   1579413305    i.imgur.com  eqsltj             2   \n",
       "1               itstie   1579412680      i.redd.it  eqsibf             0   \n",
       "2        NASA_POTD_bot   1579410507  apod.nasa.gov  eqs6cb             0   \n",
       "3          AMC-Eagle85   1579410277      i.redd.it  eqs4zd             6   \n",
       "4  BorisTheSpacePerson   1579404939      i.redd.it  eqr7wu             0   \n",
       "\n",
       "   over_18 post_hint  score  \\\n",
       "0    False      link      1   \n",
       "1    False     Empty      1   \n",
       "2    False     Empty      1   \n",
       "3    False     Empty      1   \n",
       "4    False     Empty      1   \n",
       "\n",
       "                                         text_merged subreddit  word_count*  \\\n",
       "0                             star shine saturn ring      NASA            4   \n",
       "1                smithsonian nation air space museum      NASA            5   \n",
       "2                          incred expand crab nebula      NASA            4   \n",
       "3                                  columbia readi st      NASA            3   \n",
       "4  went ksc christma got see made interest spacef...      NASA            8   \n",
       "\n",
       "   sentiment_score*                date  target  \n",
       "0            0.0000 2020-01-19 05:55:05       1  \n",
       "1            0.0000 2020-01-19 05:44:40       1  \n",
       "2            0.3182 2020-01-19 05:08:27       1  \n",
       "3            0.0000 2020-01-19 05:04:37       1  \n",
       "4            0.4588 2020-01-19 03:35:39       1  "
      ]
     },
     "execution_count": 10,
     "metadata": {},
     "output_type": "execute_result"
    }
   ],
   "source": [
    "df_reddit.head()"
   ]
  },
  {
   "cell_type": "markdown",
   "metadata": {},
   "source": [
    "Drop the column named domain below."
   ]
  },
  {
   "cell_type": "code",
   "execution_count": 11,
   "metadata": {},
   "outputs": [],
   "source": [
    "cols = ['domain', 'author', 'created_utc', 'id', 'num_comments', 'over_18', 'post_hint',\n",
    "       'score', 'date', 'subreddit']\n",
    "\n",
    "df_reddit.drop(columns=cols, inplace = True)"
   ]
  },
  {
   "cell_type": "code",
   "execution_count": 12,
   "metadata": {},
   "outputs": [
    {
     "data": {
      "text/html": [
       "<div>\n",
       "<style scoped>\n",
       "    .dataframe tbody tr th:only-of-type {\n",
       "        vertical-align: middle;\n",
       "    }\n",
       "\n",
       "    .dataframe tbody tr th {\n",
       "        vertical-align: top;\n",
       "    }\n",
       "\n",
       "    .dataframe thead th {\n",
       "        text-align: right;\n",
       "    }\n",
       "</style>\n",
       "<table border=\"1\" class=\"dataframe\">\n",
       "  <thead>\n",
       "    <tr style=\"text-align: right;\">\n",
       "      <th></th>\n",
       "      <th>text_merged</th>\n",
       "      <th>word_count*</th>\n",
       "      <th>sentiment_score*</th>\n",
       "      <th>target</th>\n",
       "    </tr>\n",
       "  </thead>\n",
       "  <tbody>\n",
       "    <tr>\n",
       "      <th>0</th>\n",
       "      <td>star shine saturn ring</td>\n",
       "      <td>4</td>\n",
       "      <td>0.0000</td>\n",
       "      <td>1</td>\n",
       "    </tr>\n",
       "    <tr>\n",
       "      <th>1</th>\n",
       "      <td>smithsonian nation air space museum</td>\n",
       "      <td>5</td>\n",
       "      <td>0.0000</td>\n",
       "      <td>1</td>\n",
       "    </tr>\n",
       "    <tr>\n",
       "      <th>2</th>\n",
       "      <td>incred expand crab nebula</td>\n",
       "      <td>4</td>\n",
       "      <td>0.3182</td>\n",
       "      <td>1</td>\n",
       "    </tr>\n",
       "    <tr>\n",
       "      <th>3</th>\n",
       "      <td>columbia readi st</td>\n",
       "      <td>3</td>\n",
       "      <td>0.0000</td>\n",
       "      <td>1</td>\n",
       "    </tr>\n",
       "    <tr>\n",
       "      <th>4</th>\n",
       "      <td>went ksc christma got see made interest spacef...</td>\n",
       "      <td>8</td>\n",
       "      <td>0.4588</td>\n",
       "      <td>1</td>\n",
       "    </tr>\n",
       "  </tbody>\n",
       "</table>\n",
       "</div>"
      ],
      "text/plain": [
       "                                         text_merged  word_count*  \\\n",
       "0                             star shine saturn ring            4   \n",
       "1                smithsonian nation air space museum            5   \n",
       "2                          incred expand crab nebula            4   \n",
       "3                                  columbia readi st            3   \n",
       "4  went ksc christma got see made interest spacef...            8   \n",
       "\n",
       "   sentiment_score*  target  \n",
       "0            0.0000       1  \n",
       "1            0.0000       1  \n",
       "2            0.3182       1  \n",
       "3            0.0000       1  \n",
       "4            0.4588       1  "
      ]
     },
     "execution_count": 12,
     "metadata": {},
     "output_type": "execute_result"
    }
   ],
   "source": [
    "df_reddit.head()"
   ]
  },
  {
   "cell_type": "code",
   "execution_count": 13,
   "metadata": {},
   "outputs": [
    {
     "name": "stdout",
     "output_type": "stream",
     "text": [
      "target            0            1\n",
      "count   6000.000000  6000.000000\n",
      "mean      16.488333    13.118500\n",
      "std       38.869637    26.267733\n",
      "min        1.000000     1.000000\n",
      "25%        5.000000     4.000000\n",
      "50%        8.000000     7.000000\n",
      "75%       15.000000    11.000000\n",
      "max     1005.000000   552.000000\n"
     ]
    }
   ],
   "source": [
    "print(df_reddit.groupby(\"target\")[\"word_count*\"].describe().T)"
   ]
  },
  {
   "cell_type": "code",
   "execution_count": 14,
   "metadata": {},
   "outputs": [
    {
     "name": "stdout",
     "output_type": "stream",
     "text": [
      "target            0            1\n",
      "count   6000.000000  6000.000000\n",
      "mean       0.099742     0.104667\n",
      "std        0.313117     0.293992\n",
      "min       -0.996700    -0.972300\n",
      "25%        0.000000     0.000000\n",
      "50%        0.000000     0.000000\n",
      "75%        0.226300     0.077200\n",
      "max        0.998500     0.994000\n"
     ]
    }
   ],
   "source": [
    "print(df_reddit.groupby(\"target\")[\"sentiment_score*\"].describe().T)"
   ]
  },
  {
   "cell_type": "markdown",
   "metadata": {},
   "source": [
    "Keep the track of nasa and space_discussion as follow."
   ]
  },
  {
   "cell_type": "code",
   "execution_count": 15,
   "metadata": {},
   "outputs": [],
   "source": [
    "sub_nasa_mask = df_reddit[\"target\"] == 1\n",
    "sub_space_mask = df_reddit[\"target\"] == 0"
   ]
  },
  {
   "cell_type": "code",
   "execution_count": 16,
   "metadata": {},
   "outputs": [
    {
     "data": {
      "image/png": "[encoded data removed]",
      "text/plain": [
       "<Figure size 1080x360 with 2 Axes>"
      ]
     },
     "metadata": {
      "image/png": {
       "height": 332,
       "width": 897
      },
      "needs_background": "light"
     },
     "output_type": "display_data"
    }
   ],
   "source": [
    "plt.figure(figsize=(15,5))\n",
    "\n",
    "\n",
    "plt.subplot(1, 2, 1)\n",
    "plt.hist([df_reddit[sub_nasa_mask]['word_count*'], \n",
    "          df_reddit[sub_space_mask]['word_count*']],\n",
    "          bins=20, ec='k', density=False)\n",
    "plt.title('Character Count distribution by Class', fontsize=12)\n",
    "plt.legend(['NASA', 'Space_discussion'])\n",
    "plt.xlabel('word count'); plt.ylabel('density')\n",
    "\n",
    "\n",
    "plt.subplot(1, 2, 2)\n",
    "plt.hist([df_reddit[sub_nasa_mask]['sentiment_score*'], \n",
    "          df_reddit[sub_space_mask]['sentiment_score*']],\n",
    "          bins=20, ec='k', density=False)\n",
    "plt.title('Sentiment score distrubution by Class', fontsize=12)\n",
    "plt.legend(['NASA', 'Space_discussion'])\n",
    "plt.xlabel('sentiment_score'); plt.ylabel('density')\n",
    "\n",
    "plt.savefig(\"../Figures/distribution_plots.png\")"
   ]
  },
  {
   "cell_type": "markdown",
   "metadata": {},
   "source": [
    "Check out the corrolation between variables."
   ]
  },
  {
   "cell_type": "code",
   "execution_count": 17,
   "metadata": {},
   "outputs": [],
   "source": [
    "df_reddit_corr = df_reddit.corr()"
   ]
  },
  {
   "cell_type": "code",
   "execution_count": 18,
   "metadata": {},
   "outputs": [
    {
     "data": {
      "text/html": [
       "<div>\n",
       "<style scoped>\n",
       "    .dataframe tbody tr th:only-of-type {\n",
       "        vertical-align: middle;\n",
       "    }\n",
       "\n",
       "    .dataframe tbody tr th {\n",
       "        vertical-align: top;\n",
       "    }\n",
       "\n",
       "    .dataframe thead th {\n",
       "        text-align: right;\n",
       "    }\n",
       "</style>\n",
       "<table border=\"1\" class=\"dataframe\">\n",
       "  <thead>\n",
       "    <tr style=\"text-align: right;\">\n",
       "      <th></th>\n",
       "      <th>word_count*</th>\n",
       "      <th>sentiment_score*</th>\n",
       "      <th>target</th>\n",
       "    </tr>\n",
       "  </thead>\n",
       "  <tbody>\n",
       "    <tr>\n",
       "      <th>word_count*</th>\n",
       "      <td>1.000000</td>\n",
       "      <td>0.291378</td>\n",
       "      <td>-0.050731</td>\n",
       "    </tr>\n",
       "    <tr>\n",
       "      <th>sentiment_score*</th>\n",
       "      <td>0.291378</td>\n",
       "      <td>1.000000</td>\n",
       "      <td>0.008109</td>\n",
       "    </tr>\n",
       "    <tr>\n",
       "      <th>target</th>\n",
       "      <td>-0.050731</td>\n",
       "      <td>0.008109</td>\n",
       "      <td>1.000000</td>\n",
       "    </tr>\n",
       "  </tbody>\n",
       "</table>\n",
       "</div>"
      ],
      "text/plain": [
       "                  word_count*  sentiment_score*    target\n",
       "word_count*          1.000000          0.291378 -0.050731\n",
       "sentiment_score*     0.291378          1.000000  0.008109\n",
       "target              -0.050731          0.008109  1.000000"
      ]
     },
     "execution_count": 18,
     "metadata": {},
     "output_type": "execute_result"
    }
   ],
   "source": [
    "df_reddit_corr"
   ]
  },
  {
   "cell_type": "code",
   "execution_count": 19,
   "metadata": {},
   "outputs": [
    {
     "data": {
      "image/png": "[encoded data removed]",
      "text/plain": [
       "<Figure size 360x432 with 2 Axes>"
      ]
     },
     "metadata": {
      "image/png": {
       "height": 360,
       "width": 322
      },
      "needs_background": "light"
     },
     "output_type": "display_data"
    }
   ],
   "source": [
    "plt.figure(figsize=(5,6))\n",
    "sns.heatmap(df_reddit_corr[['target']].sort_values(by=['target'],ascending=False),\n",
    "            vmin=-1,\n",
    "            cmap='Dark2',\n",
    "            annot=True);\n",
    "\n",
    "plt.savefig(\"../Figures/EDA_corr_plot.png\")"
   ]
  },
  {
   "cell_type": "markdown",
   "metadata": {},
   "source": [
    "## Let's count vectorize the data\n",
    "\n",
    "* Add some stop words to the general list\n",
    "* Apply the new list of stop words list (extend)\n",
    "* Apply count vectorize to the data"
   ]
  },
  {
   "cell_type": "code",
   "execution_count": 20,
   "metadata": {},
   "outputs": [],
   "source": [
    "stopwords = nltk.corpus.stopwords.words('english')\n",
    "newStopWords = ['http', 'would', 'com']\n",
    "stopwords.extend(newStopWords)\n",
    "\n",
    "cvec = CountVectorizer(stop_words=stopwords, min_df=4, max_df=1.0,\n",
    "                       ngram_range=(1,2))"
   ]
  },
  {
   "cell_type": "code",
   "execution_count": 21,
   "metadata": {},
   "outputs": [],
   "source": [
    "term_mat = cvec.fit_transform(df_reddit['text_merged'])"
   ]
  },
  {
   "cell_type": "code",
   "execution_count": 22,
   "metadata": {},
   "outputs": [
    {
     "data": {
      "text/plain": [
       "7813"
      ]
     },
     "execution_count": 22,
     "metadata": {},
     "output_type": "execute_result"
    }
   ],
   "source": [
    "len(cvec.get_feature_names())"
   ]
  },
  {
   "cell_type": "code",
   "execution_count": 23,
   "metadata": {},
   "outputs": [],
   "source": [
    "term_df = pd.DataFrame(term_mat.toarray(), columns=cvec.get_feature_names())\n",
    "term_df.insert(0, 'targets', targets)"
   ]
  },
  {
   "cell_type": "code",
   "execution_count": 24,
   "metadata": {},
   "outputs": [
    {
     "data": {
      "text/html": [
       "<div>\n",
       "<style scoped>\n",
       "    .dataframe tbody tr th:only-of-type {\n",
       "        vertical-align: middle;\n",
       "    }\n",
       "\n",
       "    .dataframe tbody tr th {\n",
       "        vertical-align: top;\n",
       "    }\n",
       "\n",
       "    .dataframe thead th {\n",
       "        text-align: right;\n",
       "    }\n",
       "</style>\n",
       "<table border=\"1\" class=\"dataframe\">\n",
       "  <thead>\n",
       "    <tr style=\"text-align: right;\">\n",
       "      <th></th>\n",
       "      <th>targets</th>\n",
       "      <th>aa</th>\n",
       "      <th>ab</th>\n",
       "      <th>ab secret</th>\n",
       "      <th>abandon</th>\n",
       "      <th>abc</th>\n",
       "      <th>abil</th>\n",
       "      <th>abl</th>\n",
       "      <th>abl build</th>\n",
       "      <th>abl captur</th>\n",
       "      <th>...</th>\n",
       "      <th>zealand</th>\n",
       "      <th>zero</th>\n",
       "      <th>zero graviti</th>\n",
       "      <th>zip</th>\n",
       "      <th>zone</th>\n",
       "      <th>zoom</th>\n",
       "      <th>zoom see</th>\n",
       "      <th>zubrin</th>\n",
       "      <th>zvezda</th>\n",
       "      <th>zvezda servic</th>\n",
       "    </tr>\n",
       "  </thead>\n",
       "  <tbody>\n",
       "    <tr>\n",
       "      <th>0</th>\n",
       "      <td>1</td>\n",
       "      <td>0</td>\n",
       "      <td>0</td>\n",
       "      <td>0</td>\n",
       "      <td>0</td>\n",
       "      <td>0</td>\n",
       "      <td>0</td>\n",
       "      <td>0</td>\n",
       "      <td>0</td>\n",
       "      <td>0</td>\n",
       "      <td>...</td>\n",
       "      <td>0</td>\n",
       "      <td>0</td>\n",
       "      <td>0</td>\n",
       "      <td>0</td>\n",
       "      <td>0</td>\n",
       "      <td>0</td>\n",
       "      <td>0</td>\n",
       "      <td>0</td>\n",
       "      <td>0</td>\n",
       "      <td>0</td>\n",
       "    </tr>\n",
       "    <tr>\n",
       "      <th>1</th>\n",
       "      <td>1</td>\n",
       "      <td>0</td>\n",
       "      <td>0</td>\n",
       "      <td>0</td>\n",
       "      <td>0</td>\n",
       "      <td>0</td>\n",
       "      <td>0</td>\n",
       "      <td>0</td>\n",
       "      <td>0</td>\n",
       "      <td>0</td>\n",
       "      <td>...</td>\n",
       "      <td>0</td>\n",
       "      <td>0</td>\n",
       "      <td>0</td>\n",
       "      <td>0</td>\n",
       "      <td>0</td>\n",
       "      <td>0</td>\n",
       "      <td>0</td>\n",
       "      <td>0</td>\n",
       "      <td>0</td>\n",
       "      <td>0</td>\n",
       "    </tr>\n",
       "    <tr>\n",
       "      <th>2</th>\n",
       "      <td>1</td>\n",
       "      <td>0</td>\n",
       "      <td>0</td>\n",
       "      <td>0</td>\n",
       "      <td>0</td>\n",
       "      <td>0</td>\n",
       "      <td>0</td>\n",
       "      <td>0</td>\n",
       "      <td>0</td>\n",
       "      <td>0</td>\n",
       "      <td>...</td>\n",
       "      <td>0</td>\n",
       "      <td>0</td>\n",
       "      <td>0</td>\n",
       "      <td>0</td>\n",
       "      <td>0</td>\n",
       "      <td>0</td>\n",
       "      <td>0</td>\n",
       "      <td>0</td>\n",
       "      <td>0</td>\n",
       "      <td>0</td>\n",
       "    </tr>\n",
       "    <tr>\n",
       "      <th>3</th>\n",
       "      <td>1</td>\n",
       "      <td>0</td>\n",
       "      <td>0</td>\n",
       "      <td>0</td>\n",
       "      <td>0</td>\n",
       "      <td>0</td>\n",
       "      <td>0</td>\n",
       "      <td>0</td>\n",
       "      <td>0</td>\n",
       "      <td>0</td>\n",
       "      <td>...</td>\n",
       "      <td>0</td>\n",
       "      <td>0</td>\n",
       "      <td>0</td>\n",
       "      <td>0</td>\n",
       "      <td>0</td>\n",
       "      <td>0</td>\n",
       "      <td>0</td>\n",
       "      <td>0</td>\n",
       "      <td>0</td>\n",
       "      <td>0</td>\n",
       "    </tr>\n",
       "    <tr>\n",
       "      <th>4</th>\n",
       "      <td>1</td>\n",
       "      <td>0</td>\n",
       "      <td>0</td>\n",
       "      <td>0</td>\n",
       "      <td>0</td>\n",
       "      <td>0</td>\n",
       "      <td>0</td>\n",
       "      <td>0</td>\n",
       "      <td>0</td>\n",
       "      <td>0</td>\n",
       "      <td>...</td>\n",
       "      <td>0</td>\n",
       "      <td>0</td>\n",
       "      <td>0</td>\n",
       "      <td>0</td>\n",
       "      <td>0</td>\n",
       "      <td>0</td>\n",
       "      <td>0</td>\n",
       "      <td>0</td>\n",
       "      <td>0</td>\n",
       "      <td>0</td>\n",
       "    </tr>\n",
       "  </tbody>\n",
       "</table>\n",
       "<p>5 rows × 7814 columns</p>\n",
       "</div>"
      ],
      "text/plain": [
       "   targets  aa  ab  ab secret  abandon  abc  abil  abl  abl build  abl captur  \\\n",
       "0        1   0   0          0        0    0     0    0          0           0   \n",
       "1        1   0   0          0        0    0     0    0          0           0   \n",
       "2        1   0   0          0        0    0     0    0          0           0   \n",
       "3        1   0   0          0        0    0     0    0          0           0   \n",
       "4        1   0   0          0        0    0     0    0          0           0   \n",
       "\n",
       "   ...  zealand  zero  zero graviti  zip  zone  zoom  zoom see  zubrin  \\\n",
       "0  ...        0     0             0    0     0     0         0       0   \n",
       "1  ...        0     0             0    0     0     0         0       0   \n",
       "2  ...        0     0             0    0     0     0         0       0   \n",
       "3  ...        0     0             0    0     0     0         0       0   \n",
       "4  ...        0     0             0    0     0     0         0       0   \n",
       "\n",
       "   zvezda  zvezda servic  \n",
       "0       0              0  \n",
       "1       0              0  \n",
       "2       0              0  \n",
       "3       0              0  \n",
       "4       0              0  \n",
       "\n",
       "[5 rows x 7814 columns]"
      ]
     },
     "execution_count": 24,
     "metadata": {},
     "output_type": "execute_result"
    }
   ],
   "source": [
    "term_df.head()"
   ]
  },
  {
   "cell_type": "code",
   "execution_count": 25,
   "metadata": {},
   "outputs": [],
   "source": [
    "# term_df.groupby('targets').mean().T"
   ]
  },
  {
   "cell_type": "code",
   "execution_count": 26,
   "metadata": {},
   "outputs": [],
   "source": [
    "# term_df.groupby('targets').mean().T.sort_values(0, ascending=False)"
   ]
  },
  {
   "cell_type": "code",
   "execution_count": 27,
   "metadata": {},
   "outputs": [
    {
     "data": {
      "text/plain": [
       "['nasa',\n",
       " 'space',\n",
       " 'moon',\n",
       " 'earth',\n",
       " 'mar',\n",
       " 'year',\n",
       " 'launch',\n",
       " 'like',\n",
       " 'one',\n",
       " 'first',\n",
       " 'new',\n",
       " 'amp',\n",
       " 'time']"
      ]
     },
     "execution_count": 27,
     "metadata": {},
     "output_type": "execute_result"
    }
   ],
   "source": [
    "top_words_nasa = list(term_df.groupby('targets').\n",
    "    mean().T.sort_values(0, ascending=False).head(20).index)\n",
    "\n",
    "top_words_space_dis = list(term_df.groupby('targets').\n",
    "    mean().T.sort_values(1, ascending=False).head(20).index)\n",
    "\n",
    "top_words_overlap = [word for word in top_words_space_dis if word in top_words_nasa]\n",
    "top_words_overlap"
   ]
  },
  {
   "cell_type": "markdown",
   "metadata": {},
   "source": [
    "### Number of characters present in each sentence"
   ]
  },
  {
   "cell_type": "code",
   "execution_count": 28,
   "metadata": {},
   "outputs": [
    {
     "data": {
      "text/plain": [
       "<matplotlib.axes._subplots.AxesSubplot at 0x21156036f28>"
      ]
     },
     "execution_count": 28,
     "metadata": {},
     "output_type": "execute_result"
    },
    {
     "data": {
      "image/png": "[encoded data removed]",
      "text/plain": [
       "<Figure size 432x288 with 1 Axes>"
      ]
     },
     "metadata": {
      "image/png": {
       "height": 248,
       "width": 388
      },
      "needs_background": "light"
     },
     "output_type": "display_data"
    }
   ],
   "source": [
    "df_reddit['text_merged'].str.len().hist()\n",
    "# plt.xscale('log')"
   ]
  },
  {
   "cell_type": "markdown",
   "metadata": {},
   "source": [
    "### Average word length in each sentence"
   ]
  },
  {
   "cell_type": "code",
   "execution_count": 29,
   "metadata": {},
   "outputs": [
    {
     "data": {
      "text/plain": [
       "<matplotlib.axes._subplots.AxesSubplot at 0x21155d23a20>"
      ]
     },
     "execution_count": 29,
     "metadata": {},
     "output_type": "execute_result"
    },
    {
     "data": {
      "image/png": "[encoded data removed]",
      "text/plain": [
       "<Figure size 432x288 with 1 Axes>"
      ]
     },
     "metadata": {
      "image/png": {
       "height": 248,
       "width": 381
      },
      "needs_background": "light"
     },
     "output_type": "display_data"
    }
   ],
   "source": [
    "df_reddit['text_merged'].str.split().\\\n",
    "   apply(lambda x : [len(i) for i in x]). \\\n",
    "   map(lambda x: np.mean(x)).hist()"
   ]
  },
  {
   "cell_type": "markdown",
   "metadata": {},
   "source": [
    "### Inspect which words other than stopwords occur frequently"
   ]
  },
  {
   "cell_type": "code",
   "execution_count": 32,
   "metadata": {},
   "outputs": [
    {
     "data": {
      "image/png": "[encoded data removed]",
      "text/plain": [
       "<Figure size 720x360 with 1 Axes>"
      ]
     },
     "metadata": {
      "image/png": {
       "height": 302,
       "width": 627
      },
      "needs_background": "light"
     },
     "output_type": "display_data"
    }
   ],
   "source": [
    "corpus=[]\n",
    "new= df_reddit['text_merged'].str.split()\n",
    "new=new.values.tolist()\n",
    "corpus=[word for i in new for word in i]\n",
    "from collections import defaultdict\n",
    "dic=defaultdict(int)\n",
    "for word in corpus:\n",
    "    if word in stopwords:\n",
    "        dic[word]+=1\n",
    "\n",
    "\n",
    "plt.figure(figsize=(10,5))\n",
    "counter=collections.Counter(corpus)\n",
    "most=counter.most_common()\n",
    "x, y= [], []\n",
    "for word,count in most[:20]:\n",
    "    if (word not in stopwords):\n",
    "        x.append(word)\n",
    "        y.append(count)\n",
    "        \n",
    "a = sns.barplot(x=y,y=x)"
   ]
  },
  {
   "cell_type": "markdown",
   "metadata": {},
   "source": [
    "nasa, space, moon and earth are top words in comments."
   ]
  },
  {
   "cell_type": "markdown",
   "metadata": {},
   "source": [
    "### Looking at most frequent n-grams can give you a better understanding of the context "
   ]
  },
  {
   "cell_type": "code",
   "execution_count": 33,
   "metadata": {},
   "outputs": [],
   "source": [
    "from nltk.util import ngrams"
   ]
  },
  {
   "cell_type": "markdown",
   "metadata": {},
   "source": [
    "### Bigrams"
   ]
  },
  {
   "cell_type": "code",
   "execution_count": 34,
   "metadata": {},
   "outputs": [
    {
     "data": {
      "text/plain": [
       "<matplotlib.axes._subplots.AxesSubplot at 0x21156deec88>"
      ]
     },
     "execution_count": 34,
     "metadata": {},
     "output_type": "execute_result"
    },
    {
     "data": {
      "image/png": "[encoded data removed]",
      "text/plain": [
       "<Figure size 720x360 with 1 Axes>"
      ]
     },
     "metadata": {
      "image/png": {
       "height": 302,
       "width": 655
      },
      "needs_background": "light"
     },
     "output_type": "display_data"
    }
   ],
   "source": [
    "def get_top_ngram(corpus, n=None):\n",
    "    vec = CountVectorizer(ngram_range=(n, n)).fit(corpus)\n",
    "    bag_of_words = vec.transform(corpus)\n",
    "    sum_words = bag_of_words.sum(axis=0) \n",
    "    words_freq = [(word, sum_words[0, idx]) \n",
    "                  for word, idx in vec.vocabulary_.items()]\n",
    "    words_freq =sorted(words_freq, key = lambda x: x[1], reverse=True)\n",
    "    return words_freq[:20]\n",
    "\n",
    "top_n_bigrams=get_top_ngram(df_reddit['text_merged'],2)[:20]\n",
    "x,y=map(list,zip(*top_n_bigrams))\n",
    "plt.figure(figsize=(10,5))\n",
    "sns.barplot(x=y,y=x)"
   ]
  },
  {
   "cell_type": "markdown",
   "metadata": {},
   "source": [
    "### Trigrams"
   ]
  },
  {
   "cell_type": "code",
   "execution_count": 35,
   "metadata": {},
   "outputs": [
    {
     "data": {
      "text/plain": [
       "<matplotlib.axes._subplots.AxesSubplot at 0x2115704c048>"
      ]
     },
     "execution_count": 35,
     "metadata": {},
     "output_type": "execute_result"
    },
    {
     "data": {
      "image/png": "[encoded data removed]",
      "text/plain": [
       "<Figure size 720x360 with 1 Axes>"
      ]
     },
     "metadata": {
      "image/png": {
       "height": 302,
       "width": 708
      },
      "needs_background": "light"
     },
     "output_type": "display_data"
    }
   ],
   "source": [
    "top_tri_grams=get_top_ngram(df_reddit['text_merged'],n=3)\n",
    "x,y=map(list,zip(*top_tri_grams))\n",
    "plt.figure(figsize=(10,5))\n",
    "sns.barplot(x=y,y=x)"
   ]
  },
  {
   "cell_type": "code",
   "execution_count": null,
   "metadata": {},
   "outputs": [],
   "source": []
  },
  {
   "cell_type": "code",
   "execution_count": null,
   "metadata": {},
   "outputs": [],
   "source": []
  },
  {
   "cell_type": "code",
   "execution_count": null,
   "metadata": {},
   "outputs": [],
   "source": []
  },
  {
   "cell_type": "code",
   "execution_count": null,
   "metadata": {},
   "outputs": [],
   "source": []
  },
  {
   "cell_type": "code",
   "execution_count": null,
   "metadata": {},
   "outputs": [],
   "source": []
  },
  {
   "cell_type": "code",
   "execution_count": null,
   "metadata": {},
   "outputs": [],
   "source": []
  },
  {
   "cell_type": "code",
   "execution_count": null,
   "metadata": {},
   "outputs": [],
   "source": []
  },
  {
   "cell_type": "code",
   "execution_count": null,
   "metadata": {},
   "outputs": [],
   "source": []
  },
  {
   "cell_type": "code",
   "execution_count": null,
   "metadata": {},
   "outputs": [],
   "source": []
  },
  {
   "cell_type": "code",
   "execution_count": null,
   "metadata": {},
   "outputs": [],
   "source": []
  },
  {
   "cell_type": "code",
   "execution_count": null,
   "metadata": {},
   "outputs": [],
   "source": []
  },
  {
   "cell_type": "code",
   "execution_count": 36,
   "metadata": {},
   "outputs": [],
   "source": [
    "pickle.dump(df_reddit, open('../DataSet/df_reddit_for_model.pkl', 'wb'))"
   ]
  },
  {
   "cell_type": "code",
   "execution_count": null,
   "metadata": {},
   "outputs": [],
   "source": []
  }
 ],
 "metadata": {
  "kernelspec": {
   "display_name": "Python 3",
   "language": "python",
   "name": "python3"
  },
  "language_info": {
   "codemirror_mode": {
    "name": "ipython",
    "version": 3
   },
   "file_extension": ".py",
   "mimetype": "text/x-python",
   "name": "python",
   "nbconvert_exporter": "python",
   "pygments_lexer": "ipython3",
   "version": "3.6.4"
  }
 },
 "nbformat": 4,
 "nbformat_minor": 4
}
