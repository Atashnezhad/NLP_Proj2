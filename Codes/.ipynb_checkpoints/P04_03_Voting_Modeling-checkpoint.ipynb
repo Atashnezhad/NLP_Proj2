{
 "cells": [
  {
   "cell_type": "code",
   "execution_count": 1,
   "metadata": {},
   "outputs": [
    {
     "name": "stderr",
     "output_type": "stream",
     "text": [
      "c:\\users\\daslab hareland 3\\appdata\\local\\programs\\python\\python36\\lib\\site-packages\\sklearn\\utils\\deprecation.py:143: FutureWarning: The sklearn.metrics.scorer module is  deprecated in version 0.22 and will be removed in version 0.24. The corresponding classes / functions should instead be imported from sklearn.metrics. Anything that cannot be imported from sklearn.metrics is now part of the private API.\n",
      "  warnings.warn(message, FutureWarning)\n",
      "c:\\users\\daslab hareland 3\\appdata\\local\\programs\\python\\python36\\lib\\site-packages\\sklearn\\utils\\deprecation.py:143: FutureWarning: The sklearn.feature_selection.base module is  deprecated in version 0.22 and will be removed in version 0.24. The corresponding classes / functions should instead be imported from sklearn.feature_selection. Anything that cannot be imported from sklearn.feature_selection is now part of the private API.\n",
      "  warnings.warn(message, FutureWarning)\n"
     ]
    }
   ],
   "source": [
    "#imports\n",
    "import numpy as np\n",
    "import pandas as pd\n",
    "import matplotlib.pylab as plt\n",
    "import seaborn as sns\n",
    "import eli5\n",
    "\n",
    "import regex as re\n",
    "import nltk\n",
    "#nltk.download('vader_lexicon')\n",
    "from nltk.sentiment.vader import SentimentIntensityAnalyzer\n",
    "from sklearn.feature_extraction.text import CountVectorizer, TfidfVectorizer\n",
    "from sklearn.model_selection import cross_val_score, train_test_split, GridSearchCV\n",
    "from sklearn.linear_model import LogisticRegression\n",
    "from sklearn.pipeline import Pipeline\n",
    "from sklearn.naive_bayes import MultinomialNB\n",
    "from sklearn.neural_network import MLPClassifier\n",
    "from sklearn.metrics import accuracy_score\n",
    "from sklearn.svm import SVC\n",
    "from sklearn.metrics import confusion_matrix, plot_confusion_matrix\n",
    "from sklearn.ensemble import RandomForestClassifier, ExtraTreesClassifier\n",
    "from sklearn.model_selection import learning_curve\n",
    "\n",
    "from sklearn.ensemble import GradientBoostingClassifier, AdaBoostClassifier, VotingClassifier\n",
    "\n",
    "from nltk.corpus import stopwords\n",
    "\n",
    "import pickle\n",
    "import sys\n",
    "\n",
    "import warnings\n",
    "warnings.filterwarnings('ignore')\n",
    "# warnings.simplefilter(action='ignore', category=FutureWarning)"
   ]
  },
  {
   "cell_type": "code",
   "execution_count": 2,
   "metadata": {},
   "outputs": [
    {
     "data": {
      "text/html": [
       "<div>\n",
       "<style scoped>\n",
       "    .dataframe tbody tr th:only-of-type {\n",
       "        vertical-align: middle;\n",
       "    }\n",
       "\n",
       "    .dataframe tbody tr th {\n",
       "        vertical-align: top;\n",
       "    }\n",
       "\n",
       "    .dataframe thead th {\n",
       "        text-align: right;\n",
       "    }\n",
       "</style>\n",
       "<table border=\"1\" class=\"dataframe\">\n",
       "  <thead>\n",
       "    <tr style=\"text-align: right;\">\n",
       "      <th></th>\n",
       "      <th>ent</th>\n",
       "      <th>text_merged</th>\n",
       "      <th>word_count*</th>\n",
       "      <th>sentiment_score*</th>\n",
       "      <th>target</th>\n",
       "      <th>polarity_score</th>\n",
       "      <th>polarity</th>\n",
       "      <th>polarity_VSA</th>\n",
       "      <th>lower_sent</th>\n",
       "      <th>tagged_sent</th>\n",
       "      <th>text_complexity</th>\n",
       "    </tr>\n",
       "  </thead>\n",
       "  <tbody>\n",
       "    <tr>\n",
       "      <th>0</th>\n",
       "      <td>1</td>\n",
       "      <td>star shine saturn ring</td>\n",
       "      <td>4</td>\n",
       "      <td>0.0</td>\n",
       "      <td>1</td>\n",
       "      <td>0.0</td>\n",
       "      <td>1</td>\n",
       "      <td>1</td>\n",
       "      <td>star shine saturn ring</td>\n",
       "      <td>[(star, NN), (shine, NN), (saturn, NN), (ring,...</td>\n",
       "      <td>92.80</td>\n",
       "    </tr>\n",
       "    <tr>\n",
       "      <th>1</th>\n",
       "      <td>2</td>\n",
       "      <td>smithsonian nation air space museum</td>\n",
       "      <td>5</td>\n",
       "      <td>0.0</td>\n",
       "      <td>1</td>\n",
       "      <td>0.0</td>\n",
       "      <td>1</td>\n",
       "      <td>1</td>\n",
       "      <td>smithsonian nation air space museum</td>\n",
       "      <td>[(smithsonian, JJ), (nation, NN), (air, NN), (...</td>\n",
       "      <td>15.64</td>\n",
       "    </tr>\n",
       "  </tbody>\n",
       "</table>\n",
       "</div>"
      ],
      "text/plain": [
       "   ent                          text_merged  word_count*  sentiment_score*  \\\n",
       "0    1               star shine saturn ring            4               0.0   \n",
       "1    2  smithsonian nation air space museum            5               0.0   \n",
       "\n",
       "   target  polarity_score  polarity  polarity_VSA  \\\n",
       "0       1             0.0         1             1   \n",
       "1       1             0.0         1             1   \n",
       "\n",
       "                            lower_sent  \\\n",
       "0               star shine saturn ring   \n",
       "1  smithsonian nation air space museum   \n",
       "\n",
       "                                         tagged_sent  text_complexity  \n",
       "0  [(star, NN), (shine, NN), (saturn, NN), (ring,...            92.80  \n",
       "1  [(smithsonian, JJ), (nation, NN), (air, NN), (...            15.64  "
      ]
     },
     "execution_count": 2,
     "metadata": {},
     "output_type": "execute_result"
    }
   ],
   "source": [
    "# df_reddit = pickle.load(open('../DataSet/df_reddit_for_model.pkl', 'rb'))\n",
    "df_reddit = pickle.load(open('../DataSet/df_reddit_for_model.pkl', 'rb'))\n",
    "EDA_df = pickle.load(open('../DataSet/EDA_all_for_model.pkl', 'rb'))\n",
    "# df_reddit['target'] = df_reddit['subreddit'].replace({\"NASA\": 1, \"Space_discussion\": 0})\n",
    "df_reddit.head(2)"
   ]
  },
  {
   "cell_type": "code",
   "execution_count": 3,
   "metadata": {},
   "outputs": [
    {
     "data": {
      "text/html": [
       "<div>\n",
       "<style scoped>\n",
       "    .dataframe tbody tr th:only-of-type {\n",
       "        vertical-align: middle;\n",
       "    }\n",
       "\n",
       "    .dataframe tbody tr th {\n",
       "        vertical-align: top;\n",
       "    }\n",
       "\n",
       "    .dataframe thead th {\n",
       "        text-align: right;\n",
       "    }\n",
       "</style>\n",
       "<table border=\"1\" class=\"dataframe\">\n",
       "  <thead>\n",
       "    <tr style=\"text-align: right;\">\n",
       "      <th></th>\n",
       "      <th>target</th>\n",
       "      <th>''</th>\n",
       "      <th>CC</th>\n",
       "      <th>CD</th>\n",
       "      <th>DT</th>\n",
       "      <th>EX</th>\n",
       "      <th>FW</th>\n",
       "      <th>IN</th>\n",
       "      <th>JJ</th>\n",
       "      <th>JJR</th>\n",
       "      <th>...</th>\n",
       "      <th>WP</th>\n",
       "      <th>WP$</th>\n",
       "      <th>WRB</th>\n",
       "      <th>ent</th>\n",
       "      <th>word_count*</th>\n",
       "      <th>sentiment_score*</th>\n",
       "      <th>polarity_score</th>\n",
       "      <th>polarity</th>\n",
       "      <th>polarity_VSA</th>\n",
       "      <th>text_complexity</th>\n",
       "    </tr>\n",
       "  </thead>\n",
       "  <tbody>\n",
       "    <tr>\n",
       "      <th>0</th>\n",
       "      <td>1</td>\n",
       "      <td>0.0</td>\n",
       "      <td>0.0</td>\n",
       "      <td>0.0</td>\n",
       "      <td>0.0</td>\n",
       "      <td>0.0</td>\n",
       "      <td>0.0</td>\n",
       "      <td>0.0</td>\n",
       "      <td>0.0</td>\n",
       "      <td>0.0</td>\n",
       "      <td>...</td>\n",
       "      <td>0.0</td>\n",
       "      <td>0.0</td>\n",
       "      <td>0.0</td>\n",
       "      <td>1</td>\n",
       "      <td>4</td>\n",
       "      <td>0.0</td>\n",
       "      <td>0.0</td>\n",
       "      <td>1</td>\n",
       "      <td>1</td>\n",
       "      <td>92.80</td>\n",
       "    </tr>\n",
       "    <tr>\n",
       "      <th>1</th>\n",
       "      <td>1</td>\n",
       "      <td>0.0</td>\n",
       "      <td>0.0</td>\n",
       "      <td>0.0</td>\n",
       "      <td>0.0</td>\n",
       "      <td>0.0</td>\n",
       "      <td>0.0</td>\n",
       "      <td>0.0</td>\n",
       "      <td>1.0</td>\n",
       "      <td>0.0</td>\n",
       "      <td>...</td>\n",
       "      <td>0.0</td>\n",
       "      <td>0.0</td>\n",
       "      <td>0.0</td>\n",
       "      <td>2</td>\n",
       "      <td>5</td>\n",
       "      <td>0.0</td>\n",
       "      <td>0.0</td>\n",
       "      <td>1</td>\n",
       "      <td>1</td>\n",
       "      <td>15.64</td>\n",
       "    </tr>\n",
       "  </tbody>\n",
       "</table>\n",
       "<p>2 rows × 43 columns</p>\n",
       "</div>"
      ],
      "text/plain": [
       "   target   ''   CC   CD   DT   EX   FW   IN   JJ  JJR  ...   WP  WP$  WRB  \\\n",
       "0       1  0.0  0.0  0.0  0.0  0.0  0.0  0.0  0.0  0.0  ...  0.0  0.0  0.0   \n",
       "1       1  0.0  0.0  0.0  0.0  0.0  0.0  0.0  1.0  0.0  ...  0.0  0.0  0.0   \n",
       "\n",
       "   ent  word_count*  sentiment_score*  polarity_score  polarity  polarity_VSA  \\\n",
       "0    1            4               0.0             0.0         1             1   \n",
       "1    2            5               0.0             0.0         1             1   \n",
       "\n",
       "   text_complexity  \n",
       "0            92.80  \n",
       "1            15.64  \n",
       "\n",
       "[2 rows x 43 columns]"
      ]
     },
     "execution_count": 3,
     "metadata": {},
     "output_type": "execute_result"
    }
   ],
   "source": [
    "EDA_df.head(2)"
   ]
  },
  {
   "cell_type": "code",
   "execution_count": 4,
   "metadata": {},
   "outputs": [],
   "source": [
    "X = df_reddit['text_merged']\n",
    "y = df_reddit['target']\n",
    "\n",
    "X_train, X_test, y_train, y_test = train_test_split(X,\n",
    "                                                    y,\n",
    "                                                    test_size = 0.25,\n",
    "                                                    stratify=y,\n",
    "                                                    random_state = 101)"
   ]
  },
  {
   "cell_type": "code",
   "execution_count": 5,
   "metadata": {},
   "outputs": [
    {
     "data": {
      "text/html": [
       "<div>\n",
       "<style scoped>\n",
       "    .dataframe tbody tr th:only-of-type {\n",
       "        vertical-align: middle;\n",
       "    }\n",
       "\n",
       "    .dataframe tbody tr th {\n",
       "        vertical-align: top;\n",
       "    }\n",
       "\n",
       "    .dataframe thead th {\n",
       "        text-align: right;\n",
       "    }\n",
       "</style>\n",
       "<table border=\"1\" class=\"dataframe\">\n",
       "  <thead>\n",
       "    <tr style=\"text-align: right;\">\n",
       "      <th></th>\n",
       "      <th>aa</th>\n",
       "      <th>ab</th>\n",
       "      <th>abil</th>\n",
       "      <th>abl</th>\n",
       "      <th>abl get</th>\n",
       "      <th>abl see</th>\n",
       "      <th>aboard</th>\n",
       "      <th>aboard intern</th>\n",
       "      <th>aboard space</th>\n",
       "      <th>abort</th>\n",
       "      <th>...</th>\n",
       "      <th>york</th>\n",
       "      <th>youlikebet</th>\n",
       "      <th>young</th>\n",
       "      <th>youtu</th>\n",
       "      <th>zealand</th>\n",
       "      <th>zero</th>\n",
       "      <th>zero graviti</th>\n",
       "      <th>zone</th>\n",
       "      <th>zoom</th>\n",
       "      <th>zubrin</th>\n",
       "    </tr>\n",
       "  </thead>\n",
       "  <tbody>\n",
       "    <tr>\n",
       "      <th>0</th>\n",
       "      <td>0</td>\n",
       "      <td>0</td>\n",
       "      <td>0</td>\n",
       "      <td>0</td>\n",
       "      <td>0</td>\n",
       "      <td>0</td>\n",
       "      <td>0</td>\n",
       "      <td>0</td>\n",
       "      <td>0</td>\n",
       "      <td>0</td>\n",
       "      <td>...</td>\n",
       "      <td>0</td>\n",
       "      <td>0</td>\n",
       "      <td>0</td>\n",
       "      <td>0</td>\n",
       "      <td>0</td>\n",
       "      <td>0</td>\n",
       "      <td>0</td>\n",
       "      <td>0</td>\n",
       "      <td>0</td>\n",
       "      <td>0</td>\n",
       "    </tr>\n",
       "    <tr>\n",
       "      <th>1</th>\n",
       "      <td>0</td>\n",
       "      <td>0</td>\n",
       "      <td>0</td>\n",
       "      <td>0</td>\n",
       "      <td>0</td>\n",
       "      <td>0</td>\n",
       "      <td>0</td>\n",
       "      <td>0</td>\n",
       "      <td>0</td>\n",
       "      <td>0</td>\n",
       "      <td>...</td>\n",
       "      <td>0</td>\n",
       "      <td>0</td>\n",
       "      <td>0</td>\n",
       "      <td>0</td>\n",
       "      <td>0</td>\n",
       "      <td>0</td>\n",
       "      <td>0</td>\n",
       "      <td>0</td>\n",
       "      <td>0</td>\n",
       "      <td>0</td>\n",
       "    </tr>\n",
       "  </tbody>\n",
       "</table>\n",
       "<p>2 rows × 3000 columns</p>\n",
       "</div>"
      ],
      "text/plain": [
       "   aa  ab  abil  abl  abl get  abl see  aboard  aboard intern  aboard space  \\\n",
       "0   0   0     0    0        0        0       0              0             0   \n",
       "1   0   0     0    0        0        0       0              0             0   \n",
       "\n",
       "   abort  ...  york  youlikebet  young  youtu  zealand  zero  zero graviti  \\\n",
       "0      0  ...     0           0      0      0        0     0             0   \n",
       "1      0  ...     0           0      0      0        0     0             0   \n",
       "\n",
       "   zone  zoom  zubrin  \n",
       "0     0     0       0  \n",
       "1     0     0       0  \n",
       "\n",
       "[2 rows x 3000 columns]"
      ]
     },
     "execution_count": 5,
     "metadata": {},
     "output_type": "execute_result"
    }
   ],
   "source": [
    "cvec = CountVectorizer(min_df=4, max_df=1.0,\n",
    "                       ngram_range=(1,2),max_features = 3000)\n",
    "\n",
    "term_mat = cvec.fit_transform(df_reddit['text_merged'])\n",
    "\n",
    "term_df = pd.DataFrame(term_mat.toarray(), \n",
    "                       columns=cvec.get_feature_names())\n",
    "\n",
    "term_df.head(2)"
   ]
  },
  {
   "cell_type": "code",
   "execution_count": 6,
   "metadata": {},
   "outputs": [],
   "source": [
    "# for col in term_df.columns:\n",
    "#     if col == 'target':\n",
    "#         print(col)\n",
    "term_df = term_df.drop(columns = ['target'])"
   ]
  },
  {
   "cell_type": "code",
   "execution_count": 7,
   "metadata": {},
   "outputs": [
    {
     "data": {
      "text/html": [
       "<div>\n",
       "<style scoped>\n",
       "    .dataframe tbody tr th:only-of-type {\n",
       "        vertical-align: middle;\n",
       "    }\n",
       "\n",
       "    .dataframe tbody tr th {\n",
       "        vertical-align: top;\n",
       "    }\n",
       "\n",
       "    .dataframe thead th {\n",
       "        text-align: right;\n",
       "    }\n",
       "</style>\n",
       "<table border=\"1\" class=\"dataframe\">\n",
       "  <thead>\n",
       "    <tr style=\"text-align: right;\">\n",
       "      <th></th>\n",
       "      <th>target</th>\n",
       "      <th>''</th>\n",
       "      <th>CC</th>\n",
       "      <th>CD</th>\n",
       "      <th>DT</th>\n",
       "      <th>EX</th>\n",
       "      <th>FW</th>\n",
       "      <th>IN</th>\n",
       "      <th>JJ</th>\n",
       "      <th>JJR</th>\n",
       "      <th>...</th>\n",
       "      <th>york</th>\n",
       "      <th>youlikebet</th>\n",
       "      <th>young</th>\n",
       "      <th>youtu</th>\n",
       "      <th>zealand</th>\n",
       "      <th>zero</th>\n",
       "      <th>zero graviti</th>\n",
       "      <th>zone</th>\n",
       "      <th>zoom</th>\n",
       "      <th>zubrin</th>\n",
       "    </tr>\n",
       "  </thead>\n",
       "  <tbody>\n",
       "    <tr>\n",
       "      <th>0</th>\n",
       "      <td>1</td>\n",
       "      <td>0.0</td>\n",
       "      <td>0.0</td>\n",
       "      <td>0.0</td>\n",
       "      <td>0.0</td>\n",
       "      <td>0.0</td>\n",
       "      <td>0.0</td>\n",
       "      <td>0.0</td>\n",
       "      <td>0.0</td>\n",
       "      <td>0.0</td>\n",
       "      <td>...</td>\n",
       "      <td>0</td>\n",
       "      <td>0</td>\n",
       "      <td>0</td>\n",
       "      <td>0</td>\n",
       "      <td>0</td>\n",
       "      <td>0</td>\n",
       "      <td>0</td>\n",
       "      <td>0</td>\n",
       "      <td>0</td>\n",
       "      <td>0</td>\n",
       "    </tr>\n",
       "    <tr>\n",
       "      <th>1</th>\n",
       "      <td>1</td>\n",
       "      <td>0.0</td>\n",
       "      <td>0.0</td>\n",
       "      <td>0.0</td>\n",
       "      <td>0.0</td>\n",
       "      <td>0.0</td>\n",
       "      <td>0.0</td>\n",
       "      <td>0.0</td>\n",
       "      <td>1.0</td>\n",
       "      <td>0.0</td>\n",
       "      <td>...</td>\n",
       "      <td>0</td>\n",
       "      <td>0</td>\n",
       "      <td>0</td>\n",
       "      <td>0</td>\n",
       "      <td>0</td>\n",
       "      <td>0</td>\n",
       "      <td>0</td>\n",
       "      <td>0</td>\n",
       "      <td>0</td>\n",
       "      <td>0</td>\n",
       "    </tr>\n",
       "  </tbody>\n",
       "</table>\n",
       "<p>2 rows × 3042 columns</p>\n",
       "</div>"
      ],
      "text/plain": [
       "   target   ''   CC   CD   DT   EX   FW   IN   JJ  JJR  ...  york  youlikebet  \\\n",
       "0       1  0.0  0.0  0.0  0.0  0.0  0.0  0.0  0.0  0.0  ...     0           0   \n",
       "1       1  0.0  0.0  0.0  0.0  0.0  0.0  0.0  1.0  0.0  ...     0           0   \n",
       "\n",
       "   young  youtu  zealand  zero  zero graviti  zone  zoom  zubrin  \n",
       "0      0      0        0     0             0     0     0       0  \n",
       "1      0      0        0     0             0     0     0       0  \n",
       "\n",
       "[2 rows x 3042 columns]"
      ]
     },
     "execution_count": 7,
     "metadata": {},
     "output_type": "execute_result"
    }
   ],
   "source": [
    "All_DF =  pd.concat([EDA_df, term_df], axis=1)\n",
    "All_DF.head(2)"
   ]
  },
  {
   "cell_type": "code",
   "execution_count": 8,
   "metadata": {},
   "outputs": [],
   "source": [
    "y2 = All_DF['target']\n",
    "X2 = All_DF.drop(columns = ['target'])\n",
    "\n",
    "X_arr2 = np.array(X2)\n",
    "y_arr2 = np.array(y2)\n",
    "\n",
    "X_train2, X_test2, y_train2, y_test2 = train_test_split(X_arr2,\n",
    "                                                        y_arr2,\n",
    "                                                        test_size = 0.25,\n",
    "                                                        random_state = 101)"
   ]
  },
  {
   "cell_type": "markdown",
   "metadata": {},
   "source": [
    "### Hard voting"
   ]
  },
  {
   "cell_type": "code",
   "execution_count": 10,
   "metadata": {},
   "outputs": [
    {
     "name": "stdout",
     "output_type": "stream",
     "text": [
      "[1 1 1 ... 0 0 0]\n"
     ]
    }
   ],
   "source": [
    "clf1 = LogisticRegression(solver='sag', max_iter=1000, n_jobs=-1)\n",
    "\n",
    "clf2 = MLPClassifier(hidden_layer_sizes=50, activation='relu', solver='adam', \n",
    "                    alpha=0.0001, batch_size='auto', learning_rate='constant', \n",
    "                    learning_rate_init=0.001, power_t=0.5, max_iter=200, shuffle=True, \n",
    "                    random_state=None, tol=0.0001, verbose=False, warm_start=False, \n",
    "                    momentum=0.9, nesterovs_momentum=True, early_stopping=False, \n",
    "                    validation_fraction=0.1, beta_1=0.9, beta_2=0.999, epsilon=1e-08, \n",
    "                    n_iter_no_change=10, max_fun=15000)\n",
    "\n",
    "clf3 = GradientBoostingClassifier(loss='deviance', learning_rate=0.1, \n",
    "                                    n_estimators=100, subsample=1.0, criterion='friedman_mse', \n",
    "                                    min_samples_split=2, min_samples_leaf=1, min_weight_fraction_leaf=0.0, \n",
    "                                    max_depth=6, min_impurity_decrease=0.0, min_impurity_split=None, \n",
    "                                    init=None, random_state=None, max_features=None,\n",
    "                                    max_leaf_nodes=None, warm_start=False, validation_fraction=0.1, \n",
    "                                    n_iter_no_change=None, tol=0.0001, ccp_alpha=0.0)\n",
    "\n",
    "\n",
    "eclf1 = VotingClassifier(estimators=[\n",
    "        ('lr', clf1), ('rf', clf2), ('gnb', clf3)], \n",
    "        voting='hard', n_jobs=-1, verbose=True)\n",
    "\n",
    "eclf1 = eclf1.fit(X_arr2, y_arr2)\n",
    "print(eclf1.predict(X_arr2))"
   ]
  },
  {
   "cell_type": "code",
   "execution_count": 12,
   "metadata": {},
   "outputs": [
    {
     "name": "stdout",
     "output_type": "stream",
     "text": [
      "train score 0.9231111111111111\n",
      "test score 0.9216666666666666\n"
     ]
    },
    {
     "data": {
      "text/plain": [
       "(0.9216666666666666, 0.9884526558891455, 0.8537234042553191)"
      ]
     },
     "execution_count": 12,
     "metadata": {},
     "output_type": "execute_result"
    },
    {
     "data": {
      "image/png": "[encoded data removed]",
      "text/plain": [
       "<Figure size 432x288 with 2 Axes>"
      ]
     },
     "metadata": {
      "needs_background": "light"
     },
     "output_type": "display_data"
    }
   ],
   "source": [
    "eclf1.score(X_train2, y_train2); \n",
    "print('train score', eclf1.score(X_train2, y_train2))\n",
    "\n",
    "eclf1.score(X_test2, y_test2); \n",
    "print('test score', eclf1.score(X_test2, y_test2))\n",
    "\n",
    "preds = eclf1.predict(X_test2)\n",
    "\n",
    "# Save confusion matrix values\n",
    "tn, fp, fn, tp = confusion_matrix(y_test2, preds).ravel()\n",
    "\n",
    "# View confusion matrix\n",
    "\n",
    "plot_confusion_matrix(eclf1, X_test2, y_test2, \n",
    "                      cmap='Greys', values_format='d');\n",
    "Accuracy = (tp + tn) / (tp + tn + fp + fn)\n",
    "Precision = tp / (tp + fp)\n",
    "Recall = tp / (tp + fn)\n",
    "\n",
    "Accuracy, Precision, Recall"
   ]
  },
  {
   "cell_type": "markdown",
   "metadata": {},
   "source": [
    "### Soft voting"
   ]
  },
  {
   "cell_type": "code",
   "execution_count": 13,
   "metadata": {},
   "outputs": [
    {
     "name": "stdout",
     "output_type": "stream",
     "text": [
      "[1 1 1 ... 0 0 0]\n"
     ]
    }
   ],
   "source": [
    "clf1 = LogisticRegression(solver='sag', max_iter=1000, n_jobs=-1)\n",
    "\n",
    "clf2 = MLPClassifier(hidden_layer_sizes=50, activation='relu', solver='adam', \n",
    "                    alpha=0.0001, batch_size='auto', learning_rate='constant', \n",
    "                    learning_rate_init=0.001, power_t=0.5, max_iter=200, shuffle=True, \n",
    "                    random_state=None, tol=0.0001, verbose=False, warm_start=False, \n",
    "                    momentum=0.9, nesterovs_momentum=True, early_stopping=False, \n",
    "                    validation_fraction=0.1, beta_1=0.9, beta_2=0.999, epsilon=1e-08, \n",
    "                    n_iter_no_change=10, max_fun=15000)\n",
    "\n",
    "clf3 = GradientBoostingClassifier(loss='deviance', learning_rate=0.1, \n",
    "                                    n_estimators=100, subsample=1.0, criterion='friedman_mse', \n",
    "                                    min_samples_split=2, min_samples_leaf=1, min_weight_fraction_leaf=0.0, \n",
    "                                    max_depth=6, min_impurity_decrease=0.0, min_impurity_split=None, \n",
    "                                    init=None, random_state=None, max_features=None,\n",
    "                                    max_leaf_nodes=None, warm_start=False, validation_fraction=0.1, \n",
    "                                    n_iter_no_change=None, tol=0.0001, ccp_alpha=0.0)\n",
    "\n",
    "\n",
    "eclf1 = VotingClassifier(estimators=[\n",
    "        ('lr', clf1), ('rf', clf2), ('gnb', clf3)], \n",
    "        voting='soft', n_jobs=-1, verbose=True)\n",
    "\n",
    "eclf1 = eclf1.fit(X_arr2, y_arr2)\n",
    "print(eclf1.predict(X_arr2))"
   ]
  },
  {
   "cell_type": "code",
   "execution_count": 14,
   "metadata": {},
   "outputs": [
    {
     "name": "stdout",
     "output_type": "stream",
     "text": [
      "train score 0.9554444444444444\n",
      "test score 0.9543333333333334\n"
     ]
    },
    {
     "data": {
      "text/plain": [
       "(0.9543333333333334, 0.9985412107950401, 0.9102393617021277)"
      ]
     },
     "execution_count": 14,
     "metadata": {},
     "output_type": "execute_result"
    },
    {
     "data": {
      "image/png": "[encoded data removed]",
      "text/plain": [
       "<Figure size 432x288 with 2 Axes>"
      ]
     },
     "metadata": {
      "needs_background": "light"
     },
     "output_type": "display_data"
    }
   ],
   "source": [
    "eclf1.score(X_train2, y_train2); \n",
    "print('train score', eclf1.score(X_train2, y_train2))\n",
    "\n",
    "eclf1.score(X_test2, y_test2); \n",
    "print('test score', eclf1.score(X_test2, y_test2))\n",
    "\n",
    "preds = eclf1.predict(X_test2)\n",
    "\n",
    "# Save confusion matrix values\n",
    "tn, fp, fn, tp = confusion_matrix(y_test2, preds).ravel()\n",
    "\n",
    "# View confusion matrix\n",
    "\n",
    "plot_confusion_matrix(eclf1, X_test2, y_test2, \n",
    "                      cmap='Greys', values_format='d');\n",
    "Accuracy = (tp + tn) / (tp + tn + fp + fn)\n",
    "Precision = tp / (tp + fp)\n",
    "Recall = tp / (tp + fn)\n",
    "\n",
    "Accuracy, Precision, Recall"
   ]
  },
  {
   "cell_type": "code",
   "execution_count": null,
   "metadata": {},
   "outputs": [],
   "source": []
  },
  {
   "cell_type": "code",
   "execution_count": null,
   "metadata": {},
   "outputs": [],
   "source": []
  },
  {
   "cell_type": "code",
   "execution_count": null,
   "metadata": {},
   "outputs": [],
   "source": []
  },
  {
   "cell_type": "code",
   "execution_count": null,
   "metadata": {},
   "outputs": [],
   "source": []
  },
  {
   "cell_type": "code",
   "execution_count": null,
   "metadata": {},
   "outputs": [],
   "source": []
  },
  {
   "cell_type": "code",
   "execution_count": null,
   "metadata": {},
   "outputs": [],
   "source": []
  },
  {
   "cell_type": "code",
   "execution_count": null,
   "metadata": {},
   "outputs": [],
   "source": []
  }
 ],
 "metadata": {
  "kernelspec": {
   "display_name": "Python 3",
   "language": "python",
   "name": "python3"
  },
  "language_info": {
   "codemirror_mode": {
    "name": "ipython",
    "version": 3
   },
   "file_extension": ".py",
   "mimetype": "text/x-python",
   "name": "python",
   "nbconvert_exporter": "python",
   "pygments_lexer": "ipython3",
   "version": "3.6.4"
  }
 },
 "nbformat": 4,
 "nbformat_minor": 4
}
