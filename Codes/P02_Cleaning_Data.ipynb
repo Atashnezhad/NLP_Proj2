{
 "cells": [
  {
   "cell_type": "markdown",
   "metadata": {},
   "source": [
    "# Cleaning data\n",
    "In this section of the project, the data is called from the dataset folder and some edits are applied.\n",
    "At the beginning some essential libraries are installed."
   ]
  },
  {
   "cell_type": "code",
   "execution_count": 1,
   "metadata": {},
   "outputs": [],
   "source": [
    "import pandas as pd\n",
    "import regex as re\n",
    "import warnings\n",
    "warnings.filterwarnings('ignore')\n",
    "from nltk.corpus import stopwords \n",
    "from nltk.stem.porter import PorterStemmer\n",
    "from nltk.stem import WordNetLemmatizer\n",
    "import pickle"
   ]
  },
  {
   "cell_type": "markdown",
   "metadata": {},
   "source": [
    "Install some libraries if it is needed using ```pip install libraries_name```"
   ]
  },
  {
   "cell_type": "code",
   "execution_count": 2,
   "metadata": {},
   "outputs": [],
   "source": [
    "# !pip install nltk\n",
    "# !pip install regex"
   ]
  },
  {
   "cell_type": "markdown",
   "metadata": {},
   "source": [
    "## Nasa Data"
   ]
  },
  {
   "cell_type": "code",
   "execution_count": 3,
   "metadata": {},
   "outputs": [],
   "source": [
    "file_path = \"../DataSet/\"\n",
    "file_name = \"df_nasa.csv\"\n",
    "df_nasa = pd.read_csv(file_path+file_name)"
   ]
  },
  {
   "cell_type": "code",
   "execution_count": 4,
   "metadata": {},
   "outputs": [
    {
     "data": {
      "text/plain": [
       "(6000, 83)"
      ]
     },
     "execution_count": 4,
     "metadata": {},
     "output_type": "execute_result"
    }
   ],
   "source": [
    "df_nasa.shape"
   ]
  },
  {
   "cell_type": "markdown",
   "metadata": {},
   "source": [
    "Check the column names and details as follow."
   ]
  },
  {
   "cell_type": "code",
   "execution_count": 5,
   "metadata": {},
   "outputs": [
    {
     "name": "stdout",
     "output_type": "stream",
     "text": [
      "<class 'pandas.core.frame.DataFrame'>\n",
      "RangeIndex: 6000 entries, 0 to 5999\n",
      "Data columns (total 83 columns):\n",
      " #   Column                         Non-Null Count  Dtype  \n",
      "---  ------                         --------------  -----  \n",
      " 0   Unnamed: 0                     6000 non-null   int64  \n",
      " 1   index                          6000 non-null   int64  \n",
      " 2   all_awardings                  5492 non-null   object \n",
      " 3   allow_live_comments            4249 non-null   object \n",
      " 4   author                         6000 non-null   object \n",
      " 5   author_cakeday                 19 non-null     object \n",
      " 6   author_flair_background_color  14 non-null     object \n",
      " 7   author_flair_css_class         58 non-null     object \n",
      " 8   author_flair_richtext          6000 non-null   object \n",
      " 9   author_flair_template_id       30 non-null     object \n",
      " 10  author_flair_text              58 non-null     object \n",
      " 11  author_flair_text_color        58 non-null     object \n",
      " 12  author_flair_type              6000 non-null   object \n",
      " 13  author_fullname                6000 non-null   object \n",
      " 14  author_patreon_flair           6000 non-null   bool   \n",
      " 15  author_premium                 928 non-null    object \n",
      " 16  awarders                       2359 non-null   object \n",
      " 17  can_mod_post                   6000 non-null   bool   \n",
      " 18  contest_mode                   6000 non-null   bool   \n",
      " 19  created_utc                    6000 non-null   int64  \n",
      " 20  crosspost_parent               8 non-null      object \n",
      " 21  crosspost_parent_list          8 non-null      object \n",
      " 22  domain                         6000 non-null   object \n",
      " 23  edited                         2 non-null      float64\n",
      " 24  full_link                      6000 non-null   object \n",
      " 25  gilded                         16 non-null     float64\n",
      " 26  gildings                       6000 non-null   object \n",
      " 27  id                             6000 non-null   object \n",
      " 28  is_crosspostable               6000 non-null   bool   \n",
      " 29  is_meta                        6000 non-null   bool   \n",
      " 30  is_original_content            6000 non-null   bool   \n",
      " 31  is_reddit_media_domain         6000 non-null   bool   \n",
      " 32  is_robot_indexable             6000 non-null   bool   \n",
      " 33  is_self                        6000 non-null   bool   \n",
      " 34  is_video                       6000 non-null   bool   \n",
      " 35  link_flair_background_color    1464 non-null   object \n",
      " 36  link_flair_css_class           3698 non-null   object \n",
      " 37  link_flair_richtext            6000 non-null   object \n",
      " 38  link_flair_template_id         2101 non-null   object \n",
      " 39  link_flair_text                3853 non-null   object \n",
      " 40  link_flair_text_color          6000 non-null   object \n",
      " 41  link_flair_type                6000 non-null   object \n",
      " 42  locked                         6000 non-null   bool   \n",
      " 43  media                          400 non-null    object \n",
      " 44  media_embed                    396 non-null    object \n",
      " 45  media_metadata                 37 non-null     object \n",
      " 46  media_only                     6000 non-null   bool   \n",
      " 47  no_follow                      6000 non-null   bool   \n",
      " 48  num_comments                   6000 non-null   int64  \n",
      " 49  num_crossposts                 6000 non-null   int64  \n",
      " 50  og_description                 33 non-null     object \n",
      " 51  og_title                       33 non-null     object \n",
      " 52  over_18                        6000 non-null   bool   \n",
      " 53  parent_whitelist_status        6000 non-null   object \n",
      " 54  permalink                      6000 non-null   object \n",
      " 55  pinned                         6000 non-null   bool   \n",
      " 56  post_hint                      2292 non-null   object \n",
      " 57  preview                        2292 non-null   object \n",
      " 58  pwls                           6000 non-null   int64  \n",
      " 59  removed_by                     109 non-null    object \n",
      " 60  removed_by_category            170 non-null    object \n",
      " 61  retrieved_on                   6000 non-null   int64  \n",
      " 62  score                          6000 non-null   int64  \n",
      " 63  secure_media                   400 non-null    object \n",
      " 64  secure_media_embed             396 non-null    object \n",
      " 65  selftext                       971 non-null    object \n",
      " 66  send_replies                   6000 non-null   bool   \n",
      " 67  spoiler                        6000 non-null   bool   \n",
      " 68  steward_reports                2757 non-null   object \n",
      " 69  stickied                       6000 non-null   bool   \n",
      " 70  subreddit                      6000 non-null   object \n",
      " 71  subreddit_id                   6000 non-null   object \n",
      " 72  subreddit_subscribers          6000 non-null   int64  \n",
      " 73  subreddit_type                 6000 non-null   object \n",
      " 74  thumbnail                      6000 non-null   object \n",
      " 75  thumbnail_height               2265 non-null   float64\n",
      " 76  thumbnail_width                2265 non-null   float64\n",
      " 77  title                          6000 non-null   object \n",
      " 78  total_awards_received          5492 non-null   float64\n",
      " 79  updated_utc                    4558 non-null   float64\n",
      " 80  url                            6000 non-null   object \n",
      " 81  whitelist_status               6000 non-null   object \n",
      " 82  wls                            6000 non-null   int64  \n",
      "dtypes: bool(18), float64(6), int64(10), object(49)\n",
      "memory usage: 3.1+ MB\n"
     ]
    }
   ],
   "source": [
    "df_nasa.info()"
   ]
  },
  {
   "cell_type": "markdown",
   "metadata": {},
   "source": [
    "Choose following column names."
   ]
  },
  {
   "cell_type": "code",
   "execution_count": 6,
   "metadata": {},
   "outputs": [],
   "source": [
    "keep_clmns = ['author', 'created_utc', 'domain', 'id', 'num_comments', 'over_18',\n",
    "       'post_hint', 'score', 'selftext',\n",
    "       'title']"
   ]
  },
  {
   "cell_type": "code",
   "execution_count": 7,
   "metadata": {},
   "outputs": [],
   "source": [
    "df_nasa_keep_colmn = df_nasa[keep_clmns]"
   ]
  },
  {
   "cell_type": "code",
   "execution_count": 8,
   "metadata": {},
   "outputs": [
    {
     "data": {
      "text/html": [
       "<div>\n",
       "<style scoped>\n",
       "    .dataframe tbody tr th:only-of-type {\n",
       "        vertical-align: middle;\n",
       "    }\n",
       "\n",
       "    .dataframe tbody tr th {\n",
       "        vertical-align: top;\n",
       "    }\n",
       "\n",
       "    .dataframe thead th {\n",
       "        text-align: right;\n",
       "    }\n",
       "</style>\n",
       "<table border=\"1\" class=\"dataframe\">\n",
       "  <thead>\n",
       "    <tr style=\"text-align: right;\">\n",
       "      <th></th>\n",
       "      <th>author</th>\n",
       "      <th>created_utc</th>\n",
       "      <th>domain</th>\n",
       "      <th>id</th>\n",
       "      <th>num_comments</th>\n",
       "      <th>over_18</th>\n",
       "      <th>post_hint</th>\n",
       "      <th>score</th>\n",
       "      <th>selftext</th>\n",
       "      <th>title</th>\n",
       "    </tr>\n",
       "  </thead>\n",
       "  <tbody>\n",
       "    <tr>\n",
       "      <th>0</th>\n",
       "      <td>illichian</td>\n",
       "      <td>1579413305</td>\n",
       "      <td>i.imgur.com</td>\n",
       "      <td>eqsltj</td>\n",
       "      <td>2</td>\n",
       "      <td>False</td>\n",
       "      <td>link</td>\n",
       "      <td>1</td>\n",
       "      <td>NaN</td>\n",
       "      <td>A star shining through Saturn's rings</td>\n",
       "    </tr>\n",
       "    <tr>\n",
       "      <th>1</th>\n",
       "      <td>itstie</td>\n",
       "      <td>1579412680</td>\n",
       "      <td>i.redd.it</td>\n",
       "      <td>eqsibf</td>\n",
       "      <td>0</td>\n",
       "      <td>False</td>\n",
       "      <td>NaN</td>\n",
       "      <td>1</td>\n",
       "      <td>NaN</td>\n",
       "      <td>From Smithsonian National Air and Space Museum</td>\n",
       "    </tr>\n",
       "    <tr>\n",
       "      <th>2</th>\n",
       "      <td>NASA_POTD_bot</td>\n",
       "      <td>1579410507</td>\n",
       "      <td>apod.nasa.gov</td>\n",
       "      <td>eqs6cb</td>\n",
       "      <td>0</td>\n",
       "      <td>False</td>\n",
       "      <td>NaN</td>\n",
       "      <td>1</td>\n",
       "      <td>NaN</td>\n",
       "      <td>M1: The Incredible Expanding Crab Nebula</td>\n",
       "    </tr>\n",
       "    <tr>\n",
       "      <th>3</th>\n",
       "      <td>AMC-Eagle85</td>\n",
       "      <td>1579410277</td>\n",
       "      <td>i.redd.it</td>\n",
       "      <td>eqs4zd</td>\n",
       "      <td>6</td>\n",
       "      <td>False</td>\n",
       "      <td>NaN</td>\n",
       "      <td>1</td>\n",
       "      <td>NaN</td>\n",
       "      <td>Columbia ready for STS-107</td>\n",
       "    </tr>\n",
       "    <tr>\n",
       "      <th>4</th>\n",
       "      <td>BorisTheSpacePerson</td>\n",
       "      <td>1579404939</td>\n",
       "      <td>i.redd.it</td>\n",
       "      <td>eqr7wu</td>\n",
       "      <td>0</td>\n",
       "      <td>False</td>\n",
       "      <td>NaN</td>\n",
       "      <td>1</td>\n",
       "      <td>NaN</td>\n",
       "      <td>I went to ksc for Christmas and got to see wha...</td>\n",
       "    </tr>\n",
       "  </tbody>\n",
       "</table>\n",
       "</div>"
      ],
      "text/plain": [
       "                author  created_utc         domain      id  num_comments  \\\n",
       "0            illichian   1579413305    i.imgur.com  eqsltj             2   \n",
       "1               itstie   1579412680      i.redd.it  eqsibf             0   \n",
       "2        NASA_POTD_bot   1579410507  apod.nasa.gov  eqs6cb             0   \n",
       "3          AMC-Eagle85   1579410277      i.redd.it  eqs4zd             6   \n",
       "4  BorisTheSpacePerson   1579404939      i.redd.it  eqr7wu             0   \n",
       "\n",
       "   over_18 post_hint  score selftext  \\\n",
       "0    False      link      1      NaN   \n",
       "1    False       NaN      1      NaN   \n",
       "2    False       NaN      1      NaN   \n",
       "3    False       NaN      1      NaN   \n",
       "4    False       NaN      1      NaN   \n",
       "\n",
       "                                               title  \n",
       "0              A star shining through Saturn's rings  \n",
       "1     From Smithsonian National Air and Space Museum  \n",
       "2           M1: The Incredible Expanding Crab Nebula  \n",
       "3                         Columbia ready for STS-107  \n",
       "4  I went to ksc for Christmas and got to see wha...  "
      ]
     },
     "execution_count": 8,
     "metadata": {},
     "output_type": "execute_result"
    }
   ],
   "source": [
    "df_nasa_keep_colmn.head(5)"
   ]
  },
  {
   "cell_type": "code",
   "execution_count": 9,
   "metadata": {},
   "outputs": [
    {
     "data": {
      "text/plain": [
       "author             0\n",
       "created_utc        0\n",
       "domain             0\n",
       "id                 0\n",
       "num_comments       0\n",
       "over_18            0\n",
       "post_hint       3708\n",
       "score              0\n",
       "selftext        5029\n",
       "title              0\n",
       "dtype: int64"
      ]
     },
     "execution_count": 9,
     "metadata": {},
     "output_type": "execute_result"
    }
   ],
   "source": [
    "df_nasa_keep_colmn.isnull().sum()"
   ]
  },
  {
   "cell_type": "markdown",
   "metadata": {},
   "source": [
    "I choose the same approach as Meghani did toward the imputing and dropping and editing columns."
   ]
  },
  {
   "cell_type": "code",
   "execution_count": 10,
   "metadata": {},
   "outputs": [],
   "source": [
    "df_nasa_keep_colmn[\"title\"].fillna(\" \", inplace=True)\n",
    "df_nasa_keep_colmn[\"selftext\"].fillna(\" \", inplace=True)\n",
    "\n",
    "df_nasa_keep_colmn['text_merged'] = df_nasa_keep_colmn['title'] + \" \" + df_nasa_keep_colmn['selftext']\n",
    "df_nasa_keep_colmn.drop(columns = [\"title\", \"selftext\"], inplace=True)\n",
    "\n",
    "df_nasa_keep_colmn['post_hint'].fillna(\"Empty\", inplace=True)"
   ]
  },
  {
   "cell_type": "markdown",
   "metadata": {},
   "source": [
    "Double check the colmns for null values."
   ]
  },
  {
   "cell_type": "code",
   "execution_count": 11,
   "metadata": {},
   "outputs": [
    {
     "name": "stdout",
     "output_type": "stream",
     "text": [
      "<class 'pandas.core.frame.DataFrame'>\n",
      "RangeIndex: 6000 entries, 0 to 5999\n",
      "Data columns (total 9 columns):\n",
      " #   Column        Non-Null Count  Dtype \n",
      "---  ------        --------------  ----- \n",
      " 0   author        6000 non-null   object\n",
      " 1   created_utc   6000 non-null   int64 \n",
      " 2   domain        6000 non-null   object\n",
      " 3   id            6000 non-null   object\n",
      " 4   num_comments  6000 non-null   int64 \n",
      " 5   over_18       6000 non-null   bool  \n",
      " 6   post_hint     6000 non-null   object\n",
      " 7   score         6000 non-null   int64 \n",
      " 8   text_merged   6000 non-null   object\n",
      "dtypes: bool(1), int64(3), object(5)\n",
      "memory usage: 381.0+ KB\n"
     ]
    }
   ],
   "source": [
    "df_nasa_keep_colmn.info()"
   ]
  },
  {
   "cell_type": "code",
   "execution_count": 12,
   "metadata": {},
   "outputs": [
    {
     "data": {
      "text/html": [
       "<div>\n",
       "<style scoped>\n",
       "    .dataframe tbody tr th:only-of-type {\n",
       "        vertical-align: middle;\n",
       "    }\n",
       "\n",
       "    .dataframe tbody tr th {\n",
       "        vertical-align: top;\n",
       "    }\n",
       "\n",
       "    .dataframe thead th {\n",
       "        text-align: right;\n",
       "    }\n",
       "</style>\n",
       "<table border=\"1\" class=\"dataframe\">\n",
       "  <thead>\n",
       "    <tr style=\"text-align: right;\">\n",
       "      <th></th>\n",
       "      <th>author</th>\n",
       "      <th>created_utc</th>\n",
       "      <th>domain</th>\n",
       "      <th>id</th>\n",
       "      <th>num_comments</th>\n",
       "      <th>over_18</th>\n",
       "      <th>post_hint</th>\n",
       "      <th>score</th>\n",
       "      <th>text_merged</th>\n",
       "    </tr>\n",
       "  </thead>\n",
       "  <tbody>\n",
       "    <tr>\n",
       "      <th>0</th>\n",
       "      <td>illichian</td>\n",
       "      <td>1579413305</td>\n",
       "      <td>i.imgur.com</td>\n",
       "      <td>eqsltj</td>\n",
       "      <td>2</td>\n",
       "      <td>False</td>\n",
       "      <td>link</td>\n",
       "      <td>1</td>\n",
       "      <td>A star shining through Saturn's rings</td>\n",
       "    </tr>\n",
       "    <tr>\n",
       "      <th>1</th>\n",
       "      <td>itstie</td>\n",
       "      <td>1579412680</td>\n",
       "      <td>i.redd.it</td>\n",
       "      <td>eqsibf</td>\n",
       "      <td>0</td>\n",
       "      <td>False</td>\n",
       "      <td>Empty</td>\n",
       "      <td>1</td>\n",
       "      <td>From Smithsonian National Air and Space Museum</td>\n",
       "    </tr>\n",
       "    <tr>\n",
       "      <th>2</th>\n",
       "      <td>NASA_POTD_bot</td>\n",
       "      <td>1579410507</td>\n",
       "      <td>apod.nasa.gov</td>\n",
       "      <td>eqs6cb</td>\n",
       "      <td>0</td>\n",
       "      <td>False</td>\n",
       "      <td>Empty</td>\n",
       "      <td>1</td>\n",
       "      <td>M1: The Incredible Expanding Crab Nebula</td>\n",
       "    </tr>\n",
       "    <tr>\n",
       "      <th>3</th>\n",
       "      <td>AMC-Eagle85</td>\n",
       "      <td>1579410277</td>\n",
       "      <td>i.redd.it</td>\n",
       "      <td>eqs4zd</td>\n",
       "      <td>6</td>\n",
       "      <td>False</td>\n",
       "      <td>Empty</td>\n",
       "      <td>1</td>\n",
       "      <td>Columbia ready for STS-107</td>\n",
       "    </tr>\n",
       "    <tr>\n",
       "      <th>4</th>\n",
       "      <td>BorisTheSpacePerson</td>\n",
       "      <td>1579404939</td>\n",
       "      <td>i.redd.it</td>\n",
       "      <td>eqr7wu</td>\n",
       "      <td>0</td>\n",
       "      <td>False</td>\n",
       "      <td>Empty</td>\n",
       "      <td>1</td>\n",
       "      <td>I went to ksc for Christmas and got to see wha...</td>\n",
       "    </tr>\n",
       "  </tbody>\n",
       "</table>\n",
       "</div>"
      ],
      "text/plain": [
       "                author  created_utc         domain      id  num_comments  \\\n",
       "0            illichian   1579413305    i.imgur.com  eqsltj             2   \n",
       "1               itstie   1579412680      i.redd.it  eqsibf             0   \n",
       "2        NASA_POTD_bot   1579410507  apod.nasa.gov  eqs6cb             0   \n",
       "3          AMC-Eagle85   1579410277      i.redd.it  eqs4zd             6   \n",
       "4  BorisTheSpacePerson   1579404939      i.redd.it  eqr7wu             0   \n",
       "\n",
       "   over_18 post_hint  score                                        text_merged  \n",
       "0    False      link      1            A star shining through Saturn's rings    \n",
       "1    False     Empty      1   From Smithsonian National Air and Space Museum    \n",
       "2    False     Empty      1         M1: The Incredible Expanding Crab Nebula    \n",
       "3    False     Empty      1                       Columbia ready for STS-107    \n",
       "4    False     Empty      1  I went to ksc for Christmas and got to see wha...  "
      ]
     },
     "execution_count": 12,
     "metadata": {},
     "output_type": "execute_result"
    }
   ],
   "source": [
    "df_nasa_keep_colmn.head()"
   ]
  },
  {
   "cell_type": "code",
   "execution_count": 13,
   "metadata": {},
   "outputs": [
    {
     "name": "stdout",
     "output_type": "stream",
     "text": [
      "A star shining through Saturn's rings  \n",
      "This is Saturn  \n"
     ]
    }
   ],
   "source": [
    "print(df_nasa_keep_colmn['text_merged'][0])\n",
    "print(df_nasa_keep_colmn['text_merged'][5999])"
   ]
  },
  {
   "cell_type": "markdown",
   "metadata": {},
   "source": [
    "## Space discussion data."
   ]
  },
  {
   "cell_type": "code",
   "execution_count": 14,
   "metadata": {},
   "outputs": [],
   "source": [
    "file_path = \"../DataSet/\"\n",
    "file_name = \"df_space.csv\"\n",
    "df_space = pd.read_csv(file_path+file_name)"
   ]
  },
  {
   "cell_type": "code",
   "execution_count": 15,
   "metadata": {},
   "outputs": [
    {
     "data": {
      "text/plain": [
       "(6000, 78)"
      ]
     },
     "execution_count": 15,
     "metadata": {},
     "output_type": "execute_result"
    }
   ],
   "source": [
    "df_space.shape"
   ]
  },
  {
   "cell_type": "code",
   "execution_count": 16,
   "metadata": {},
   "outputs": [
    {
     "name": "stdout",
     "output_type": "stream",
     "text": [
      "<class 'pandas.core.frame.DataFrame'>\n",
      "RangeIndex: 6000 entries, 0 to 5999\n",
      "Data columns (total 78 columns):\n",
      " #   Column                         Non-Null Count  Dtype  \n",
      "---  ------                         --------------  -----  \n",
      " 0   Unnamed: 0                     6000 non-null   int64  \n",
      " 1   index                          6000 non-null   int64  \n",
      " 2   all_awardings                  6000 non-null   object \n",
      " 3   allow_live_comments            6000 non-null   bool   \n",
      " 4   author                         6000 non-null   object \n",
      " 5   author_cakeday                 22 non-null     object \n",
      " 6   author_flair_background_color  0 non-null      float64\n",
      " 7   author_flair_css_class         0 non-null      float64\n",
      " 8   author_flair_richtext          6000 non-null   object \n",
      " 9   author_flair_text              14 non-null     object \n",
      " 10  author_flair_text_color        14 non-null     object \n",
      " 11  author_flair_type              6000 non-null   object \n",
      " 12  author_fullname                6000 non-null   object \n",
      " 13  author_patreon_flair           6000 non-null   bool   \n",
      " 14  author_premium                 3787 non-null   object \n",
      " 15  awarders                       6000 non-null   object \n",
      " 16  can_mod_post                   6000 non-null   bool   \n",
      " 17  contest_mode                   6000 non-null   bool   \n",
      " 18  created_utc                    6000 non-null   int64  \n",
      " 19  domain                         6000 non-null   object \n",
      " 20  edited                         4 non-null      float64\n",
      " 21  full_link                      6000 non-null   object \n",
      " 22  gilded                         2 non-null      float64\n",
      " 23  gildings                       6000 non-null   object \n",
      " 24  id                             6000 non-null   object \n",
      " 25  is_crosspostable               6000 non-null   bool   \n",
      " 26  is_meta                        6000 non-null   bool   \n",
      " 27  is_original_content            6000 non-null   bool   \n",
      " 28  is_reddit_media_domain         6000 non-null   bool   \n",
      " 29  is_robot_indexable             6000 non-null   bool   \n",
      " 30  is_self                        6000 non-null   bool   \n",
      " 31  is_video                       6000 non-null   bool   \n",
      " 32  link_flair_background_color    0 non-null      float64\n",
      " 33  link_flair_css_class           1219 non-null   object \n",
      " 34  link_flair_richtext            6000 non-null   object \n",
      " 35  link_flair_template_id         2 non-null      object \n",
      " 36  link_flair_text                1223 non-null   object \n",
      " 37  link_flair_text_color          6000 non-null   object \n",
      " 38  link_flair_type                6000 non-null   object \n",
      " 39  locked                         6000 non-null   bool   \n",
      " 40  media                          443 non-null    object \n",
      " 41  media_embed                    431 non-null    object \n",
      " 42  media_metadata                 39 non-null     object \n",
      " 43  media_only                     6000 non-null   bool   \n",
      " 44  no_follow                      6000 non-null   bool   \n",
      " 45  num_comments                   6000 non-null   int64  \n",
      " 46  num_crossposts                 6000 non-null   int64  \n",
      " 47  over_18                        6000 non-null   bool   \n",
      " 48  parent_whitelist_status        6000 non-null   object \n",
      " 49  permalink                      6000 non-null   object \n",
      " 50  pinned                         6000 non-null   bool   \n",
      " 51  post_hint                      2267 non-null   object \n",
      " 52  preview                        2267 non-null   object \n",
      " 53  pwls                           6000 non-null   int64  \n",
      " 54  removed_by                     329 non-null    object \n",
      " 55  removed_by_category            639 non-null    object \n",
      " 56  retrieved_on                   6000 non-null   int64  \n",
      " 57  score                          6000 non-null   int64  \n",
      " 58  secure_media                   443 non-null    object \n",
      " 59  secure_media_embed             431 non-null    object \n",
      " 60  selftext                       1176 non-null   object \n",
      " 61  send_replies                   6000 non-null   bool   \n",
      " 62  spoiler                        6000 non-null   bool   \n",
      " 63  steward_reports                5999 non-null   object \n",
      " 64  stickied                       6000 non-null   bool   \n",
      " 65  subreddit                      6000 non-null   object \n",
      " 66  subreddit_id                   6000 non-null   object \n",
      " 67  subreddit_subscribers          6000 non-null   int64  \n",
      " 68  subreddit_type                 6000 non-null   object \n",
      " 69  suggested_sort                 3 non-null      object \n",
      " 70  thumbnail                      6000 non-null   object \n",
      " 71  thumbnail_height               2215 non-null   float64\n",
      " 72  thumbnail_width                2215 non-null   float64\n",
      " 73  title                          6000 non-null   object \n",
      " 74  total_awards_received          6000 non-null   int64  \n",
      " 75  url                            6000 non-null   object \n",
      " 76  whitelist_status               6000 non-null   object \n",
      " 77  wls                            6000 non-null   int64  \n",
      "dtypes: bool(19), float64(7), int64(11), object(41)\n",
      "memory usage: 2.8+ MB\n"
     ]
    }
   ],
   "source": [
    "df_space.info()"
   ]
  },
  {
   "cell_type": "code",
   "execution_count": 17,
   "metadata": {},
   "outputs": [],
   "source": [
    "df_space_keep_colmn = df_space[keep_clmns]"
   ]
  },
  {
   "cell_type": "code",
   "execution_count": 18,
   "metadata": {},
   "outputs": [
    {
     "data": {
      "text/html": [
       "<div>\n",
       "<style scoped>\n",
       "    .dataframe tbody tr th:only-of-type {\n",
       "        vertical-align: middle;\n",
       "    }\n",
       "\n",
       "    .dataframe tbody tr th {\n",
       "        vertical-align: top;\n",
       "    }\n",
       "\n",
       "    .dataframe thead th {\n",
       "        text-align: right;\n",
       "    }\n",
       "</style>\n",
       "<table border=\"1\" class=\"dataframe\">\n",
       "  <thead>\n",
       "    <tr style=\"text-align: right;\">\n",
       "      <th></th>\n",
       "      <th>author</th>\n",
       "      <th>created_utc</th>\n",
       "      <th>domain</th>\n",
       "      <th>id</th>\n",
       "      <th>num_comments</th>\n",
       "      <th>over_18</th>\n",
       "      <th>post_hint</th>\n",
       "      <th>score</th>\n",
       "      <th>selftext</th>\n",
       "      <th>title</th>\n",
       "    </tr>\n",
       "  </thead>\n",
       "  <tbody>\n",
       "    <tr>\n",
       "      <th>0</th>\n",
       "      <td>Orchestratorgroup</td>\n",
       "      <td>1579412906</td>\n",
       "      <td>baysidesoap.com.au</td>\n",
       "      <td>eqsjlh</td>\n",
       "      <td>0</td>\n",
       "      <td>False</td>\n",
       "      <td>NaN</td>\n",
       "      <td>1</td>\n",
       "      <td>NaN</td>\n",
       "      <td>Basic Goats Milk Soap Base - Low Sweat</td>\n",
       "    </tr>\n",
       "    <tr>\n",
       "      <th>1</th>\n",
       "      <td>Official_CIA_Account</td>\n",
       "      <td>1579412748</td>\n",
       "      <td>self.space</td>\n",
       "      <td>eqsint</td>\n",
       "      <td>0</td>\n",
       "      <td>False</td>\n",
       "      <td>NaN</td>\n",
       "      <td>1</td>\n",
       "      <td>Sue: It looks like the NASA guys had to resche...</td>\n",
       "      <td>Veep quote, S02E07</td>\n",
       "    </tr>\n",
       "    <tr>\n",
       "      <th>2</th>\n",
       "      <td>toddvii</td>\n",
       "      <td>1579412727</td>\n",
       "      <td>self.space</td>\n",
       "      <td>eqsikq</td>\n",
       "      <td>4</td>\n",
       "      <td>False</td>\n",
       "      <td>NaN</td>\n",
       "      <td>1</td>\n",
       "      <td>I’m gonna be real with you, I am a 21 year old...</td>\n",
       "      <td>Online space-related degree</td>\n",
       "    </tr>\n",
       "    <tr>\n",
       "      <th>3</th>\n",
       "      <td>ParkingCup7</td>\n",
       "      <td>1579411077</td>\n",
       "      <td>self.space</td>\n",
       "      <td>eqs9jw</td>\n",
       "      <td>1</td>\n",
       "      <td>False</td>\n",
       "      <td>NaN</td>\n",
       "      <td>1</td>\n",
       "      <td>&amp;amp;#x200B;\\r\\n\\r\\nhttps://preview.redd.it/cn...</td>\n",
       "      <td>Took this with a camcorder since I don't have ...</td>\n",
       "    </tr>\n",
       "    <tr>\n",
       "      <th>4</th>\n",
       "      <td>nmdzwptsw</td>\n",
       "      <td>1579410811</td>\n",
       "      <td>universetoday.com</td>\n",
       "      <td>eqs831</td>\n",
       "      <td>0</td>\n",
       "      <td>False</td>\n",
       "      <td>NaN</td>\n",
       "      <td>1</td>\n",
       "      <td>NaN</td>\n",
       "      <td>A Mysterious Burst of Gravitational Waves Came...</td>\n",
       "    </tr>\n",
       "  </tbody>\n",
       "</table>\n",
       "</div>"
      ],
      "text/plain": [
       "                 author  created_utc              domain      id  \\\n",
       "0     Orchestratorgroup   1579412906  baysidesoap.com.au  eqsjlh   \n",
       "1  Official_CIA_Account   1579412748          self.space  eqsint   \n",
       "2               toddvii   1579412727          self.space  eqsikq   \n",
       "3           ParkingCup7   1579411077          self.space  eqs9jw   \n",
       "4             nmdzwptsw   1579410811   universetoday.com  eqs831   \n",
       "\n",
       "   num_comments  over_18 post_hint  score  \\\n",
       "0             0    False       NaN      1   \n",
       "1             0    False       NaN      1   \n",
       "2             4    False       NaN      1   \n",
       "3             1    False       NaN      1   \n",
       "4             0    False       NaN      1   \n",
       "\n",
       "                                            selftext  \\\n",
       "0                                                NaN   \n",
       "1  Sue: It looks like the NASA guys had to resche...   \n",
       "2  I’m gonna be real with you, I am a 21 year old...   \n",
       "3  &amp;#x200B;\\r\\n\\r\\nhttps://preview.redd.it/cn...   \n",
       "4                                                NaN   \n",
       "\n",
       "                                               title  \n",
       "0             Basic Goats Milk Soap Base - Low Sweat  \n",
       "1                                 Veep quote, S02E07  \n",
       "2                        Online space-related degree  \n",
       "3  Took this with a camcorder since I don't have ...  \n",
       "4  A Mysterious Burst of Gravitational Waves Came...  "
      ]
     },
     "execution_count": 18,
     "metadata": {},
     "output_type": "execute_result"
    }
   ],
   "source": [
    "df_space_keep_colmn.head(5)"
   ]
  },
  {
   "cell_type": "code",
   "execution_count": 19,
   "metadata": {},
   "outputs": [
    {
     "data": {
      "text/plain": [
       "author             0\n",
       "created_utc        0\n",
       "domain             0\n",
       "id                 0\n",
       "num_comments       0\n",
       "over_18            0\n",
       "post_hint       3733\n",
       "score              0\n",
       "selftext        4824\n",
       "title              0\n",
       "dtype: int64"
      ]
     },
     "execution_count": 19,
     "metadata": {},
     "output_type": "execute_result"
    }
   ],
   "source": [
    "df_space_keep_colmn.isnull().sum()"
   ]
  },
  {
   "cell_type": "code",
   "execution_count": 20,
   "metadata": {},
   "outputs": [],
   "source": [
    "df_space_keep_colmn[\"title\"].fillna(\" \", inplace=True)\n",
    "df_space_keep_colmn[\"selftext\"].fillna(\" \", inplace=True)"
   ]
  },
  {
   "cell_type": "code",
   "execution_count": 21,
   "metadata": {},
   "outputs": [],
   "source": [
    "df_space_keep_colmn['text_merged'] = df_space_keep_colmn['title'] + \" \" + df_space_keep_colmn['selftext']\n",
    "df_space_keep_colmn.drop(columns = [\"title\", \"selftext\"], inplace=True)"
   ]
  },
  {
   "cell_type": "code",
   "execution_count": 22,
   "metadata": {},
   "outputs": [],
   "source": [
    "df_space_keep_colmn['post_hint'].fillna(\"Empty\", inplace=True)"
   ]
  },
  {
   "cell_type": "code",
   "execution_count": 23,
   "metadata": {},
   "outputs": [
    {
     "data": {
      "text/html": [
       "<div>\n",
       "<style scoped>\n",
       "    .dataframe tbody tr th:only-of-type {\n",
       "        vertical-align: middle;\n",
       "    }\n",
       "\n",
       "    .dataframe tbody tr th {\n",
       "        vertical-align: top;\n",
       "    }\n",
       "\n",
       "    .dataframe thead th {\n",
       "        text-align: right;\n",
       "    }\n",
       "</style>\n",
       "<table border=\"1\" class=\"dataframe\">\n",
       "  <thead>\n",
       "    <tr style=\"text-align: right;\">\n",
       "      <th></th>\n",
       "      <th>author</th>\n",
       "      <th>created_utc</th>\n",
       "      <th>domain</th>\n",
       "      <th>id</th>\n",
       "      <th>num_comments</th>\n",
       "      <th>over_18</th>\n",
       "      <th>post_hint</th>\n",
       "      <th>score</th>\n",
       "      <th>text_merged</th>\n",
       "    </tr>\n",
       "  </thead>\n",
       "  <tbody>\n",
       "    <tr>\n",
       "      <th>0</th>\n",
       "      <td>Orchestratorgroup</td>\n",
       "      <td>1579412906</td>\n",
       "      <td>baysidesoap.com.au</td>\n",
       "      <td>eqsjlh</td>\n",
       "      <td>0</td>\n",
       "      <td>False</td>\n",
       "      <td>Empty</td>\n",
       "      <td>1</td>\n",
       "      <td>Basic Goats Milk Soap Base - Low Sweat</td>\n",
       "    </tr>\n",
       "    <tr>\n",
       "      <th>1</th>\n",
       "      <td>Official_CIA_Account</td>\n",
       "      <td>1579412748</td>\n",
       "      <td>self.space</td>\n",
       "      <td>eqsint</td>\n",
       "      <td>0</td>\n",
       "      <td>False</td>\n",
       "      <td>Empty</td>\n",
       "      <td>1</td>\n",
       "      <td>Veep quote, S02E07 Sue: It looks like the NASA...</td>\n",
       "    </tr>\n",
       "    <tr>\n",
       "      <th>2</th>\n",
       "      <td>toddvii</td>\n",
       "      <td>1579412727</td>\n",
       "      <td>self.space</td>\n",
       "      <td>eqsikq</td>\n",
       "      <td>4</td>\n",
       "      <td>False</td>\n",
       "      <td>Empty</td>\n",
       "      <td>1</td>\n",
       "      <td>Online space-related degree I’m gonna be real ...</td>\n",
       "    </tr>\n",
       "    <tr>\n",
       "      <th>3</th>\n",
       "      <td>ParkingCup7</td>\n",
       "      <td>1579411077</td>\n",
       "      <td>self.space</td>\n",
       "      <td>eqs9jw</td>\n",
       "      <td>1</td>\n",
       "      <td>False</td>\n",
       "      <td>Empty</td>\n",
       "      <td>1</td>\n",
       "      <td>Took this with a camcorder since I don't have ...</td>\n",
       "    </tr>\n",
       "    <tr>\n",
       "      <th>4</th>\n",
       "      <td>nmdzwptsw</td>\n",
       "      <td>1579410811</td>\n",
       "      <td>universetoday.com</td>\n",
       "      <td>eqs831</td>\n",
       "      <td>0</td>\n",
       "      <td>False</td>\n",
       "      <td>Empty</td>\n",
       "      <td>1</td>\n",
       "      <td>A Mysterious Burst of Gravitational Waves Came...</td>\n",
       "    </tr>\n",
       "  </tbody>\n",
       "</table>\n",
       "</div>"
      ],
      "text/plain": [
       "                 author  created_utc              domain      id  \\\n",
       "0     Orchestratorgroup   1579412906  baysidesoap.com.au  eqsjlh   \n",
       "1  Official_CIA_Account   1579412748          self.space  eqsint   \n",
       "2               toddvii   1579412727          self.space  eqsikq   \n",
       "3           ParkingCup7   1579411077          self.space  eqs9jw   \n",
       "4             nmdzwptsw   1579410811   universetoday.com  eqs831   \n",
       "\n",
       "   num_comments  over_18 post_hint  score  \\\n",
       "0             0    False     Empty      1   \n",
       "1             0    False     Empty      1   \n",
       "2             4    False     Empty      1   \n",
       "3             1    False     Empty      1   \n",
       "4             0    False     Empty      1   \n",
       "\n",
       "                                         text_merged  \n",
       "0           Basic Goats Milk Soap Base - Low Sweat    \n",
       "1  Veep quote, S02E07 Sue: It looks like the NASA...  \n",
       "2  Online space-related degree I’m gonna be real ...  \n",
       "3  Took this with a camcorder since I don't have ...  \n",
       "4  A Mysterious Burst of Gravitational Waves Came...  "
      ]
     },
     "execution_count": 23,
     "metadata": {},
     "output_type": "execute_result"
    }
   ],
   "source": [
    "df_space_keep_colmn.head()"
   ]
  },
  {
   "cell_type": "code",
   "execution_count": 24,
   "metadata": {},
   "outputs": [
    {
     "data": {
      "text/plain": [
       "author          0\n",
       "created_utc     0\n",
       "domain          0\n",
       "id              0\n",
       "num_comments    0\n",
       "over_18         0\n",
       "post_hint       0\n",
       "score           0\n",
       "text_merged     0\n",
       "dtype: int64"
      ]
     },
     "execution_count": 24,
     "metadata": {},
     "output_type": "execute_result"
    }
   ],
   "source": [
    "df_space_keep_colmn.isnull().sum()"
   ]
  },
  {
   "cell_type": "code",
   "execution_count": 25,
   "metadata": {},
   "outputs": [
    {
     "name": "stdout",
     "output_type": "stream",
     "text": [
      "Basic Goats Milk Soap Base - Low Sweat  \n",
      "The Eastern Veil Nebula  \n"
     ]
    }
   ],
   "source": [
    "print(df_space_keep_colmn['text_merged'][0])\n",
    "print(df_space_keep_colmn['text_merged'][5999])"
   ]
  },
  {
   "cell_type": "markdown",
   "metadata": {},
   "source": [
    "Adding a colmn to determine the source of each data (Nasa or Space) and merging two sets of data to one."
   ]
  },
  {
   "cell_type": "code",
   "execution_count": 26,
   "metadata": {},
   "outputs": [
    {
     "data": {
      "text/html": [
       "<div>\n",
       "<style scoped>\n",
       "    .dataframe tbody tr th:only-of-type {\n",
       "        vertical-align: middle;\n",
       "    }\n",
       "\n",
       "    .dataframe tbody tr th {\n",
       "        vertical-align: top;\n",
       "    }\n",
       "\n",
       "    .dataframe thead th {\n",
       "        text-align: right;\n",
       "    }\n",
       "</style>\n",
       "<table border=\"1\" class=\"dataframe\">\n",
       "  <thead>\n",
       "    <tr style=\"text-align: right;\">\n",
       "      <th></th>\n",
       "      <th>author</th>\n",
       "      <th>created_utc</th>\n",
       "      <th>domain</th>\n",
       "      <th>id</th>\n",
       "      <th>num_comments</th>\n",
       "      <th>over_18</th>\n",
       "      <th>post_hint</th>\n",
       "      <th>score</th>\n",
       "      <th>text_merged</th>\n",
       "      <th>subreddit</th>\n",
       "    </tr>\n",
       "  </thead>\n",
       "  <tbody>\n",
       "    <tr>\n",
       "      <th>0</th>\n",
       "      <td>illichian</td>\n",
       "      <td>1579413305</td>\n",
       "      <td>i.imgur.com</td>\n",
       "      <td>eqsltj</td>\n",
       "      <td>2</td>\n",
       "      <td>False</td>\n",
       "      <td>link</td>\n",
       "      <td>1</td>\n",
       "      <td>A star shining through Saturn's rings</td>\n",
       "      <td>NASA</td>\n",
       "    </tr>\n",
       "    <tr>\n",
       "      <th>1</th>\n",
       "      <td>itstie</td>\n",
       "      <td>1579412680</td>\n",
       "      <td>i.redd.it</td>\n",
       "      <td>eqsibf</td>\n",
       "      <td>0</td>\n",
       "      <td>False</td>\n",
       "      <td>Empty</td>\n",
       "      <td>1</td>\n",
       "      <td>From Smithsonian National Air and Space Museum</td>\n",
       "      <td>NASA</td>\n",
       "    </tr>\n",
       "    <tr>\n",
       "      <th>2</th>\n",
       "      <td>NASA_POTD_bot</td>\n",
       "      <td>1579410507</td>\n",
       "      <td>apod.nasa.gov</td>\n",
       "      <td>eqs6cb</td>\n",
       "      <td>0</td>\n",
       "      <td>False</td>\n",
       "      <td>Empty</td>\n",
       "      <td>1</td>\n",
       "      <td>M1: The Incredible Expanding Crab Nebula</td>\n",
       "      <td>NASA</td>\n",
       "    </tr>\n",
       "    <tr>\n",
       "      <th>3</th>\n",
       "      <td>AMC-Eagle85</td>\n",
       "      <td>1579410277</td>\n",
       "      <td>i.redd.it</td>\n",
       "      <td>eqs4zd</td>\n",
       "      <td>6</td>\n",
       "      <td>False</td>\n",
       "      <td>Empty</td>\n",
       "      <td>1</td>\n",
       "      <td>Columbia ready for STS-107</td>\n",
       "      <td>NASA</td>\n",
       "    </tr>\n",
       "    <tr>\n",
       "      <th>4</th>\n",
       "      <td>BorisTheSpacePerson</td>\n",
       "      <td>1579404939</td>\n",
       "      <td>i.redd.it</td>\n",
       "      <td>eqr7wu</td>\n",
       "      <td>0</td>\n",
       "      <td>False</td>\n",
       "      <td>Empty</td>\n",
       "      <td>1</td>\n",
       "      <td>I went to ksc for Christmas and got to see wha...</td>\n",
       "      <td>NASA</td>\n",
       "    </tr>\n",
       "  </tbody>\n",
       "</table>\n",
       "</div>"
      ],
      "text/plain": [
       "                author  created_utc         domain      id  num_comments  \\\n",
       "0            illichian   1579413305    i.imgur.com  eqsltj             2   \n",
       "1               itstie   1579412680      i.redd.it  eqsibf             0   \n",
       "2        NASA_POTD_bot   1579410507  apod.nasa.gov  eqs6cb             0   \n",
       "3          AMC-Eagle85   1579410277      i.redd.it  eqs4zd             6   \n",
       "4  BorisTheSpacePerson   1579404939      i.redd.it  eqr7wu             0   \n",
       "\n",
       "   over_18 post_hint  score  \\\n",
       "0    False      link      1   \n",
       "1    False     Empty      1   \n",
       "2    False     Empty      1   \n",
       "3    False     Empty      1   \n",
       "4    False     Empty      1   \n",
       "\n",
       "                                         text_merged subreddit  \n",
       "0            A star shining through Saturn's rings        NASA  \n",
       "1   From Smithsonian National Air and Space Museum        NASA  \n",
       "2         M1: The Incredible Expanding Crab Nebula        NASA  \n",
       "3                       Columbia ready for STS-107        NASA  \n",
       "4  I went to ksc for Christmas and got to see wha...      NASA  "
      ]
     },
     "execution_count": 26,
     "metadata": {},
     "output_type": "execute_result"
    }
   ],
   "source": [
    "#Adding one column to determine the subreddit pulled from\n",
    "df_nasa_keep_colmn[\"subreddit\"] = \"NASA\"\n",
    "df_space_keep_colmn[\"subreddit\"] = \"Space_discussion\"\n",
    "df_reddit = pd.concat([df_nasa_keep_colmn, df_space_keep_colmn], axis = 0, ignore_index=True)\n",
    "df_reddit.head(5)"
   ]
  },
  {
   "cell_type": "code",
   "execution_count": 27,
   "metadata": {},
   "outputs": [
    {
     "data": {
      "text/plain": [
       "(12000, 10)"
      ]
     },
     "execution_count": 27,
     "metadata": {},
     "output_type": "execute_result"
    }
   ],
   "source": [
    "df_reddit.shape"
   ]
  },
  {
   "cell_type": "markdown",
   "metadata": {},
   "source": [
    "Write a function to do regex on text_merged. We are going to do the following edits:\n",
    "\n",
    "* **Removing \"\\n\" characters**\n",
    "* **Removing the [removed] characters**\n",
    "* **Use regular expressions to do a find-and-replace**\n",
    "* **Making all characters lower case**\n",
    "* **Replacing multiple spaces**\n",
    "* **Removing stopwords**\n",
    "* **Instantiate object of class PorterStemmer and stemming**\n",
    "* **Adding space to stitch the words together**\n"
   ]
  },
  {
   "cell_type": "code",
   "execution_count": 28,
   "metadata": {},
   "outputs": [
    {
     "data": {
      "text/html": [
       "<div>\n",
       "<style scoped>\n",
       "    .dataframe tbody tr th:only-of-type {\n",
       "        vertical-align: middle;\n",
       "    }\n",
       "\n",
       "    .dataframe tbody tr th {\n",
       "        vertical-align: top;\n",
       "    }\n",
       "\n",
       "    .dataframe thead th {\n",
       "        text-align: right;\n",
       "    }\n",
       "</style>\n",
       "<table border=\"1\" class=\"dataframe\">\n",
       "  <thead>\n",
       "    <tr style=\"text-align: right;\">\n",
       "      <th></th>\n",
       "      <th>author</th>\n",
       "      <th>created_utc</th>\n",
       "      <th>domain</th>\n",
       "      <th>id</th>\n",
       "      <th>num_comments</th>\n",
       "      <th>over_18</th>\n",
       "      <th>post_hint</th>\n",
       "      <th>score</th>\n",
       "      <th>text_merged</th>\n",
       "      <th>subreddit</th>\n",
       "    </tr>\n",
       "  </thead>\n",
       "  <tbody>\n",
       "    <tr>\n",
       "      <th>0</th>\n",
       "      <td>illichian</td>\n",
       "      <td>1579413305</td>\n",
       "      <td>i.imgur.com</td>\n",
       "      <td>eqsltj</td>\n",
       "      <td>2</td>\n",
       "      <td>False</td>\n",
       "      <td>link</td>\n",
       "      <td>1</td>\n",
       "      <td>star shine saturn ring</td>\n",
       "      <td>NASA</td>\n",
       "    </tr>\n",
       "    <tr>\n",
       "      <th>1</th>\n",
       "      <td>itstie</td>\n",
       "      <td>1579412680</td>\n",
       "      <td>i.redd.it</td>\n",
       "      <td>eqsibf</td>\n",
       "      <td>0</td>\n",
       "      <td>False</td>\n",
       "      <td>Empty</td>\n",
       "      <td>1</td>\n",
       "      <td>smithsonian nation air space museum</td>\n",
       "      <td>NASA</td>\n",
       "    </tr>\n",
       "    <tr>\n",
       "      <th>2</th>\n",
       "      <td>NASA_POTD_bot</td>\n",
       "      <td>1579410507</td>\n",
       "      <td>apod.nasa.gov</td>\n",
       "      <td>eqs6cb</td>\n",
       "      <td>0</td>\n",
       "      <td>False</td>\n",
       "      <td>Empty</td>\n",
       "      <td>1</td>\n",
       "      <td>incred expand crab nebula</td>\n",
       "      <td>NASA</td>\n",
       "    </tr>\n",
       "    <tr>\n",
       "      <th>3</th>\n",
       "      <td>AMC-Eagle85</td>\n",
       "      <td>1579410277</td>\n",
       "      <td>i.redd.it</td>\n",
       "      <td>eqs4zd</td>\n",
       "      <td>6</td>\n",
       "      <td>False</td>\n",
       "      <td>Empty</td>\n",
       "      <td>1</td>\n",
       "      <td>columbia readi st</td>\n",
       "      <td>NASA</td>\n",
       "    </tr>\n",
       "    <tr>\n",
       "      <th>4</th>\n",
       "      <td>BorisTheSpacePerson</td>\n",
       "      <td>1579404939</td>\n",
       "      <td>i.redd.it</td>\n",
       "      <td>eqr7wu</td>\n",
       "      <td>0</td>\n",
       "      <td>False</td>\n",
       "      <td>Empty</td>\n",
       "      <td>1</td>\n",
       "      <td>went ksc christma got see made interest spacef...</td>\n",
       "      <td>NASA</td>\n",
       "    </tr>\n",
       "    <tr>\n",
       "      <th>...</th>\n",
       "      <td>...</td>\n",
       "      <td>...</td>\n",
       "      <td>...</td>\n",
       "      <td>...</td>\n",
       "      <td>...</td>\n",
       "      <td>...</td>\n",
       "      <td>...</td>\n",
       "      <td>...</td>\n",
       "      <td>...</td>\n",
       "      <td>...</td>\n",
       "    </tr>\n",
       "    <tr>\n",
       "      <th>11995</th>\n",
       "      <td>MistWeaver80</td>\n",
       "      <td>1573344101</td>\n",
       "      <td>i.redd.it</td>\n",
       "      <td>du3zh9</td>\n",
       "      <td>1</td>\n",
       "      <td>False</td>\n",
       "      <td>image</td>\n",
       "      <td>1</td>\n",
       "      <td>strike imag jupit captur nasa juno spacecraft ...</td>\n",
       "      <td>Space_discussion</td>\n",
       "    </tr>\n",
       "    <tr>\n",
       "      <th>11996</th>\n",
       "      <td>Idontlikecock</td>\n",
       "      <td>1573344003</td>\n",
       "      <td>i.redd.it</td>\n",
       "      <td>du3yub</td>\n",
       "      <td>1768</td>\n",
       "      <td>False</td>\n",
       "      <td>Empty</td>\n",
       "      <td>1</td>\n",
       "      <td>use hour exposur night sky reveal hundr galaxi...</td>\n",
       "      <td>Space_discussion</td>\n",
       "    </tr>\n",
       "    <tr>\n",
       "      <th>11997</th>\n",
       "      <td>Anchor-shark</td>\n",
       "      <td>1573342956</td>\n",
       "      <td>spaceflightnow.com</td>\n",
       "      <td>du3r89</td>\n",
       "      <td>8</td>\n",
       "      <td>False</td>\n",
       "      <td>Empty</td>\n",
       "      <td>1</td>\n",
       "      <td>boe identifi starlin parachut malfunct caus hu...</td>\n",
       "      <td>Space_discussion</td>\n",
       "    </tr>\n",
       "    <tr>\n",
       "      <th>11998</th>\n",
       "      <td>rosebudlodestar</td>\n",
       "      <td>1573339672</td>\n",
       "      <td>vimeo.com</td>\n",
       "      <td>du32pq</td>\n",
       "      <td>0</td>\n",
       "      <td>False</td>\n",
       "      <td>Empty</td>\n",
       "      <td>1</td>\n",
       "      <td>carl sagan read complet chapter book pale blue...</td>\n",
       "      <td>Space_discussion</td>\n",
       "    </tr>\n",
       "    <tr>\n",
       "      <th>11999</th>\n",
       "      <td>martin96123</td>\n",
       "      <td>1573337600</td>\n",
       "      <td>i.redd.it</td>\n",
       "      <td>du2mbq</td>\n",
       "      <td>1</td>\n",
       "      <td>False</td>\n",
       "      <td>Empty</td>\n",
       "      <td>1</td>\n",
       "      <td>eastern veil nebula</td>\n",
       "      <td>Space_discussion</td>\n",
       "    </tr>\n",
       "  </tbody>\n",
       "</table>\n",
       "<p>12000 rows × 10 columns</p>\n",
       "</div>"
      ],
      "text/plain": [
       "                    author  created_utc              domain      id  \\\n",
       "0                illichian   1579413305         i.imgur.com  eqsltj   \n",
       "1                   itstie   1579412680           i.redd.it  eqsibf   \n",
       "2            NASA_POTD_bot   1579410507       apod.nasa.gov  eqs6cb   \n",
       "3              AMC-Eagle85   1579410277           i.redd.it  eqs4zd   \n",
       "4      BorisTheSpacePerson   1579404939           i.redd.it  eqr7wu   \n",
       "...                    ...          ...                 ...     ...   \n",
       "11995         MistWeaver80   1573344101           i.redd.it  du3zh9   \n",
       "11996        Idontlikecock   1573344003           i.redd.it  du3yub   \n",
       "11997         Anchor-shark   1573342956  spaceflightnow.com  du3r89   \n",
       "11998      rosebudlodestar   1573339672           vimeo.com  du32pq   \n",
       "11999          martin96123   1573337600           i.redd.it  du2mbq   \n",
       "\n",
       "       num_comments  over_18 post_hint  score  \\\n",
       "0                 2    False      link      1   \n",
       "1                 0    False     Empty      1   \n",
       "2                 0    False     Empty      1   \n",
       "3                 6    False     Empty      1   \n",
       "4                 0    False     Empty      1   \n",
       "...             ...      ...       ...    ...   \n",
       "11995             1    False     image      1   \n",
       "11996          1768    False     Empty      1   \n",
       "11997             8    False     Empty      1   \n",
       "11998             0    False     Empty      1   \n",
       "11999             1    False     Empty      1   \n",
       "\n",
       "                                             text_merged         subreddit  \n",
       "0                                 star shine saturn ring              NASA  \n",
       "1                    smithsonian nation air space museum              NASA  \n",
       "2                              incred expand crab nebula              NASA  \n",
       "3                                      columbia readi st              NASA  \n",
       "4      went ksc christma got see made interest spacef...              NASA  \n",
       "...                                                  ...               ...  \n",
       "11995  strike imag jupit captur nasa juno spacecraft ...  Space_discussion  \n",
       "11996  use hour exposur night sky reveal hundr galaxi...  Space_discussion  \n",
       "11997  boe identifi starlin parachut malfunct caus hu...  Space_discussion  \n",
       "11998  carl sagan read complet chapter book pale blue...  Space_discussion  \n",
       "11999                                eastern veil nebula  Space_discussion  \n",
       "\n",
       "[12000 rows x 10 columns]"
      ]
     },
     "execution_count": 28,
     "metadata": {},
     "output_type": "execute_result"
    }
   ],
   "source": [
    "# inserting the parent directory into current path\n",
    "import sys; sys.path.insert(1, '../Functions')\n",
    "import text_cleaning \n",
    "text_cleaning.Apply(df_reddit)"
   ]
  },
  {
   "cell_type": "code",
   "execution_count": 29,
   "metadata": {},
   "outputs": [
    {
     "data": {
      "text/plain": [
       "(12000, 10)"
      ]
     },
     "execution_count": 29,
     "metadata": {},
     "output_type": "execute_result"
    }
   ],
   "source": [
    "df_reddit.shape"
   ]
  },
  {
   "cell_type": "code",
   "execution_count": 30,
   "metadata": {},
   "outputs": [
    {
     "name": "stdout",
     "output_type": "stream",
     "text": [
      "<class 'pandas.core.frame.DataFrame'>\n",
      "RangeIndex: 12000 entries, 0 to 11999\n",
      "Data columns (total 10 columns):\n",
      " #   Column        Non-Null Count  Dtype \n",
      "---  ------        --------------  ----- \n",
      " 0   author        12000 non-null  object\n",
      " 1   created_utc   12000 non-null  int64 \n",
      " 2   domain        12000 non-null  object\n",
      " 3   id            12000 non-null  object\n",
      " 4   num_comments  12000 non-null  int64 \n",
      " 5   over_18       12000 non-null  bool  \n",
      " 6   post_hint     12000 non-null  object\n",
      " 7   score         12000 non-null  int64 \n",
      " 8   text_merged   12000 non-null  object\n",
      " 9   subreddit     12000 non-null  object\n",
      "dtypes: bool(1), int64(3), object(6)\n",
      "memory usage: 855.6+ KB\n"
     ]
    }
   ],
   "source": [
    "df_reddit.info()"
   ]
  },
  {
   "cell_type": "markdown",
   "metadata": {},
   "source": [
    "Now let's use the pickle library to save the data."
   ]
  },
  {
   "cell_type": "code",
   "execution_count": 31,
   "metadata": {},
   "outputs": [],
   "source": [
    "pickle.dump(df_reddit, open('../DataSet/df_reddit.pkl', 'wb'))"
   ]
  },
  {
   "cell_type": "code",
   "execution_count": 32,
   "metadata": {},
   "outputs": [],
   "source": [
    "pickle.dump(df_nasa_keep_colmn, open('../DataSet/df_nasa_keep_colmn.pkl', 'wb'))\n",
    "pickle.dump(df_space_keep_colmn, open('../DataSet/df_space_keep_colmn.pkl', 'wb'))"
   ]
  },
  {
   "cell_type": "code",
   "execution_count": null,
   "metadata": {},
   "outputs": [],
   "source": []
  }
 ],
 "metadata": {
  "kernelspec": {
   "display_name": "Python 3",
   "language": "python",
   "name": "python3"
  },
  "language_info": {
   "codemirror_mode": {
    "name": "ipython",
    "version": 3
   },
   "file_extension": ".py",
   "mimetype": "text/x-python",
   "name": "python",
   "nbconvert_exporter": "python",
   "pygments_lexer": "ipython3",
   "version": "3.6.4"
  }
 },
 "nbformat": 4,
 "nbformat_minor": 4
}
