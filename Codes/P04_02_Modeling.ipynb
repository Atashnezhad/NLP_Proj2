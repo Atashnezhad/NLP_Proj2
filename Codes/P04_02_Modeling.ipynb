{
 "cells": [
  {
   "cell_type": "code",
   "execution_count": 30,
   "metadata": {},
   "outputs": [],
   "source": [
    "#imports\n",
    "import numpy as np\n",
    "import pandas as pd\n",
    "import matplotlib.pylab as plt\n",
    "import seaborn as sns\n",
    "import eli5\n",
    "\n",
    "import regex as re\n",
    "import nltk\n",
    "#nltk.download('vader_lexicon')\n",
    "from nltk.sentiment.vader import SentimentIntensityAnalyzer\n",
    "from sklearn.feature_extraction.text import CountVectorizer, TfidfVectorizer\n",
    "from sklearn.model_selection import cross_val_score, train_test_split, GridSearchCV\n",
    "from sklearn.linear_model import LogisticRegression\n",
    "from sklearn.pipeline import Pipeline\n",
    "from sklearn.naive_bayes import MultinomialNB\n",
    "from sklearn.neural_network import MLPClassifier\n",
    "from sklearn.metrics import accuracy_score\n",
    "from sklearn.svm import SVC\n",
    "from sklearn.metrics import confusion_matrix, plot_confusion_matrix\n",
    "from sklearn.ensemble import RandomForestClassifier, ExtraTreesClassifier\n",
    "from sklearn.model_selection import learning_curve\n",
    "\n",
    "from sklearn.ensemble import GradientBoostingClassifier, AdaBoostClassifier, VotingClassifier\n",
    "\n",
    "from nltk.corpus import stopwords\n",
    "\n",
    "import pickle\n",
    "import sys\n",
    "\n",
    "import warnings\n",
    "warnings.filterwarnings('ignore')\n",
    "# warnings.simplefilter(action='ignore', category=FutureWarning)"
   ]
  },
  {
   "cell_type": "code",
   "execution_count": 10,
   "metadata": {},
   "outputs": [
    {
     "data": {
      "text/html": [
       "<div>\n",
       "<style scoped>\n",
       "    .dataframe tbody tr th:only-of-type {\n",
       "        vertical-align: middle;\n",
       "    }\n",
       "\n",
       "    .dataframe tbody tr th {\n",
       "        vertical-align: top;\n",
       "    }\n",
       "\n",
       "    .dataframe thead th {\n",
       "        text-align: right;\n",
       "    }\n",
       "</style>\n",
       "<table border=\"1\" class=\"dataframe\">\n",
       "  <thead>\n",
       "    <tr style=\"text-align: right;\">\n",
       "      <th></th>\n",
       "      <th>ent</th>\n",
       "      <th>text_merged</th>\n",
       "      <th>word_count*</th>\n",
       "      <th>sentiment_score*</th>\n",
       "      <th>target</th>\n",
       "      <th>polarity_score</th>\n",
       "      <th>polarity</th>\n",
       "      <th>polarity_VSA</th>\n",
       "      <th>lower_sent</th>\n",
       "      <th>tagged_sent</th>\n",
       "      <th>text_complexity</th>\n",
       "    </tr>\n",
       "  </thead>\n",
       "  <tbody>\n",
       "    <tr>\n",
       "      <th>0</th>\n",
       "      <td>1</td>\n",
       "      <td>star shine saturn ring</td>\n",
       "      <td>4</td>\n",
       "      <td>0.0</td>\n",
       "      <td>1</td>\n",
       "      <td>0.0</td>\n",
       "      <td>1</td>\n",
       "      <td>1</td>\n",
       "      <td>star shine saturn ring</td>\n",
       "      <td>[(star, NN), (shine, NN), (saturn, NN), (ring,...</td>\n",
       "      <td>92.80</td>\n",
       "    </tr>\n",
       "    <tr>\n",
       "      <th>1</th>\n",
       "      <td>2</td>\n",
       "      <td>smithsonian nation air space museum</td>\n",
       "      <td>5</td>\n",
       "      <td>0.0</td>\n",
       "      <td>1</td>\n",
       "      <td>0.0</td>\n",
       "      <td>1</td>\n",
       "      <td>1</td>\n",
       "      <td>smithsonian nation air space museum</td>\n",
       "      <td>[(smithsonian, JJ), (nation, NN), (air, NN), (...</td>\n",
       "      <td>15.64</td>\n",
       "    </tr>\n",
       "  </tbody>\n",
       "</table>\n",
       "</div>"
      ],
      "text/plain": [
       "   ent                          text_merged  word_count*  sentiment_score*  \\\n",
       "0    1               star shine saturn ring            4               0.0   \n",
       "1    2  smithsonian nation air space museum            5               0.0   \n",
       "\n",
       "   target  polarity_score  polarity  polarity_VSA  \\\n",
       "0       1             0.0         1             1   \n",
       "1       1             0.0         1             1   \n",
       "\n",
       "                            lower_sent  \\\n",
       "0               star shine saturn ring   \n",
       "1  smithsonian nation air space museum   \n",
       "\n",
       "                                         tagged_sent  text_complexity  \n",
       "0  [(star, NN), (shine, NN), (saturn, NN), (ring,...            92.80  \n",
       "1  [(smithsonian, JJ), (nation, NN), (air, NN), (...            15.64  "
      ]
     },
     "execution_count": 10,
     "metadata": {},
     "output_type": "execute_result"
    }
   ],
   "source": [
    "# df_reddit = pickle.load(open('../DataSet/df_reddit_for_model.pkl', 'rb'))\n",
    "df_reddit = pickle.load(open('../DataSet/df_reddit_for_model.pkl', 'rb'))\n",
    "EDA_df = pickle.load(open('../DataSet/EDA_all_for_model.pkl', 'rb'))\n",
    "# df_reddit['target'] = df_reddit['subreddit'].replace({\"NASA\": 1, \"Space_discussion\": 0})\n",
    "df_reddit.head(2)"
   ]
  },
  {
   "cell_type": "code",
   "execution_count": 11,
   "metadata": {},
   "outputs": [
    {
     "data": {
      "text/html": [
       "<div>\n",
       "<style scoped>\n",
       "    .dataframe tbody tr th:only-of-type {\n",
       "        vertical-align: middle;\n",
       "    }\n",
       "\n",
       "    .dataframe tbody tr th {\n",
       "        vertical-align: top;\n",
       "    }\n",
       "\n",
       "    .dataframe thead th {\n",
       "        text-align: right;\n",
       "    }\n",
       "</style>\n",
       "<table border=\"1\" class=\"dataframe\">\n",
       "  <thead>\n",
       "    <tr style=\"text-align: right;\">\n",
       "      <th></th>\n",
       "      <th>target</th>\n",
       "      <th>''</th>\n",
       "      <th>CC</th>\n",
       "      <th>CD</th>\n",
       "      <th>DT</th>\n",
       "      <th>EX</th>\n",
       "      <th>FW</th>\n",
       "      <th>IN</th>\n",
       "      <th>JJ</th>\n",
       "      <th>JJR</th>\n",
       "      <th>...</th>\n",
       "      <th>WP</th>\n",
       "      <th>WP$</th>\n",
       "      <th>WRB</th>\n",
       "      <th>ent</th>\n",
       "      <th>word_count*</th>\n",
       "      <th>sentiment_score*</th>\n",
       "      <th>polarity_score</th>\n",
       "      <th>polarity</th>\n",
       "      <th>polarity_VSA</th>\n",
       "      <th>text_complexity</th>\n",
       "    </tr>\n",
       "  </thead>\n",
       "  <tbody>\n",
       "    <tr>\n",
       "      <th>0</th>\n",
       "      <td>1</td>\n",
       "      <td>0.0</td>\n",
       "      <td>0.0</td>\n",
       "      <td>0.0</td>\n",
       "      <td>0.0</td>\n",
       "      <td>0.0</td>\n",
       "      <td>0.0</td>\n",
       "      <td>0.0</td>\n",
       "      <td>0.0</td>\n",
       "      <td>0.0</td>\n",
       "      <td>...</td>\n",
       "      <td>0.0</td>\n",
       "      <td>0.0</td>\n",
       "      <td>0.0</td>\n",
       "      <td>1</td>\n",
       "      <td>4</td>\n",
       "      <td>0.0</td>\n",
       "      <td>0.0</td>\n",
       "      <td>1</td>\n",
       "      <td>1</td>\n",
       "      <td>92.80</td>\n",
       "    </tr>\n",
       "    <tr>\n",
       "      <th>1</th>\n",
       "      <td>1</td>\n",
       "      <td>0.0</td>\n",
       "      <td>0.0</td>\n",
       "      <td>0.0</td>\n",
       "      <td>0.0</td>\n",
       "      <td>0.0</td>\n",
       "      <td>0.0</td>\n",
       "      <td>0.0</td>\n",
       "      <td>1.0</td>\n",
       "      <td>0.0</td>\n",
       "      <td>...</td>\n",
       "      <td>0.0</td>\n",
       "      <td>0.0</td>\n",
       "      <td>0.0</td>\n",
       "      <td>2</td>\n",
       "      <td>5</td>\n",
       "      <td>0.0</td>\n",
       "      <td>0.0</td>\n",
       "      <td>1</td>\n",
       "      <td>1</td>\n",
       "      <td>15.64</td>\n",
       "    </tr>\n",
       "  </tbody>\n",
       "</table>\n",
       "<p>2 rows × 43 columns</p>\n",
       "</div>"
      ],
      "text/plain": [
       "   target   ''   CC   CD   DT   EX   FW   IN   JJ  JJR  ...   WP  WP$  WRB  \\\n",
       "0       1  0.0  0.0  0.0  0.0  0.0  0.0  0.0  0.0  0.0  ...  0.0  0.0  0.0   \n",
       "1       1  0.0  0.0  0.0  0.0  0.0  0.0  0.0  1.0  0.0  ...  0.0  0.0  0.0   \n",
       "\n",
       "   ent  word_count*  sentiment_score*  polarity_score  polarity  polarity_VSA  \\\n",
       "0    1            4               0.0             0.0         1             1   \n",
       "1    2            5               0.0             0.0         1             1   \n",
       "\n",
       "   text_complexity  \n",
       "0            92.80  \n",
       "1            15.64  \n",
       "\n",
       "[2 rows x 43 columns]"
      ]
     },
     "execution_count": 11,
     "metadata": {},
     "output_type": "execute_result"
    }
   ],
   "source": [
    "EDA_df.head(2)"
   ]
  },
  {
   "cell_type": "markdown",
   "metadata": {},
   "source": [
    "Defining X and Y variables and use train test split function"
   ]
  },
  {
   "cell_type": "code",
   "execution_count": 12,
   "metadata": {},
   "outputs": [],
   "source": [
    "X = df_reddit['text_merged']\n",
    "y = df_reddit['target']\n",
    "\n",
    "X_train, X_test, y_train, y_test = train_test_split(X,\n",
    "                                                    y,\n",
    "                                                    test_size = 0.25,\n",
    "                                                    stratify=y,\n",
    "                                                    random_state = 101)"
   ]
  },
  {
   "cell_type": "code",
   "execution_count": 13,
   "metadata": {},
   "outputs": [
    {
     "data": {
      "text/html": [
       "<div>\n",
       "<style scoped>\n",
       "    .dataframe tbody tr th:only-of-type {\n",
       "        vertical-align: middle;\n",
       "    }\n",
       "\n",
       "    .dataframe tbody tr th {\n",
       "        vertical-align: top;\n",
       "    }\n",
       "\n",
       "    .dataframe thead th {\n",
       "        text-align: right;\n",
       "    }\n",
       "</style>\n",
       "<table border=\"1\" class=\"dataframe\">\n",
       "  <thead>\n",
       "    <tr style=\"text-align: right;\">\n",
       "      <th></th>\n",
       "      <th>aa</th>\n",
       "      <th>ab</th>\n",
       "      <th>abil</th>\n",
       "      <th>abl</th>\n",
       "      <th>abl get</th>\n",
       "      <th>abl see</th>\n",
       "      <th>aboard</th>\n",
       "      <th>aboard intern</th>\n",
       "      <th>aboard space</th>\n",
       "      <th>abort</th>\n",
       "      <th>...</th>\n",
       "      <th>york</th>\n",
       "      <th>youlikebet</th>\n",
       "      <th>young</th>\n",
       "      <th>youtu</th>\n",
       "      <th>zealand</th>\n",
       "      <th>zero</th>\n",
       "      <th>zero graviti</th>\n",
       "      <th>zone</th>\n",
       "      <th>zoom</th>\n",
       "      <th>zubrin</th>\n",
       "    </tr>\n",
       "  </thead>\n",
       "  <tbody>\n",
       "    <tr>\n",
       "      <th>0</th>\n",
       "      <td>0</td>\n",
       "      <td>0</td>\n",
       "      <td>0</td>\n",
       "      <td>0</td>\n",
       "      <td>0</td>\n",
       "      <td>0</td>\n",
       "      <td>0</td>\n",
       "      <td>0</td>\n",
       "      <td>0</td>\n",
       "      <td>0</td>\n",
       "      <td>...</td>\n",
       "      <td>0</td>\n",
       "      <td>0</td>\n",
       "      <td>0</td>\n",
       "      <td>0</td>\n",
       "      <td>0</td>\n",
       "      <td>0</td>\n",
       "      <td>0</td>\n",
       "      <td>0</td>\n",
       "      <td>0</td>\n",
       "      <td>0</td>\n",
       "    </tr>\n",
       "    <tr>\n",
       "      <th>1</th>\n",
       "      <td>0</td>\n",
       "      <td>0</td>\n",
       "      <td>0</td>\n",
       "      <td>0</td>\n",
       "      <td>0</td>\n",
       "      <td>0</td>\n",
       "      <td>0</td>\n",
       "      <td>0</td>\n",
       "      <td>0</td>\n",
       "      <td>0</td>\n",
       "      <td>...</td>\n",
       "      <td>0</td>\n",
       "      <td>0</td>\n",
       "      <td>0</td>\n",
       "      <td>0</td>\n",
       "      <td>0</td>\n",
       "      <td>0</td>\n",
       "      <td>0</td>\n",
       "      <td>0</td>\n",
       "      <td>0</td>\n",
       "      <td>0</td>\n",
       "    </tr>\n",
       "  </tbody>\n",
       "</table>\n",
       "<p>2 rows × 3000 columns</p>\n",
       "</div>"
      ],
      "text/plain": [
       "   aa  ab  abil  abl  abl get  abl see  aboard  aboard intern  aboard space  \\\n",
       "0   0   0     0    0        0        0       0              0             0   \n",
       "1   0   0     0    0        0        0       0              0             0   \n",
       "\n",
       "   abort  ...  york  youlikebet  young  youtu  zealand  zero  zero graviti  \\\n",
       "0      0  ...     0           0      0      0        0     0             0   \n",
       "1      0  ...     0           0      0      0        0     0             0   \n",
       "\n",
       "   zone  zoom  zubrin  \n",
       "0     0     0       0  \n",
       "1     0     0       0  \n",
       "\n",
       "[2 rows x 3000 columns]"
      ]
     },
     "execution_count": 13,
     "metadata": {},
     "output_type": "execute_result"
    }
   ],
   "source": [
    "cvec = CountVectorizer(min_df=4, max_df=1.0,\n",
    "                       ngram_range=(1,2),max_features = 3000)\n",
    "\n",
    "term_mat = cvec.fit_transform(df_reddit['text_merged'])\n",
    "\n",
    "term_df = pd.DataFrame(term_mat.toarray(), \n",
    "                       columns=cvec.get_feature_names())\n",
    "\n",
    "term_df.head(2)"
   ]
  },
  {
   "cell_type": "markdown",
   "metadata": {},
   "source": [
    "# Merge two base DFs and apply ML algorithms"
   ]
  },
  {
   "cell_type": "code",
   "execution_count": 8,
   "metadata": {},
   "outputs": [
    {
     "data": {
      "text/html": [
       "<div>\n",
       "<style scoped>\n",
       "    .dataframe tbody tr th:only-of-type {\n",
       "        vertical-align: middle;\n",
       "    }\n",
       "\n",
       "    .dataframe tbody tr th {\n",
       "        vertical-align: top;\n",
       "    }\n",
       "\n",
       "    .dataframe thead th {\n",
       "        text-align: right;\n",
       "    }\n",
       "</style>\n",
       "<table border=\"1\" class=\"dataframe\">\n",
       "  <thead>\n",
       "    <tr style=\"text-align: right;\">\n",
       "      <th></th>\n",
       "      <th>target</th>\n",
       "      <th>''</th>\n",
       "      <th>CC</th>\n",
       "      <th>CD</th>\n",
       "      <th>DT</th>\n",
       "      <th>EX</th>\n",
       "      <th>FW</th>\n",
       "      <th>IN</th>\n",
       "      <th>JJ</th>\n",
       "      <th>JJR</th>\n",
       "      <th>...</th>\n",
       "      <th>WP</th>\n",
       "      <th>WP$</th>\n",
       "      <th>WRB</th>\n",
       "      <th>ent</th>\n",
       "      <th>word_count*</th>\n",
       "      <th>sentiment_score*</th>\n",
       "      <th>polarity_score</th>\n",
       "      <th>polarity</th>\n",
       "      <th>polarity_VSA</th>\n",
       "      <th>text_complexity</th>\n",
       "    </tr>\n",
       "  </thead>\n",
       "  <tbody>\n",
       "    <tr>\n",
       "      <th>0</th>\n",
       "      <td>1</td>\n",
       "      <td>0.0</td>\n",
       "      <td>0.0</td>\n",
       "      <td>0.0</td>\n",
       "      <td>0.0</td>\n",
       "      <td>0.0</td>\n",
       "      <td>0.0</td>\n",
       "      <td>0.0</td>\n",
       "      <td>0.0</td>\n",
       "      <td>0.0</td>\n",
       "      <td>...</td>\n",
       "      <td>0.0</td>\n",
       "      <td>0.0</td>\n",
       "      <td>0.0</td>\n",
       "      <td>1</td>\n",
       "      <td>4</td>\n",
       "      <td>0.0</td>\n",
       "      <td>0.0</td>\n",
       "      <td>1</td>\n",
       "      <td>1</td>\n",
       "      <td>92.80</td>\n",
       "    </tr>\n",
       "    <tr>\n",
       "      <th>1</th>\n",
       "      <td>1</td>\n",
       "      <td>0.0</td>\n",
       "      <td>0.0</td>\n",
       "      <td>0.0</td>\n",
       "      <td>0.0</td>\n",
       "      <td>0.0</td>\n",
       "      <td>0.0</td>\n",
       "      <td>0.0</td>\n",
       "      <td>1.0</td>\n",
       "      <td>0.0</td>\n",
       "      <td>...</td>\n",
       "      <td>0.0</td>\n",
       "      <td>0.0</td>\n",
       "      <td>0.0</td>\n",
       "      <td>2</td>\n",
       "      <td>5</td>\n",
       "      <td>0.0</td>\n",
       "      <td>0.0</td>\n",
       "      <td>1</td>\n",
       "      <td>1</td>\n",
       "      <td>15.64</td>\n",
       "    </tr>\n",
       "  </tbody>\n",
       "</table>\n",
       "<p>2 rows × 43 columns</p>\n",
       "</div>"
      ],
      "text/plain": [
       "   target   ''   CC   CD   DT   EX   FW   IN   JJ  JJR  ...   WP  WP$  WRB  \\\n",
       "0       1  0.0  0.0  0.0  0.0  0.0  0.0  0.0  0.0  0.0  ...  0.0  0.0  0.0   \n",
       "1       1  0.0  0.0  0.0  0.0  0.0  0.0  0.0  1.0  0.0  ...  0.0  0.0  0.0   \n",
       "\n",
       "   ent  word_count*  sentiment_score*  polarity_score  polarity  polarity_VSA  \\\n",
       "0    1            4               0.0             0.0         1             1   \n",
       "1    2            5               0.0             0.0         1             1   \n",
       "\n",
       "   text_complexity  \n",
       "0            92.80  \n",
       "1            15.64  \n",
       "\n",
       "[2 rows x 43 columns]"
      ]
     },
     "execution_count": 8,
     "metadata": {},
     "output_type": "execute_result"
    }
   ],
   "source": [
    "EDA_df.head(2)"
   ]
  },
  {
   "cell_type": "code",
   "execution_count": 14,
   "metadata": {},
   "outputs": [
    {
     "name": "stdout",
     "output_type": "stream",
     "text": [
      "target\n"
     ]
    }
   ],
   "source": [
    "for col in EDA_df.columns:\n",
    "    if col == 'target':\n",
    "        print(col)\n"
   ]
  },
  {
   "cell_type": "code",
   "execution_count": 15,
   "metadata": {},
   "outputs": [
    {
     "data": {
      "text/plain": [
       "Index(['target', '''', 'CC', 'CD', 'DT', 'EX', 'FW', 'IN', 'JJ', 'JJR', 'JJS',\n",
       "       'MD', 'NN', 'NNP', 'NNS', 'PDT', 'POS', 'PRP', 'PRP$', 'RB', 'RBR',\n",
       "       'RBS', 'RP', 'SYM', 'TO', 'UH', 'VB', 'VBD', 'VBG', 'VBN', 'VBP', 'VBZ',\n",
       "       'WDT', 'WP', 'WP$', 'WRB', 'ent', 'word_count*', 'sentiment_score*',\n",
       "       'polarity_score', 'polarity', 'polarity_VSA', 'text_complexity'],\n",
       "      dtype='object')"
      ]
     },
     "execution_count": 15,
     "metadata": {},
     "output_type": "execute_result"
    }
   ],
   "source": [
    "EDA_df.columns"
   ]
  },
  {
   "cell_type": "code",
   "execution_count": 16,
   "metadata": {},
   "outputs": [
    {
     "data": {
      "text/html": [
       "<div>\n",
       "<style scoped>\n",
       "    .dataframe tbody tr th:only-of-type {\n",
       "        vertical-align: middle;\n",
       "    }\n",
       "\n",
       "    .dataframe tbody tr th {\n",
       "        vertical-align: top;\n",
       "    }\n",
       "\n",
       "    .dataframe thead th {\n",
       "        text-align: right;\n",
       "    }\n",
       "</style>\n",
       "<table border=\"1\" class=\"dataframe\">\n",
       "  <thead>\n",
       "    <tr style=\"text-align: right;\">\n",
       "      <th></th>\n",
       "      <th>aa</th>\n",
       "      <th>ab</th>\n",
       "      <th>abil</th>\n",
       "      <th>abl</th>\n",
       "      <th>abl get</th>\n",
       "      <th>abl see</th>\n",
       "      <th>aboard</th>\n",
       "      <th>aboard intern</th>\n",
       "      <th>aboard space</th>\n",
       "      <th>abort</th>\n",
       "      <th>...</th>\n",
       "      <th>york</th>\n",
       "      <th>youlikebet</th>\n",
       "      <th>young</th>\n",
       "      <th>youtu</th>\n",
       "      <th>zealand</th>\n",
       "      <th>zero</th>\n",
       "      <th>zero graviti</th>\n",
       "      <th>zone</th>\n",
       "      <th>zoom</th>\n",
       "      <th>zubrin</th>\n",
       "    </tr>\n",
       "  </thead>\n",
       "  <tbody>\n",
       "    <tr>\n",
       "      <th>0</th>\n",
       "      <td>0</td>\n",
       "      <td>0</td>\n",
       "      <td>0</td>\n",
       "      <td>0</td>\n",
       "      <td>0</td>\n",
       "      <td>0</td>\n",
       "      <td>0</td>\n",
       "      <td>0</td>\n",
       "      <td>0</td>\n",
       "      <td>0</td>\n",
       "      <td>...</td>\n",
       "      <td>0</td>\n",
       "      <td>0</td>\n",
       "      <td>0</td>\n",
       "      <td>0</td>\n",
       "      <td>0</td>\n",
       "      <td>0</td>\n",
       "      <td>0</td>\n",
       "      <td>0</td>\n",
       "      <td>0</td>\n",
       "      <td>0</td>\n",
       "    </tr>\n",
       "    <tr>\n",
       "      <th>1</th>\n",
       "      <td>0</td>\n",
       "      <td>0</td>\n",
       "      <td>0</td>\n",
       "      <td>0</td>\n",
       "      <td>0</td>\n",
       "      <td>0</td>\n",
       "      <td>0</td>\n",
       "      <td>0</td>\n",
       "      <td>0</td>\n",
       "      <td>0</td>\n",
       "      <td>...</td>\n",
       "      <td>0</td>\n",
       "      <td>0</td>\n",
       "      <td>0</td>\n",
       "      <td>0</td>\n",
       "      <td>0</td>\n",
       "      <td>0</td>\n",
       "      <td>0</td>\n",
       "      <td>0</td>\n",
       "      <td>0</td>\n",
       "      <td>0</td>\n",
       "    </tr>\n",
       "  </tbody>\n",
       "</table>\n",
       "<p>2 rows × 3000 columns</p>\n",
       "</div>"
      ],
      "text/plain": [
       "   aa  ab  abil  abl  abl get  abl see  aboard  aboard intern  aboard space  \\\n",
       "0   0   0     0    0        0        0       0              0             0   \n",
       "1   0   0     0    0        0        0       0              0             0   \n",
       "\n",
       "   abort  ...  york  youlikebet  young  youtu  zealand  zero  zero graviti  \\\n",
       "0      0  ...     0           0      0      0        0     0             0   \n",
       "1      0  ...     0           0      0      0        0     0             0   \n",
       "\n",
       "   zone  zoom  zubrin  \n",
       "0     0     0       0  \n",
       "1     0     0       0  \n",
       "\n",
       "[2 rows x 3000 columns]"
      ]
     },
     "execution_count": 16,
     "metadata": {},
     "output_type": "execute_result"
    }
   ],
   "source": [
    "term_df.head(2)"
   ]
  },
  {
   "cell_type": "code",
   "execution_count": 19,
   "metadata": {},
   "outputs": [],
   "source": [
    "# for col in term_df.columns:\n",
    "#     if col == 'target':\n",
    "#         print(col)\n",
    "term_df = term_df.drop(columns = ['target'])"
   ]
  },
  {
   "cell_type": "code",
   "execution_count": 20,
   "metadata": {},
   "outputs": [
    {
     "data": {
      "text/html": [
       "<div>\n",
       "<style scoped>\n",
       "    .dataframe tbody tr th:only-of-type {\n",
       "        vertical-align: middle;\n",
       "    }\n",
       "\n",
       "    .dataframe tbody tr th {\n",
       "        vertical-align: top;\n",
       "    }\n",
       "\n",
       "    .dataframe thead th {\n",
       "        text-align: right;\n",
       "    }\n",
       "</style>\n",
       "<table border=\"1\" class=\"dataframe\">\n",
       "  <thead>\n",
       "    <tr style=\"text-align: right;\">\n",
       "      <th></th>\n",
       "      <th>target</th>\n",
       "      <th>''</th>\n",
       "      <th>CC</th>\n",
       "      <th>CD</th>\n",
       "      <th>DT</th>\n",
       "      <th>EX</th>\n",
       "      <th>FW</th>\n",
       "      <th>IN</th>\n",
       "      <th>JJ</th>\n",
       "      <th>JJR</th>\n",
       "      <th>...</th>\n",
       "      <th>york</th>\n",
       "      <th>youlikebet</th>\n",
       "      <th>young</th>\n",
       "      <th>youtu</th>\n",
       "      <th>zealand</th>\n",
       "      <th>zero</th>\n",
       "      <th>zero graviti</th>\n",
       "      <th>zone</th>\n",
       "      <th>zoom</th>\n",
       "      <th>zubrin</th>\n",
       "    </tr>\n",
       "  </thead>\n",
       "  <tbody>\n",
       "    <tr>\n",
       "      <th>0</th>\n",
       "      <td>1</td>\n",
       "      <td>0.0</td>\n",
       "      <td>0.0</td>\n",
       "      <td>0.0</td>\n",
       "      <td>0.0</td>\n",
       "      <td>0.0</td>\n",
       "      <td>0.0</td>\n",
       "      <td>0.0</td>\n",
       "      <td>0.0</td>\n",
       "      <td>0.0</td>\n",
       "      <td>...</td>\n",
       "      <td>0</td>\n",
       "      <td>0</td>\n",
       "      <td>0</td>\n",
       "      <td>0</td>\n",
       "      <td>0</td>\n",
       "      <td>0</td>\n",
       "      <td>0</td>\n",
       "      <td>0</td>\n",
       "      <td>0</td>\n",
       "      <td>0</td>\n",
       "    </tr>\n",
       "    <tr>\n",
       "      <th>1</th>\n",
       "      <td>1</td>\n",
       "      <td>0.0</td>\n",
       "      <td>0.0</td>\n",
       "      <td>0.0</td>\n",
       "      <td>0.0</td>\n",
       "      <td>0.0</td>\n",
       "      <td>0.0</td>\n",
       "      <td>0.0</td>\n",
       "      <td>1.0</td>\n",
       "      <td>0.0</td>\n",
       "      <td>...</td>\n",
       "      <td>0</td>\n",
       "      <td>0</td>\n",
       "      <td>0</td>\n",
       "      <td>0</td>\n",
       "      <td>0</td>\n",
       "      <td>0</td>\n",
       "      <td>0</td>\n",
       "      <td>0</td>\n",
       "      <td>0</td>\n",
       "      <td>0</td>\n",
       "    </tr>\n",
       "  </tbody>\n",
       "</table>\n",
       "<p>2 rows × 3042 columns</p>\n",
       "</div>"
      ],
      "text/plain": [
       "   target   ''   CC   CD   DT   EX   FW   IN   JJ  JJR  ...  york  youlikebet  \\\n",
       "0       1  0.0  0.0  0.0  0.0  0.0  0.0  0.0  0.0  0.0  ...     0           0   \n",
       "1       1  0.0  0.0  0.0  0.0  0.0  0.0  0.0  1.0  0.0  ...     0           0   \n",
       "\n",
       "   young  youtu  zealand  zero  zero graviti  zone  zoom  zubrin  \n",
       "0      0      0        0     0             0     0     0       0  \n",
       "1      0      0        0     0             0     0     0       0  \n",
       "\n",
       "[2 rows x 3042 columns]"
      ]
     },
     "execution_count": 20,
     "metadata": {},
     "output_type": "execute_result"
    }
   ],
   "source": [
    "All_DF =  pd.concat([EDA_df, term_df], axis=1)\n",
    "All_DF.head(2)"
   ]
  },
  {
   "cell_type": "code",
   "execution_count": 21,
   "metadata": {},
   "outputs": [
    {
     "name": "stdout",
     "output_type": "stream",
     "text": [
      "<class 'pandas.core.frame.DataFrame'>\n",
      "RangeIndex: 12000 entries, 0 to 11999\n",
      "Columns: 3042 entries, target to zubrin\n",
      "dtypes: float64(38), int64(3004)\n",
      "memory usage: 278.5 MB\n"
     ]
    }
   ],
   "source": [
    "All_DF.info()"
   ]
  },
  {
   "cell_type": "markdown",
   "metadata": {},
   "source": [
    "Seperate the target value and turn it to array and use train test split function."
   ]
  },
  {
   "cell_type": "code",
   "execution_count": 22,
   "metadata": {},
   "outputs": [],
   "source": [
    "y2 = All_DF['target']\n",
    "X2 = All_DF.drop(columns = ['target'])\n",
    "\n",
    "X_arr2 = np.array(X2)\n",
    "y_arr2 = np.array(y2)\n",
    "\n",
    "X_train2, X_test2, y_train2, y_test2 = train_test_split(X_arr2,\n",
    "                                                        y_arr2,\n",
    "                                                        test_size = 0.25,\n",
    "                                                        random_state = 101)"
   ]
  },
  {
   "cell_type": "markdown",
   "metadata": {},
   "source": [
    "#### Logistic Regression\n",
    "Run the Logistic Regression model"
   ]
  },
  {
   "cell_type": "code",
   "execution_count": 23,
   "metadata": {},
   "outputs": [
    {
     "name": "stderr",
     "output_type": "stream",
     "text": [
      "[Parallel(n_jobs=-1)]: Using backend ThreadingBackend with 16 concurrent workers.\n"
     ]
    },
    {
     "name": "stdout",
     "output_type": "stream",
     "text": [
      "max_iter reached after 155 seconds\n"
     ]
    },
    {
     "name": "stderr",
     "output_type": "stream",
     "text": [
      "[Parallel(n_jobs=-1)]: Done   1 out of   1 | elapsed:  2.6min finished\n"
     ]
    }
   ],
   "source": [
    "lr = LogisticRegression(solver='sag', max_iter=1000, \n",
    "                        verbose=2, n_jobs=-1)\n",
    "\n",
    "lr.fit(X_train2, y_train2);"
   ]
  },
  {
   "cell_type": "code",
   "execution_count": 24,
   "metadata": {},
   "outputs": [
    {
     "name": "stdout",
     "output_type": "stream",
     "text": [
      "train score 0.834\n",
      "test score 0.8286666666666667\n"
     ]
    },
    {
     "data": {
      "text/plain": [
       "(0.8286666666666667, 0.9643527204502814, 0.6835106382978723)"
      ]
     },
     "execution_count": 24,
     "metadata": {},
     "output_type": "execute_result"
    },
    {
     "data": {
      "image/png": "[encoded data removed]",
      "text/plain": [
       "<Figure size 432x288 with 2 Axes>"
      ]
     },
     "metadata": {
      "needs_background": "light"
     },
     "output_type": "display_data"
    }
   ],
   "source": [
    "lr.score(X_train2, y_train2); \n",
    "print('train score', lr.score(X_train2, y_train2))\n",
    "\n",
    "lr.score(X_test2, y_test2); \n",
    "print('test score', lr.score(X_test2, y_test2))\n",
    "\n",
    "preds = lr.predict(X_test2)\n",
    "\n",
    "# Save confusion matrix values\n",
    "tn, fp, fn, tp = confusion_matrix(y_test2, preds).ravel()\n",
    "\n",
    "# View confusion matrix\n",
    "\n",
    "plot_confusion_matrix(lr, X_test2, y_test2, \n",
    "                      cmap='Greys', values_format='d');\n",
    "Accuracy = (tp + tn) / (tp + tn + fp + fn)\n",
    "Precision = tp / (tp + fp)\n",
    "Recall = tp / (tp + fn)\n",
    "\n",
    "Accuracy, Precision, Recall"
   ]
  },
  {
   "cell_type": "markdown",
   "metadata": {},
   "source": [
    "Save the lr model."
   ]
  },
  {
   "cell_type": "code",
   "execution_count": 25,
   "metadata": {},
   "outputs": [],
   "source": [
    "# save the model to disk\n",
    "sys.path.insert(1, '../Codes/')\n",
    "filename = '../Codes/Models/lr_All_DF_P04_02.sav'\n",
    "pickle.dump(lr, open(filename, 'wb'))"
   ]
  },
  {
   "cell_type": "markdown",
   "metadata": {},
   "source": [
    "#### ANN Grid Search with all CPUs"
   ]
  },
  {
   "cell_type": "code",
   "execution_count": 25,
   "metadata": {},
   "outputs": [
    {
     "name": "stdout",
     "output_type": "stream",
     "text": [
      "Fitting 3 folds for each of 4 candidates, totalling 12 fits\n",
      "0.8441111111111113\n"
     ]
    },
    {
     "data": {
      "text/plain": [
       "{'activation': 'relu', 'hidden_layer_sizes': 150}"
      ]
     },
     "execution_count": 25,
     "metadata": {},
     "output_type": "execute_result"
    }
   ],
   "source": [
    "mlp = MLPClassifier(hidden_layer_sizes=50, activation='relu', solver='adam', \n",
    "                    alpha=0.0001, batch_size='auto', learning_rate='constant', \n",
    "                    learning_rate_init=0.001, power_t=0.5, max_iter=200, shuffle=True, \n",
    "                    random_state=None, tol=0.0001, verbose=False, warm_start=False, \n",
    "                    momentum=0.9, nesterovs_momentum=True, early_stopping=False, \n",
    "                    validation_fraction=0.1, beta_1=0.9, beta_2=0.999, epsilon=1e-08, \n",
    "                    n_iter_no_change=10, max_fun=15000)\n",
    "\n",
    "\n",
    "mlp_params = {\n",
    "    'hidden_layer_sizes': [100,150],\n",
    "    'activation': ['tanh', 'relu']}\n",
    "mlp = GridSearchCV(mlp, param_grid=mlp_params, cv=3, \n",
    "                   verbose=1, n_jobs=-1)\n",
    "mlp.fit(X_train2, y_train2)\n",
    "\n",
    "print(mlp.best_score_)\n",
    "mlp.best_params_"
   ]
  },
  {
   "cell_type": "markdown",
   "metadata": {},
   "source": [
    "#### ANN model"
   ]
  },
  {
   "cell_type": "code",
   "execution_count": 28,
   "metadata": {},
   "outputs": [
    {
     "name": "stdout",
     "output_type": "stream",
     "text": [
      "0.8523333333333334\n"
     ]
    },
    {
     "data": {
      "text/plain": [
       "(0.8523333333333334, 0.8646048109965636, 0.836436170212766)"
      ]
     },
     "execution_count": 28,
     "metadata": {},
     "output_type": "execute_result"
    }
   ],
   "source": [
    "mlp = MLPClassifier(hidden_layer_sizes=200, activation='relu', solver='adam', \n",
    "                    alpha=0.0001, batch_size='auto', learning_rate='constant', \n",
    "                    learning_rate_init=0.001, power_t=0.5, max_iter=200, shuffle=True, \n",
    "                    random_state=None, tol=0.0001, verbose=False, warm_start=False, \n",
    "                    momentum=0.9, nesterovs_momentum=True, early_stopping=False, \n",
    "                    validation_fraction=0.1, beta_1=0.9, beta_2=0.999, epsilon=1e-08, \n",
    "                    n_iter_no_change=10, max_fun=15000)\n",
    "\n",
    "\n",
    "mlp.fit(X_train2, y_train2)\n",
    "print(mlp.score(X_test2, y_test2))\n",
    "\n",
    "preds = mlp.predict(X_test2)\n",
    "\n",
    "# Save confusion matrix values\n",
    "tn, fp, fn, tp = confusion_matrix(y_test2, preds).ravel()\n",
    "\n",
    "# View confusion matrix\n",
    "\n",
    "#plot_confusion_matrix(gs, X_test_features, y_test, cmap='Blues', values_format='d');\n",
    "Accuracy = (tp + tn) / (tp + tn + fp + fn)\n",
    "Precision = tp / (tp + fp)\n",
    "Recall = tp / (tp + fn)\n",
    "\n",
    "Accuracy, Precision, Recall"
   ]
  },
  {
   "cell_type": "code",
   "execution_count": 48,
   "metadata": {},
   "outputs": [
    {
     "data": {
      "text/plain": [
       "<matplotlib.legend.Legend at 0x1c750a5f5c0>"
      ]
     },
     "execution_count": 48,
     "metadata": {},
     "output_type": "execute_result"
    },
    {
     "data": {
      "image/png": "[encoded data removed]",
      "text/plain": [
       "<Figure size 576x432 with 1 Axes>"
      ]
     },
     "metadata": {
      "needs_background": "light"
     },
     "output_type": "display_data"
    }
   ],
   "source": [
    "estimator = MLPClassifier(hidden_layer_sizes=100, activation='relu', solver='adam', \n",
    "                    alpha=0.0001, batch_size='auto', learning_rate='constant', \n",
    "                    learning_rate_init=0.001, power_t=0.5, max_iter=200, shuffle=True, \n",
    "                    random_state=None, tol=0.0001, verbose=False, warm_start=False, \n",
    "                    momentum=0.9, nesterovs_momentum=True, early_stopping=False, \n",
    "                    validation_fraction=0.1, beta_1=0.9, beta_2=0.999, epsilon=1e-08, \n",
    "                    n_iter_no_change=10, max_fun=15000)\n",
    "\n",
    "X = X_train2\n",
    "y = y_train2\n",
    "\n",
    "train_sizes, train_scores, test_scores, fit_times, _ =\\\n",
    "                                       learning_curve(estimator, X, y, scoring='accuracy',\n",
    "                                                      cv=3, n_jobs=3,\n",
    "                                                      train_sizes=np.linspace(.1, 1.0, 5),\n",
    "                                                      return_times=True)\n",
    "\n",
    "\n",
    "train_scores_mean = np.mean(train_scores, axis=1)\n",
    "train_scores_std = np.std(train_scores, axis=1)\n",
    "test_scores_mean = np.mean(test_scores, axis=1)\n",
    "test_scores_std = np.std(test_scores, axis=1)\n",
    "fit_times_mean = np.mean(fit_times, axis=1)\n",
    "fit_times_std = np.std(fit_times, axis=1)\n",
    "\n",
    "plt.figure(figsize=(8,6))\n",
    "plt.subplot(1,2,1)\n",
    "plt.plot(train_sizes, train_scores_mean, label='train_scores_mean')\n",
    "plt.fill_between(train_sizes, train_scores_mean-train_scores_std, \n",
    "                 train_scores_mean+train_scores_std, alpha=0.1,\n",
    "                         color=\"r\")\n",
    "\n",
    "\n",
    "plt.plot(train_sizes, test_scores_mean, label='test_score')\n",
    "plt.fill_between(train_sizes, test_scores_mean-test_scores_std, \n",
    "                 test_scores_mean+test_scores_std, alpha=0.1,\n",
    "                         color=\"g\")\n",
    "\n",
    "# plt.ylim(0,1)\n",
    "plt.title('Learning curve-MLPClassifier')\n",
    "plt.ylabel('Acuuracy score')\n",
    "plt.xlabel('Training size')\n",
    "plt.legend(loc='best')\n",
    "\n",
    "plt.subplot(1,2,2)\n",
    "# plt.figure(figsize=(8,6))\n",
    "plt.plot(fit_times_mean,train_scores_mean, label='train_scores_mean')\n",
    "plt.fill_between(fit_times_mean, train_scores_mean-train_scores_std, \n",
    "                 train_scores_mean+train_scores_std, alpha=0.1,\n",
    "                         color=\"r\")\n",
    "plt.plot(fit_times_mean,test_scores_mean, label='test_scores_mean')\n",
    "plt.fill_between(fit_times_mean, test_scores_mean-test_scores_std, \n",
    "                 test_scores_mean+test_scores_std, alpha=0.1,\n",
    "                         color=\"g\")\n",
    "# plt.ylim(0.5,1.1)\n",
    "plt.title('Learning curve-MLPClassifier')\n",
    "plt.ylabel('Acuuracy score')\n",
    "plt.xlabel('Training time')\n",
    "plt.legend(loc='lower right')"
   ]
  },
  {
   "cell_type": "code",
   "execution_count": 47,
   "metadata": {},
   "outputs": [
    {
     "data": {
      "text/plain": [
       "<matplotlib.legend.Legend at 0x1c75098ee48>"
      ]
     },
     "execution_count": 47,
     "metadata": {},
     "output_type": "execute_result"
    },
    {
     "data": {
      "image/png": "[encoded data removed]",
      "text/plain": [
       "<Figure size 576x432 with 1 Axes>"
      ]
     },
     "metadata": {
      "needs_background": "light"
     },
     "output_type": "display_data"
    }
   ],
   "source": [
    "\n",
    "plt.figure(figsize=(8,6))\n",
    "plt.plot(fit_times_mean,train_scores_mean, label='train_scores_mean')\n",
    "plt.fill_between(fit_times_mean, train_scores_mean-train_scores_std, \n",
    "                 train_scores_mean+train_scores_std, alpha=0.1,\n",
    "                         color=\"r\")\n",
    "plt.plot(fit_times_mean,test_scores_mean, label='test_scores_mean')\n",
    "plt.fill_between(fit_times_mean, test_scores_mean-test_scores_std, \n",
    "                 test_scores_mean+test_scores_std, alpha=0.1,\n",
    "                         color=\"g\")\n",
    "# plt.ylim(0.5,1.1)\n",
    "plt.title('Learning curve-MLPClassifier')\n",
    "plt.ylabel('Acuuracy score')\n",
    "plt.xlabel('Training time')\n",
    "plt.legend(loc='lower right')"
   ]
  },
  {
   "cell_type": "code",
   "execution_count": null,
   "metadata": {},
   "outputs": [],
   "source": []
  },
  {
   "cell_type": "code",
   "execution_count": null,
   "metadata": {},
   "outputs": [],
   "source": []
  },
  {
   "cell_type": "code",
   "execution_count": null,
   "metadata": {},
   "outputs": [],
   "source": []
  },
  {
   "cell_type": "code",
   "execution_count": null,
   "metadata": {},
   "outputs": [],
   "source": []
  },
  {
   "cell_type": "markdown",
   "metadata": {},
   "source": [
    "Save the ANN model."
   ]
  },
  {
   "cell_type": "code",
   "execution_count": 34,
   "metadata": {},
   "outputs": [],
   "source": [
    "# save the model to disk\n",
    "filename = 'mlp_relu_adam_150_layers_finalized_model.sav'\n",
    "pickle.dump(mlp, open(filename, 'wb'))"
   ]
  },
  {
   "cell_type": "markdown",
   "metadata": {},
   "source": [
    "#### GBoost Grid Search with all CPUs"
   ]
  },
  {
   "cell_type": "code",
   "execution_count": 26,
   "metadata": {},
   "outputs": [
    {
     "name": "stdout",
     "output_type": "stream",
     "text": [
      "Fitting 3 folds for each of 27 candidates, totalling 81 fits\n",
      "0.8782222222222223\n"
     ]
    },
    {
     "data": {
      "text/plain": [
       "{'learning_rate': 0.08, 'max_depth': 4, 'n_estimators': 500}"
      ]
     },
     "execution_count": 26,
     "metadata": {},
     "output_type": "execute_result"
    }
   ],
   "source": [
    "gboost = GradientBoostingClassifier(loss='deviance', learning_rate=0.1, \n",
    "                                    n_estimators=100, subsample=1.0, criterion='friedman_mse', \n",
    "                                    min_samples_split=2, min_samples_leaf=1, min_weight_fraction_leaf=0.0, \n",
    "                                    max_depth=3, min_impurity_decrease=0.0, min_impurity_split=None, \n",
    "                                    init=None, random_state=None, max_features=None, verbose=0, \n",
    "                                    max_leaf_nodes=None, warm_start=False, validation_fraction=0.1, \n",
    "                                    n_iter_no_change=None, tol=0.0001, ccp_alpha=0.0)\n",
    "gboost_params = {\n",
    "    'max_depth': [2,3,4],\n",
    "    'n_estimators': [100, 250, 500],\n",
    "    'learning_rate': [.08, .1, .12]\n",
    "}\n",
    "gs = GridSearchCV(gboost, param_grid=gboost_params, \n",
    "                  cv=3, verbose=1, n_jobs=-1)\n",
    "gs.fit(X_train2, y_train2)\n",
    "\n",
    "print(gs.best_score_)\n",
    "gs.best_params_"
   ]
  },
  {
   "cell_type": "markdown",
   "metadata": {},
   "source": [
    "### The grid search for gboost algorithm was ran and the results were provided below.\n",
    "```python\n",
    "gboost = GradientBoostingClassifier(loss='deviance', learning_rate=0.1, \n",
    "                                    n_estimators=100, subsample=1.0, criterion='friedman_mse', \n",
    "                                    min_samples_split=2, min_samples_leaf=1, min_weight_fraction_leaf=0.0, \n",
    "                                    max_depth=3, min_impurity_decrease=0.0, min_impurity_split=None, \n",
    "                                    init=None, random_state=None, max_features=None, verbose=0, \n",
    "                                    max_leaf_nodes=None, warm_start=False, validation_fraction=0.1, \n",
    "                                    n_iter_no_change=None, tol=0.0001, ccp_alpha=0.0)\n",
    "gboost_params = {\n",
    "    'max_depth': [2,3,4],\n",
    "    'n_estimators': [100, 250, 500],\n",
    "    'learning_rate': [.08, .1, .12]\n",
    "}\n",
    "gs = GridSearchCV(gboost, param_grid=gboost_params, \n",
    "                  cv=3, verbose=1, n_jobs=-1)\n",
    "gs.fit(X_train2, y_train2)\n",
    "\n",
    "print(gs.best_score_)\n",
    "gs.best_params_\n",
    "```\n",
    "\n",
    "### Results\n",
    "\n",
    "```\n",
    "Fitting 3 folds for each of 27 candidates, totalling 81 fits\n",
    "0.8782222222222223\n",
    "{'learning_rate': 0.08, 'max_depth': 4, 'n_estimators': 500}\n",
    "```\n",
    "\n"
   ]
  },
  {
   "cell_type": "markdown",
   "metadata": {},
   "source": [
    "going with the best gboost parameters as follow."
   ]
  },
  {
   "cell_type": "code",
   "execution_count": 27,
   "metadata": {},
   "outputs": [
    {
     "name": "stdout",
     "output_type": "stream",
     "text": [
      "0.877\n"
     ]
    },
    {
     "data": {
      "text/plain": [
       "(0.877, 0.927012791572611, 0.8191489361702128)"
      ]
     },
     "execution_count": 27,
     "metadata": {},
     "output_type": "execute_result"
    }
   ],
   "source": [
    "gboost = GradientBoostingClassifier(loss='deviance', learning_rate=0.1, \n",
    "                                    n_estimators=500, subsample=1.0, criterion='friedman_mse', \n",
    "                                    min_samples_split=2, min_samples_leaf=1, min_weight_fraction_leaf=0.0, \n",
    "                                    max_depth=4, min_impurity_decrease=0.0, min_impurity_split=None, \n",
    "                                    init=None, random_state=None, max_features=None, verbose=True, \n",
    "                                    max_leaf_nodes=None, warm_start=False, validation_fraction=0.1, \n",
    "                                    n_iter_no_change=None, tol=0.0001, ccp_alpha=0.0)\n",
    "\n",
    "gboost.fit(X_train2, y_train2)\n",
    "\n",
    "print(gboost.score(X_test2, y_test2))\n",
    "\n",
    "preds = gboost.predict(X_test2)\n",
    "\n",
    "# Save confusion matrix values\n",
    "tn, fp, fn, tp = confusion_matrix(y_test2, preds).ravel()\n",
    "\n",
    "# View confusion matrix\n",
    "\n",
    "#plot_confusion_matrix(gs, X_test_features, y_test, cmap='Blues', values_format='d');\n",
    "Accuracy = (tp + tn) / (tp + tn + fp + fn)\n",
    "Precision = tp / (tp + fp)\n",
    "Recall = tp / (tp + fn)\n",
    "\n",
    "Accuracy, Precision, Recall"
   ]
  },
  {
   "cell_type": "markdown",
   "metadata": {},
   "source": [
    "Save the gboost model."
   ]
  },
  {
   "cell_type": "code",
   "execution_count": 35,
   "metadata": {},
   "outputs": [],
   "source": [
    "# save the model to disk\n",
    "filename = 'gboost_learning_rate_0.08_depth_4_estimators_500_finalized_model.sav'\n",
    "pickle.dump(gboost, open(filename, 'wb'))"
   ]
  },
  {
   "cell_type": "markdown",
   "metadata": {},
   "source": [
    "This is the best results so far we got. let's increase the number of estimators and run it again."
   ]
  },
  {
   "cell_type": "code",
   "execution_count": 28,
   "metadata": {},
   "outputs": [
    {
     "name": "stdout",
     "output_type": "stream",
     "text": [
      "      Iter       Train Loss   Remaining Time \n",
      "         1           1.2731           30.29m\n",
      "         2           1.1806           31.30m\n",
      "         3           1.1040           31.54m\n",
      "         4           1.0394           31.58m\n",
      "         5           0.9851           31.67m\n",
      "         6           0.9386           31.48m\n",
      "         7           0.8987           31.36m\n",
      "         8           0.8644           31.52m\n",
      "         9           0.8349           32.07m\n",
      "        10           0.8091           31.99m\n",
      "        20           0.6728           32.54m\n",
      "        30           0.6232           32.40m\n",
      "        40           0.6015           34.29m\n",
      "        50           0.5866           35.76m\n",
      "        60           0.5751           36.41m\n",
      "        70           0.5640           36.89m\n",
      "        80           0.5551           37.21m\n",
      "        90           0.5466           37.42m\n",
      "       100           0.5391           37.38m\n",
      "       200           0.4800           35.20m\n",
      "       300           0.4347           32.10m\n",
      "       400           0.4018           28.73m\n",
      "       500           0.3739           25.39m\n",
      "       600           0.3506           21.75m\n",
      "       700           0.3300           18.17m\n",
      "       800           0.3112           14.60m\n",
      "       900           0.2944           10.97m\n",
      "      1000           0.2785            7.32m\n",
      "0.879\n"
     ]
    },
    {
     "data": {
      "text/plain": [
       "(0.879, 0.9204126750184229, 0.8304521276595744)"
      ]
     },
     "execution_count": 28,
     "metadata": {},
     "output_type": "execute_result"
    }
   ],
   "source": [
    "gboost = GradientBoostingClassifier(loss='deviance', learning_rate=0.1, \n",
    "                                    n_estimators=1200, subsample=1.0, criterion='friedman_mse', \n",
    "                                    min_samples_split=2, min_samples_leaf=1, min_weight_fraction_leaf=0.0, \n",
    "                                    max_depth=4, min_impurity_decrease=0.0, min_impurity_split=None, \n",
    "                                    init=None, random_state=None, max_features=None, verbose=True, \n",
    "                                    max_leaf_nodes=None, warm_start=False, validation_fraction=0.1, \n",
    "                                    n_iter_no_change=None, tol=0.0001, ccp_alpha=0.0)\n",
    "\n",
    "gboost.fit(X_train2, y_train2)\n",
    "\n",
    "print(gboost.score(X_test2, y_test2))\n",
    "\n",
    "preds = gboost.predict(X_test2)\n",
    "\n",
    "# Save confusion matrix values\n",
    "tn, fp, fn, tp = confusion_matrix(y_test2, preds).ravel()\n",
    "\n",
    "# View confusion matrix\n",
    "\n",
    "#plot_confusion_matrix(gs, X_test_features, y_test, cmap='Blues', values_format='d');\n",
    "Accuracy = (tp + tn) / (tp + tn + fp + fn)\n",
    "Precision = tp / (tp + fp)\n",
    "Recall = tp / (tp + fn)\n",
    "\n",
    "Accuracy, Precision, Recall"
   ]
  },
  {
   "cell_type": "markdown",
   "metadata": {},
   "source": [
    "Almost No improvment in model estimation. Lets save the model."
   ]
  },
  {
   "cell_type": "code",
   "execution_count": 32,
   "metadata": {},
   "outputs": [],
   "source": [
    "# save the model to disk\n",
    "filename = 'gboost_1200_finalized_model.sav'\n",
    "pickle.dump(gboost, open(filename, 'wb'))\n",
    " \n",
    "# # some time later...\n",
    " \n",
    "# # load the model from disk\n",
    "# loaded_model = pickle.load(open(filename, 'rb'))\n",
    "# result = loaded_model.score(X_test, Y_test)\n",
    "# print(result)"
   ]
  },
  {
   "cell_type": "code",
   "execution_count": 37,
   "metadata": {},
   "outputs": [
    {
     "name": "stdout",
     "output_type": "stream",
     "text": [
      "      Iter       Train Loss   Remaining Time \n",
      "         1           1.2693           89.16m\n",
      "         2           1.1735           89.21m\n",
      "         3           1.0936           89.60m\n",
      "         4           1.0265           89.56m\n",
      "         5           0.9698           89.21m\n",
      "         6           0.9204           88.53m\n",
      "         7           0.8786           88.65m\n",
      "         8           0.8413           89.66m\n",
      "         9           0.8098           91.27m\n",
      "        10           0.7822           89.73m\n",
      "        20           0.6319           91.94m\n",
      "        30           0.5762           94.46m\n",
      "        40           0.5507           96.50m\n",
      "        50           0.5334           99.96m\n",
      "        60           0.5192          103.26m\n",
      "        70           0.5052          104.18m\n",
      "        80           0.4942          107.42m\n",
      "        90           0.4854          107.20m\n",
      "       100           0.4774          109.55m\n",
      "       200           0.4010          116.83m\n",
      "       300           0.3513          115.00m\n",
      "       400           0.3153          111.92m\n",
      "       500           0.2813          130.20m\n",
      "       600           0.2541          120.60m\n",
      "       700           0.2314          110.91m\n",
      "       800           0.2124          103.25m\n",
      "       900           0.1956           96.04m\n",
      "      1000           0.1797           89.02m\n",
      "      2000           0.0870           28.56m\n",
      "0.8773333333333333\n"
     ]
    },
    {
     "data": {
      "text/plain": [
       "(0.8773333333333333, 0.9109985528219972, 0.8371010638297872)"
      ]
     },
     "execution_count": 37,
     "metadata": {},
     "output_type": "execute_result"
    }
   ],
   "source": [
    "gboost = GradientBoostingClassifier(loss='deviance', learning_rate=0.1, \n",
    "                                    n_estimators=2500, subsample=1.0, criterion='friedman_mse', \n",
    "                                    min_samples_split=2, min_samples_leaf=1, min_weight_fraction_leaf=0.0, \n",
    "                                    max_depth=6, min_impurity_decrease=0.0, min_impurity_split=None, \n",
    "                                    init=None, random_state=None, max_features=None, verbose=True, \n",
    "                                    max_leaf_nodes=None, warm_start=False, validation_fraction=0.1, \n",
    "                                    n_iter_no_change=None, tol=0.0001, ccp_alpha=0.0)\n",
    "\n",
    "gboost.fit(X_train2, y_train2)\n",
    "\n",
    "print(gboost.score(X_test2, y_test2))\n",
    "\n",
    "preds = gboost.predict(X_test2)\n",
    "\n",
    "# Save confusion matrix values\n",
    "tn, fp, fn, tp = confusion_matrix(y_test2, preds).ravel()\n",
    "\n",
    "# View confusion matrix\n",
    "\n",
    "#plot_confusion_matrix(gs, X_test_features, y_test, cmap='Blues', values_format='d');\n",
    "Accuracy = (tp + tn) / (tp + tn + fp + fn)\n",
    "Precision = tp / (tp + fp)\n",
    "Recall = tp / (tp + fn)\n",
    "\n",
    "Accuracy, Precision, Recall"
   ]
  },
  {
   "cell_type": "code",
   "execution_count": 39,
   "metadata": {},
   "outputs": [],
   "source": [
    "# save the model to disk\n",
    "filename = 'gboost_2500_depth_6_finalized_model.sav'\n",
    "pickle.dump(gboost, open(filename, 'wb'))\n",
    " \n",
    "# # some time later...\n",
    " \n",
    "# # load the model from disk\n",
    "# loaded_model = pickle.load(open(filename, 'rb'))\n",
    "# result = loaded_model.score(X_test, Y_test)\n",
    "# print(result)"
   ]
  },
  {
   "cell_type": "code",
   "execution_count": null,
   "metadata": {},
   "outputs": [],
   "source": []
  }
 ],
 "metadata": {
  "kernelspec": {
   "display_name": "Python 3",
   "language": "python",
   "name": "python3"
  },
  "language_info": {
   "codemirror_mode": {
    "name": "ipython",
    "version": 3
   },
   "file_extension": ".py",
   "mimetype": "text/x-python",
   "name": "python",
   "nbconvert_exporter": "python",
   "pygments_lexer": "ipython3",
   "version": "3.6.4"
  }
 },
 "nbformat": 4,
 "nbformat_minor": 2
}
