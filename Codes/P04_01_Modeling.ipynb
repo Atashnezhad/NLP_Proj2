{
 "cells": [
  {
   "cell_type": "code",
   "execution_count": 1,
   "metadata": {},
   "outputs": [],
   "source": [
    "#imports\n",
    "import numpy as np\n",
    "import pandas as pd\n",
    "import matplotlib.pylab as plt\n",
    "import seaborn as sns\n",
    "import eli5\n",
    "\n",
    "import regex as re\n",
    "import nltk\n",
    "#nltk.download('vader_lexicon')\n",
    "from nltk.sentiment.vader import SentimentIntensityAnalyzer\n",
    "from sklearn.feature_extraction.text import CountVectorizer, TfidfVectorizer\n",
    "from sklearn.model_selection import cross_val_score, train_test_split, GridSearchCV\n",
    "from sklearn.linear_model import LogisticRegression\n",
    "from sklearn.pipeline import Pipeline\n",
    "from sklearn.naive_bayes import MultinomialNB\n",
    "from sklearn.neural_network import MLPClassifier\n",
    "from sklearn.metrics import accuracy_score\n",
    "from sklearn.svm import SVC\n",
    "from sklearn.metrics import confusion_matrix, plot_confusion_matrix\n",
    "from sklearn.ensemble import RandomForestClassifier, ExtraTreesClassifier\n",
    "\n",
    "\n",
    "from sklearn.ensemble import GradientBoostingClassifier, AdaBoostClassifier, VotingClassifier\n",
    "from sklearn.model_selection import learning_curve\n",
    "from sklearn.model_selection import ShuffleSplit\n",
    "\n",
    "\n",
    "from nltk.corpus import stopwords\n",
    "\n",
    "import pickle\n",
    "\n",
    "import os, sys\n",
    "import warnings\n",
    "warnings.filterwarnings('ignore')\n",
    "# warnings.simplefilter(action='ignore', category=FutureWarning)"
   ]
  },
  {
   "cell_type": "code",
   "execution_count": 2,
   "metadata": {},
   "outputs": [
    {
     "data": {
      "text/html": [
       "<div>\n",
       "<style scoped>\n",
       "    .dataframe tbody tr th:only-of-type {\n",
       "        vertical-align: middle;\n",
       "    }\n",
       "\n",
       "    .dataframe tbody tr th {\n",
       "        vertical-align: top;\n",
       "    }\n",
       "\n",
       "    .dataframe thead th {\n",
       "        text-align: right;\n",
       "    }\n",
       "</style>\n",
       "<table border=\"1\" class=\"dataframe\">\n",
       "  <thead>\n",
       "    <tr style=\"text-align: right;\">\n",
       "      <th></th>\n",
       "      <th>ent</th>\n",
       "      <th>text_merged</th>\n",
       "      <th>word_count*</th>\n",
       "      <th>sentiment_score*</th>\n",
       "      <th>target</th>\n",
       "      <th>polarity_score</th>\n",
       "      <th>polarity</th>\n",
       "      <th>polarity_VSA</th>\n",
       "      <th>lower_sent</th>\n",
       "      <th>tagged_sent</th>\n",
       "      <th>text_complexity</th>\n",
       "    </tr>\n",
       "  </thead>\n",
       "  <tbody>\n",
       "    <tr>\n",
       "      <th>0</th>\n",
       "      <td>1</td>\n",
       "      <td>star shine saturn ring</td>\n",
       "      <td>4</td>\n",
       "      <td>0.0</td>\n",
       "      <td>1</td>\n",
       "      <td>0.0</td>\n",
       "      <td>1</td>\n",
       "      <td>1</td>\n",
       "      <td>star shine saturn ring</td>\n",
       "      <td>[(star, NN), (shine, NN), (saturn, NN), (ring,...</td>\n",
       "      <td>92.80</td>\n",
       "    </tr>\n",
       "    <tr>\n",
       "      <th>1</th>\n",
       "      <td>2</td>\n",
       "      <td>smithsonian nation air space museum</td>\n",
       "      <td>5</td>\n",
       "      <td>0.0</td>\n",
       "      <td>1</td>\n",
       "      <td>0.0</td>\n",
       "      <td>1</td>\n",
       "      <td>1</td>\n",
       "      <td>smithsonian nation air space museum</td>\n",
       "      <td>[(smithsonian, JJ), (nation, NN), (air, NN), (...</td>\n",
       "      <td>15.64</td>\n",
       "    </tr>\n",
       "  </tbody>\n",
       "</table>\n",
       "</div>"
      ],
      "text/plain": [
       "   ent                          text_merged  word_count*  sentiment_score*  \\\n",
       "0    1               star shine saturn ring            4               0.0   \n",
       "1    2  smithsonian nation air space museum            5               0.0   \n",
       "\n",
       "   target  polarity_score  polarity  polarity_VSA  \\\n",
       "0       1             0.0         1             1   \n",
       "1       1             0.0         1             1   \n",
       "\n",
       "                            lower_sent  \\\n",
       "0               star shine saturn ring   \n",
       "1  smithsonian nation air space museum   \n",
       "\n",
       "                                         tagged_sent  text_complexity  \n",
       "0  [(star, NN), (shine, NN), (saturn, NN), (ring,...            92.80  \n",
       "1  [(smithsonian, JJ), (nation, NN), (air, NN), (...            15.64  "
      ]
     },
     "execution_count": 2,
     "metadata": {},
     "output_type": "execute_result"
    }
   ],
   "source": [
    "# df_reddit = pickle.load(open('../DataSet/df_reddit_for_model.pkl', 'rb'))\n",
    "df_reddit = pickle.load(open('../DataSet/df_reddit_for_model.pkl', 'rb'))\n",
    "EDA_df = pickle.load(open('../DataSet/EDA_all_for_model.pkl', 'rb'))\n",
    "# df_reddit['target'] = df_reddit['subreddit'].replace({\"NASA\": 1, \"Space_discussion\": 0})\n",
    "df_reddit.head(2)"
   ]
  },
  {
   "cell_type": "code",
   "execution_count": 3,
   "metadata": {},
   "outputs": [
    {
     "data": {
      "text/html": [
       "<div>\n",
       "<style scoped>\n",
       "    .dataframe tbody tr th:only-of-type {\n",
       "        vertical-align: middle;\n",
       "    }\n",
       "\n",
       "    .dataframe tbody tr th {\n",
       "        vertical-align: top;\n",
       "    }\n",
       "\n",
       "    .dataframe thead th {\n",
       "        text-align: right;\n",
       "    }\n",
       "</style>\n",
       "<table border=\"1\" class=\"dataframe\">\n",
       "  <thead>\n",
       "    <tr style=\"text-align: right;\">\n",
       "      <th></th>\n",
       "      <th>target</th>\n",
       "      <th>''</th>\n",
       "      <th>CC</th>\n",
       "      <th>CD</th>\n",
       "      <th>DT</th>\n",
       "      <th>EX</th>\n",
       "      <th>FW</th>\n",
       "      <th>IN</th>\n",
       "      <th>JJ</th>\n",
       "      <th>JJR</th>\n",
       "      <th>...</th>\n",
       "      <th>WP</th>\n",
       "      <th>WP$</th>\n",
       "      <th>WRB</th>\n",
       "      <th>ent</th>\n",
       "      <th>word_count*</th>\n",
       "      <th>sentiment_score*</th>\n",
       "      <th>polarity_score</th>\n",
       "      <th>polarity</th>\n",
       "      <th>polarity_VSA</th>\n",
       "      <th>text_complexity</th>\n",
       "    </tr>\n",
       "  </thead>\n",
       "  <tbody>\n",
       "    <tr>\n",
       "      <th>0</th>\n",
       "      <td>1</td>\n",
       "      <td>0.0</td>\n",
       "      <td>0.0</td>\n",
       "      <td>0.0</td>\n",
       "      <td>0.0</td>\n",
       "      <td>0.0</td>\n",
       "      <td>0.0</td>\n",
       "      <td>0.0</td>\n",
       "      <td>0.0</td>\n",
       "      <td>0.0</td>\n",
       "      <td>...</td>\n",
       "      <td>0.0</td>\n",
       "      <td>0.0</td>\n",
       "      <td>0.0</td>\n",
       "      <td>1</td>\n",
       "      <td>4</td>\n",
       "      <td>0.0</td>\n",
       "      <td>0.0</td>\n",
       "      <td>1</td>\n",
       "      <td>1</td>\n",
       "      <td>92.80</td>\n",
       "    </tr>\n",
       "    <tr>\n",
       "      <th>1</th>\n",
       "      <td>1</td>\n",
       "      <td>0.0</td>\n",
       "      <td>0.0</td>\n",
       "      <td>0.0</td>\n",
       "      <td>0.0</td>\n",
       "      <td>0.0</td>\n",
       "      <td>0.0</td>\n",
       "      <td>0.0</td>\n",
       "      <td>1.0</td>\n",
       "      <td>0.0</td>\n",
       "      <td>...</td>\n",
       "      <td>0.0</td>\n",
       "      <td>0.0</td>\n",
       "      <td>0.0</td>\n",
       "      <td>2</td>\n",
       "      <td>5</td>\n",
       "      <td>0.0</td>\n",
       "      <td>0.0</td>\n",
       "      <td>1</td>\n",
       "      <td>1</td>\n",
       "      <td>15.64</td>\n",
       "    </tr>\n",
       "  </tbody>\n",
       "</table>\n",
       "<p>2 rows × 43 columns</p>\n",
       "</div>"
      ],
      "text/plain": [
       "   target   ''   CC   CD   DT   EX   FW   IN   JJ  JJR       ...          WP  \\\n",
       "0       1  0.0  0.0  0.0  0.0  0.0  0.0  0.0  0.0  0.0       ...         0.0   \n",
       "1       1  0.0  0.0  0.0  0.0  0.0  0.0  0.0  1.0  0.0       ...         0.0   \n",
       "\n",
       "   WP$  WRB  ent  word_count*  sentiment_score*  polarity_score  polarity  \\\n",
       "0  0.0  0.0    1            4               0.0             0.0         1   \n",
       "1  0.0  0.0    2            5               0.0             0.0         1   \n",
       "\n",
       "   polarity_VSA  text_complexity  \n",
       "0             1            92.80  \n",
       "1             1            15.64  \n",
       "\n",
       "[2 rows x 43 columns]"
      ]
     },
     "execution_count": 3,
     "metadata": {},
     "output_type": "execute_result"
    }
   ],
   "source": [
    "EDA_df.head(2)"
   ]
  },
  {
   "cell_type": "markdown",
   "metadata": {},
   "source": [
    "Defining X and Y variables and use train test split function"
   ]
  },
  {
   "cell_type": "code",
   "execution_count": 4,
   "metadata": {},
   "outputs": [],
   "source": [
    "X = df_reddit['text_merged']\n",
    "y = df_reddit['target']\n",
    "\n",
    "X_train, X_test, y_train, y_test = train_test_split(X,\n",
    "                                                    y,\n",
    "                                                    test_size = 0.25,\n",
    "                                                    random_state = 101)\n",
    "\n",
    "cvec = CountVectorizer(min_df=4, max_df=1.0,\n",
    "                       ngram_range=(1,2),\n",
    "                       max_features = 3000, strip_accents='ascii')\n",
    "\n",
    "\n",
    "term_mat = cvec.fit_transform(df_reddit['text_merged'])"
   ]
  },
  {
   "cell_type": "markdown",
   "metadata": {},
   "source": [
    "Check out the term_matrix as follow."
   ]
  },
  {
   "cell_type": "code",
   "execution_count": 5,
   "metadata": {},
   "outputs": [],
   "source": [
    "term_df = pd.DataFrame(term_mat.toarray(), \n",
    "                       columns=cvec.get_feature_names())\n",
    "term_df.insert(0, 'targets', df_reddit['target'])"
   ]
  },
  {
   "cell_type": "code",
   "execution_count": 6,
   "metadata": {},
   "outputs": [
    {
     "data": {
      "text/html": [
       "<div>\n",
       "<style scoped>\n",
       "    .dataframe tbody tr th:only-of-type {\n",
       "        vertical-align: middle;\n",
       "    }\n",
       "\n",
       "    .dataframe tbody tr th {\n",
       "        vertical-align: top;\n",
       "    }\n",
       "\n",
       "    .dataframe thead th {\n",
       "        text-align: right;\n",
       "    }\n",
       "</style>\n",
       "<table border=\"1\" class=\"dataframe\">\n",
       "  <thead>\n",
       "    <tr style=\"text-align: right;\">\n",
       "      <th></th>\n",
       "      <th>targets</th>\n",
       "      <th>aa</th>\n",
       "      <th>ab</th>\n",
       "      <th>abil</th>\n",
       "      <th>abl</th>\n",
       "      <th>abl see</th>\n",
       "      <th>aboard</th>\n",
       "      <th>aboard intern</th>\n",
       "      <th>aboard space</th>\n",
       "      <th>abort</th>\n",
       "      <th>...</th>\n",
       "      <th>york</th>\n",
       "      <th>youlikebet</th>\n",
       "      <th>young</th>\n",
       "      <th>youtu</th>\n",
       "      <th>zealand</th>\n",
       "      <th>zero</th>\n",
       "      <th>zero graviti</th>\n",
       "      <th>zone</th>\n",
       "      <th>zoom</th>\n",
       "      <th>zubrin</th>\n",
       "    </tr>\n",
       "  </thead>\n",
       "  <tbody>\n",
       "    <tr>\n",
       "      <th>0</th>\n",
       "      <td>1</td>\n",
       "      <td>0</td>\n",
       "      <td>0</td>\n",
       "      <td>0</td>\n",
       "      <td>0</td>\n",
       "      <td>0</td>\n",
       "      <td>0</td>\n",
       "      <td>0</td>\n",
       "      <td>0</td>\n",
       "      <td>0</td>\n",
       "      <td>...</td>\n",
       "      <td>0</td>\n",
       "      <td>0</td>\n",
       "      <td>0</td>\n",
       "      <td>0</td>\n",
       "      <td>0</td>\n",
       "      <td>0</td>\n",
       "      <td>0</td>\n",
       "      <td>0</td>\n",
       "      <td>0</td>\n",
       "      <td>0</td>\n",
       "    </tr>\n",
       "    <tr>\n",
       "      <th>1</th>\n",
       "      <td>1</td>\n",
       "      <td>0</td>\n",
       "      <td>0</td>\n",
       "      <td>0</td>\n",
       "      <td>0</td>\n",
       "      <td>0</td>\n",
       "      <td>0</td>\n",
       "      <td>0</td>\n",
       "      <td>0</td>\n",
       "      <td>0</td>\n",
       "      <td>...</td>\n",
       "      <td>0</td>\n",
       "      <td>0</td>\n",
       "      <td>0</td>\n",
       "      <td>0</td>\n",
       "      <td>0</td>\n",
       "      <td>0</td>\n",
       "      <td>0</td>\n",
       "      <td>0</td>\n",
       "      <td>0</td>\n",
       "      <td>0</td>\n",
       "    </tr>\n",
       "    <tr>\n",
       "      <th>2</th>\n",
       "      <td>1</td>\n",
       "      <td>0</td>\n",
       "      <td>0</td>\n",
       "      <td>0</td>\n",
       "      <td>0</td>\n",
       "      <td>0</td>\n",
       "      <td>0</td>\n",
       "      <td>0</td>\n",
       "      <td>0</td>\n",
       "      <td>0</td>\n",
       "      <td>...</td>\n",
       "      <td>0</td>\n",
       "      <td>0</td>\n",
       "      <td>0</td>\n",
       "      <td>0</td>\n",
       "      <td>0</td>\n",
       "      <td>0</td>\n",
       "      <td>0</td>\n",
       "      <td>0</td>\n",
       "      <td>0</td>\n",
       "      <td>0</td>\n",
       "    </tr>\n",
       "    <tr>\n",
       "      <th>3</th>\n",
       "      <td>1</td>\n",
       "      <td>0</td>\n",
       "      <td>0</td>\n",
       "      <td>0</td>\n",
       "      <td>0</td>\n",
       "      <td>0</td>\n",
       "      <td>0</td>\n",
       "      <td>0</td>\n",
       "      <td>0</td>\n",
       "      <td>0</td>\n",
       "      <td>...</td>\n",
       "      <td>0</td>\n",
       "      <td>0</td>\n",
       "      <td>0</td>\n",
       "      <td>0</td>\n",
       "      <td>0</td>\n",
       "      <td>0</td>\n",
       "      <td>0</td>\n",
       "      <td>0</td>\n",
       "      <td>0</td>\n",
       "      <td>0</td>\n",
       "    </tr>\n",
       "    <tr>\n",
       "      <th>4</th>\n",
       "      <td>1</td>\n",
       "      <td>0</td>\n",
       "      <td>0</td>\n",
       "      <td>0</td>\n",
       "      <td>0</td>\n",
       "      <td>0</td>\n",
       "      <td>0</td>\n",
       "      <td>0</td>\n",
       "      <td>0</td>\n",
       "      <td>0</td>\n",
       "      <td>...</td>\n",
       "      <td>0</td>\n",
       "      <td>0</td>\n",
       "      <td>0</td>\n",
       "      <td>0</td>\n",
       "      <td>0</td>\n",
       "      <td>0</td>\n",
       "      <td>0</td>\n",
       "      <td>0</td>\n",
       "      <td>0</td>\n",
       "      <td>0</td>\n",
       "    </tr>\n",
       "  </tbody>\n",
       "</table>\n",
       "<p>5 rows × 3001 columns</p>\n",
       "</div>"
      ],
      "text/plain": [
       "   targets  aa  ab  abil  abl  abl see  aboard  aboard intern  aboard space  \\\n",
       "0        1   0   0     0    0        0       0              0             0   \n",
       "1        1   0   0     0    0        0       0              0             0   \n",
       "2        1   0   0     0    0        0       0              0             0   \n",
       "3        1   0   0     0    0        0       0              0             0   \n",
       "4        1   0   0     0    0        0       0              0             0   \n",
       "\n",
       "   abort   ...    york  youlikebet  young  youtu  zealand  zero  zero graviti  \\\n",
       "0      0   ...       0           0      0      0        0     0             0   \n",
       "1      0   ...       0           0      0      0        0     0             0   \n",
       "2      0   ...       0           0      0      0        0     0             0   \n",
       "3      0   ...       0           0      0      0        0     0             0   \n",
       "4      0   ...       0           0      0      0        0     0             0   \n",
       "\n",
       "   zone  zoom  zubrin  \n",
       "0     0     0       0  \n",
       "1     0     0       0  \n",
       "2     0     0       0  \n",
       "3     0     0       0  \n",
       "4     0     0       0  \n",
       "\n",
       "[5 rows x 3001 columns]"
      ]
     },
     "execution_count": 6,
     "metadata": {},
     "output_type": "execute_result"
    }
   ],
   "source": [
    "term_df.head()"
   ]
  },
  {
   "cell_type": "code",
   "execution_count": 7,
   "metadata": {},
   "outputs": [
    {
     "data": {
      "text/html": [
       "<div>\n",
       "<style scoped>\n",
       "    .dataframe tbody tr th:only-of-type {\n",
       "        vertical-align: middle;\n",
       "    }\n",
       "\n",
       "    .dataframe tbody tr th {\n",
       "        vertical-align: top;\n",
       "    }\n",
       "\n",
       "    .dataframe thead th {\n",
       "        text-align: right;\n",
       "    }\n",
       "</style>\n",
       "<table border=\"1\" class=\"dataframe\">\n",
       "  <thead>\n",
       "    <tr style=\"text-align: right;\">\n",
       "      <th></th>\n",
       "      <th>targets</th>\n",
       "      <th>aa</th>\n",
       "      <th>ab</th>\n",
       "      <th>abil</th>\n",
       "      <th>abl</th>\n",
       "      <th>abl see</th>\n",
       "      <th>aboard</th>\n",
       "      <th>aboard intern</th>\n",
       "      <th>aboard space</th>\n",
       "      <th>abort</th>\n",
       "      <th>...</th>\n",
       "      <th>york</th>\n",
       "      <th>youlikebet</th>\n",
       "      <th>young</th>\n",
       "      <th>youtu</th>\n",
       "      <th>zealand</th>\n",
       "      <th>zero</th>\n",
       "      <th>zero graviti</th>\n",
       "      <th>zone</th>\n",
       "      <th>zoom</th>\n",
       "      <th>zubrin</th>\n",
       "    </tr>\n",
       "  </thead>\n",
       "  <tbody>\n",
       "    <tr>\n",
       "      <th>count</th>\n",
       "      <td>12000.000000</td>\n",
       "      <td>12000.000000</td>\n",
       "      <td>12000.000000</td>\n",
       "      <td>12000.000000</td>\n",
       "      <td>12000.000000</td>\n",
       "      <td>12000.000000</td>\n",
       "      <td>12000.000000</td>\n",
       "      <td>12000.000000</td>\n",
       "      <td>12000.000000</td>\n",
       "      <td>12000.000000</td>\n",
       "      <td>...</td>\n",
       "      <td>12000.000000</td>\n",
       "      <td>12000.000000</td>\n",
       "      <td>12000.000000</td>\n",
       "      <td>12000.000000</td>\n",
       "      <td>12000.000000</td>\n",
       "      <td>12000.000000</td>\n",
       "      <td>12000.000000</td>\n",
       "      <td>12000.000000</td>\n",
       "      <td>12000.000000</td>\n",
       "      <td>12000.000000</td>\n",
       "    </tr>\n",
       "    <tr>\n",
       "      <th>mean</th>\n",
       "      <td>0.500000</td>\n",
       "      <td>0.000917</td>\n",
       "      <td>0.002583</td>\n",
       "      <td>0.002417</td>\n",
       "      <td>0.013250</td>\n",
       "      <td>0.001000</td>\n",
       "      <td>0.004750</td>\n",
       "      <td>0.001500</td>\n",
       "      <td>0.001417</td>\n",
       "      <td>0.003167</td>\n",
       "      <td>...</td>\n",
       "      <td>0.001167</td>\n",
       "      <td>0.005750</td>\n",
       "      <td>0.002083</td>\n",
       "      <td>0.007083</td>\n",
       "      <td>0.001083</td>\n",
       "      <td>0.003667</td>\n",
       "      <td>0.000917</td>\n",
       "      <td>0.004333</td>\n",
       "      <td>0.002833</td>\n",
       "      <td>0.001417</td>\n",
       "    </tr>\n",
       "    <tr>\n",
       "      <th>std</th>\n",
       "      <td>0.500021</td>\n",
       "      <td>0.035345</td>\n",
       "      <td>0.135689</td>\n",
       "      <td>0.079023</td>\n",
       "      <td>0.128098</td>\n",
       "      <td>0.031608</td>\n",
       "      <td>0.071142</td>\n",
       "      <td>0.038702</td>\n",
       "      <td>0.037614</td>\n",
       "      <td>0.061835</td>\n",
       "      <td>...</td>\n",
       "      <td>0.036498</td>\n",
       "      <td>0.075614</td>\n",
       "      <td>0.047390</td>\n",
       "      <td>0.187624</td>\n",
       "      <td>0.032898</td>\n",
       "      <td>0.070618</td>\n",
       "      <td>0.030264</td>\n",
       "      <td>0.072904</td>\n",
       "      <td>0.061852</td>\n",
       "      <td>0.045623</td>\n",
       "    </tr>\n",
       "    <tr>\n",
       "      <th>min</th>\n",
       "      <td>0.000000</td>\n",
       "      <td>0.000000</td>\n",
       "      <td>0.000000</td>\n",
       "      <td>0.000000</td>\n",
       "      <td>0.000000</td>\n",
       "      <td>0.000000</td>\n",
       "      <td>0.000000</td>\n",
       "      <td>0.000000</td>\n",
       "      <td>0.000000</td>\n",
       "      <td>0.000000</td>\n",
       "      <td>...</td>\n",
       "      <td>0.000000</td>\n",
       "      <td>0.000000</td>\n",
       "      <td>0.000000</td>\n",
       "      <td>0.000000</td>\n",
       "      <td>0.000000</td>\n",
       "      <td>0.000000</td>\n",
       "      <td>0.000000</td>\n",
       "      <td>0.000000</td>\n",
       "      <td>0.000000</td>\n",
       "      <td>0.000000</td>\n",
       "    </tr>\n",
       "    <tr>\n",
       "      <th>25%</th>\n",
       "      <td>0.000000</td>\n",
       "      <td>0.000000</td>\n",
       "      <td>0.000000</td>\n",
       "      <td>0.000000</td>\n",
       "      <td>0.000000</td>\n",
       "      <td>0.000000</td>\n",
       "      <td>0.000000</td>\n",
       "      <td>0.000000</td>\n",
       "      <td>0.000000</td>\n",
       "      <td>0.000000</td>\n",
       "      <td>...</td>\n",
       "      <td>0.000000</td>\n",
       "      <td>0.000000</td>\n",
       "      <td>0.000000</td>\n",
       "      <td>0.000000</td>\n",
       "      <td>0.000000</td>\n",
       "      <td>0.000000</td>\n",
       "      <td>0.000000</td>\n",
       "      <td>0.000000</td>\n",
       "      <td>0.000000</td>\n",
       "      <td>0.000000</td>\n",
       "    </tr>\n",
       "    <tr>\n",
       "      <th>50%</th>\n",
       "      <td>0.500000</td>\n",
       "      <td>0.000000</td>\n",
       "      <td>0.000000</td>\n",
       "      <td>0.000000</td>\n",
       "      <td>0.000000</td>\n",
       "      <td>0.000000</td>\n",
       "      <td>0.000000</td>\n",
       "      <td>0.000000</td>\n",
       "      <td>0.000000</td>\n",
       "      <td>0.000000</td>\n",
       "      <td>...</td>\n",
       "      <td>0.000000</td>\n",
       "      <td>0.000000</td>\n",
       "      <td>0.000000</td>\n",
       "      <td>0.000000</td>\n",
       "      <td>0.000000</td>\n",
       "      <td>0.000000</td>\n",
       "      <td>0.000000</td>\n",
       "      <td>0.000000</td>\n",
       "      <td>0.000000</td>\n",
       "      <td>0.000000</td>\n",
       "    </tr>\n",
       "    <tr>\n",
       "      <th>75%</th>\n",
       "      <td>1.000000</td>\n",
       "      <td>0.000000</td>\n",
       "      <td>0.000000</td>\n",
       "      <td>0.000000</td>\n",
       "      <td>0.000000</td>\n",
       "      <td>0.000000</td>\n",
       "      <td>0.000000</td>\n",
       "      <td>0.000000</td>\n",
       "      <td>0.000000</td>\n",
       "      <td>0.000000</td>\n",
       "      <td>...</td>\n",
       "      <td>0.000000</td>\n",
       "      <td>0.000000</td>\n",
       "      <td>0.000000</td>\n",
       "      <td>0.000000</td>\n",
       "      <td>0.000000</td>\n",
       "      <td>0.000000</td>\n",
       "      <td>0.000000</td>\n",
       "      <td>0.000000</td>\n",
       "      <td>0.000000</td>\n",
       "      <td>0.000000</td>\n",
       "    </tr>\n",
       "    <tr>\n",
       "      <th>max</th>\n",
       "      <td>1.000000</td>\n",
       "      <td>2.000000</td>\n",
       "      <td>14.000000</td>\n",
       "      <td>7.000000</td>\n",
       "      <td>3.000000</td>\n",
       "      <td>1.000000</td>\n",
       "      <td>2.000000</td>\n",
       "      <td>1.000000</td>\n",
       "      <td>1.000000</td>\n",
       "      <td>2.000000</td>\n",
       "      <td>...</td>\n",
       "      <td>2.000000</td>\n",
       "      <td>1.000000</td>\n",
       "      <td>2.000000</td>\n",
       "      <td>12.000000</td>\n",
       "      <td>1.000000</td>\n",
       "      <td>3.000000</td>\n",
       "      <td>1.000000</td>\n",
       "      <td>2.000000</td>\n",
       "      <td>4.000000</td>\n",
       "      <td>3.000000</td>\n",
       "    </tr>\n",
       "  </tbody>\n",
       "</table>\n",
       "<p>8 rows × 3001 columns</p>\n",
       "</div>"
      ],
      "text/plain": [
       "            targets            aa            ab          abil           abl  \\\n",
       "count  12000.000000  12000.000000  12000.000000  12000.000000  12000.000000   \n",
       "mean       0.500000      0.000917      0.002583      0.002417      0.013250   \n",
       "std        0.500021      0.035345      0.135689      0.079023      0.128098   \n",
       "min        0.000000      0.000000      0.000000      0.000000      0.000000   \n",
       "25%        0.000000      0.000000      0.000000      0.000000      0.000000   \n",
       "50%        0.500000      0.000000      0.000000      0.000000      0.000000   \n",
       "75%        1.000000      0.000000      0.000000      0.000000      0.000000   \n",
       "max        1.000000      2.000000     14.000000      7.000000      3.000000   \n",
       "\n",
       "            abl see        aboard  aboard intern  aboard space         abort  \\\n",
       "count  12000.000000  12000.000000   12000.000000  12000.000000  12000.000000   \n",
       "mean       0.001000      0.004750       0.001500      0.001417      0.003167   \n",
       "std        0.031608      0.071142       0.038702      0.037614      0.061835   \n",
       "min        0.000000      0.000000       0.000000      0.000000      0.000000   \n",
       "25%        0.000000      0.000000       0.000000      0.000000      0.000000   \n",
       "50%        0.000000      0.000000       0.000000      0.000000      0.000000   \n",
       "75%        0.000000      0.000000       0.000000      0.000000      0.000000   \n",
       "max        1.000000      2.000000       1.000000      1.000000      2.000000   \n",
       "\n",
       "           ...               york    youlikebet         young         youtu  \\\n",
       "count      ...       12000.000000  12000.000000  12000.000000  12000.000000   \n",
       "mean       ...           0.001167      0.005750      0.002083      0.007083   \n",
       "std        ...           0.036498      0.075614      0.047390      0.187624   \n",
       "min        ...           0.000000      0.000000      0.000000      0.000000   \n",
       "25%        ...           0.000000      0.000000      0.000000      0.000000   \n",
       "50%        ...           0.000000      0.000000      0.000000      0.000000   \n",
       "75%        ...           0.000000      0.000000      0.000000      0.000000   \n",
       "max        ...           2.000000      1.000000      2.000000     12.000000   \n",
       "\n",
       "            zealand          zero  zero graviti          zone          zoom  \\\n",
       "count  12000.000000  12000.000000  12000.000000  12000.000000  12000.000000   \n",
       "mean       0.001083      0.003667      0.000917      0.004333      0.002833   \n",
       "std        0.032898      0.070618      0.030264      0.072904      0.061852   \n",
       "min        0.000000      0.000000      0.000000      0.000000      0.000000   \n",
       "25%        0.000000      0.000000      0.000000      0.000000      0.000000   \n",
       "50%        0.000000      0.000000      0.000000      0.000000      0.000000   \n",
       "75%        0.000000      0.000000      0.000000      0.000000      0.000000   \n",
       "max        1.000000      3.000000      1.000000      2.000000      4.000000   \n",
       "\n",
       "             zubrin  \n",
       "count  12000.000000  \n",
       "mean       0.001417  \n",
       "std        0.045623  \n",
       "min        0.000000  \n",
       "25%        0.000000  \n",
       "50%        0.000000  \n",
       "75%        0.000000  \n",
       "max        3.000000  \n",
       "\n",
       "[8 rows x 3001 columns]"
      ]
     },
     "execution_count": 7,
     "metadata": {},
     "output_type": "execute_result"
    }
   ],
   "source": [
    "term_df.describe()"
   ]
  },
  {
   "cell_type": "code",
   "execution_count": 8,
   "metadata": {},
   "outputs": [],
   "source": [
    "# scaler = MinMaxScaler()\n",
    "# scaler.fit(EDA_df)\n",
    "# EDA_df_normalized = scaler.transform(EDA_df)\n",
    "# EDA_df_normalized"
   ]
  },
  {
   "cell_type": "markdown",
   "metadata": {},
   "source": [
    "First lets try Logistic Regression algorithm."
   ]
  },
  {
   "cell_type": "code",
   "execution_count": 9,
   "metadata": {},
   "outputs": [],
   "source": [
    "# !pip install pactools\n",
    "# !/Users/amin/anaconda3/bin/python -m pip install pactools"
   ]
  },
  {
   "cell_type": "markdown",
   "metadata": {},
   "source": [
    "### A comperhensive grid search on lr model Done.\n",
    "\n",
    "```python\n",
    "pipe = Pipeline([\n",
    "    ('cvec', CountVectorizer()),\n",
    "    ('logreg', LogisticRegression())\n",
    "])\n",
    "\n",
    "\n",
    "pipe_params = {\n",
    "    'cvec__max_features': [2_000, 4_000],\n",
    "    'cvec__ngram_range': [(1,1), (1,2)],\n",
    "    'logreg__penalty': ['l2', 'none'],\n",
    "    'logreg__solver': ['newton-cg', 'sag'],\n",
    "    'logreg__max_iter': [100, 300]\n",
    "}\n",
    "\n",
    "lr = GridSearchCV(pipe, # what object are we optimizing?\n",
    "                  param_grid=pipe_params, # what parameters values are we searching?\n",
    "                  cv=5, \n",
    "                  scoring='accuracy', \n",
    "                  verbose=2) \n",
    "\n",
    "lr.fit(X_train, y_train);\n",
    "print('lr.best_params_\\n', lr.best_params_)\n",
    "```\n",
    "\n",
    "\n",
    "\n",
    "\n",
    "\n",
    "### Here is the best results of above grid search.\n",
    "\n",
    "```python\n",
    "\n",
    "print('lr.best_params_\\n', lr.best_params_)\n",
    "\n",
    "lr.best_params_\n",
    " {'cvec__max_features': 4000, 'cvec__ngram_range': (1, 2), \n",
    " 'logreg__max_iter': 300, 'logreg__penalty': 'none', 'logreg__solver': 'sag'}\n",
    " \n",
    "```"
   ]
  },
  {
   "cell_type": "code",
   "execution_count": 10,
   "metadata": {},
   "outputs": [],
   "source": [
    "# lr.cv_results_"
   ]
  },
  {
   "cell_type": "code",
   "execution_count": 11,
   "metadata": {},
   "outputs": [],
   "source": [
    "# lr.get_params"
   ]
  },
  {
   "cell_type": "markdown",
   "metadata": {},
   "source": [
    "Going with best lr hyperparameters."
   ]
  },
  {
   "cell_type": "code",
   "execution_count": 12,
   "metadata": {},
   "outputs": [
    {
     "name": "stdout",
     "output_type": "stream",
     "text": [
      "train score 0.7977777777777778\n",
      "test score 0.7563333333333333\n"
     ]
    }
   ],
   "source": [
    "cvec = CountVectorizer(max_features= 4000,\n",
    "                       min_df=4, max_df=1.0,\n",
    "                       ngram_range=(1,2))\n",
    "\n",
    "\n",
    "X_train_features = cvec.fit_transform(X_train)\n",
    "X_test_features = cvec.transform(X_test)\n",
    "\n",
    "lr = LogisticRegression(penalty='none', dual=False, tol=0.0001, \n",
    "                         C=1.0, fit_intercept=True, intercept_scaling=1, \n",
    "                         class_weight=None, random_state=None, solver='sag', \n",
    "                         max_iter=300, multi_class='auto', verbose=0, \n",
    "                         warm_start=False, n_jobs=None, l1_ratio=None)\n",
    "\n",
    "lr.fit(X_train_features, y_train);\n",
    "\n",
    "lr.score(X_train_features, y_train); \n",
    "print('train score', lr.score(X_train_features, y_train))\n",
    "\n",
    "lr.score(X_test_features, y_test); \n",
    "print('test score', lr.score(X_test_features, y_test))"
   ]
  },
  {
   "cell_type": "markdown",
   "metadata": {},
   "source": [
    "Checking out the Accuracy, Precision, Recall parameters."
   ]
  },
  {
   "cell_type": "code",
   "execution_count": 13,
   "metadata": {},
   "outputs": [
    {
     "data": {
      "image/png": "[encoded data removed]",
      "text/plain": [
       "<Figure size 432x288 with 2 Axes>"
      ]
     },
     "metadata": {
      "needs_background": "light"
     },
     "output_type": "display_data"
    }
   ],
   "source": [
    "preds = lr.predict(X_test_features)\n",
    "\n",
    "# Save confusion matrix values\n",
    "tn, fp, fn, tp = confusion_matrix(y_test, preds).ravel()\n",
    "\n",
    "# View confusion matrix\n",
    "\n",
    "plot_confusion_matrix(lr, X_test_features, y_test, \n",
    "                      cmap='Greys', values_format='d');\n",
    "Accuracy = (tp + tn) / (tp + tn + fp + fn)\n",
    "Precision = tp / (tp + fp)\n",
    "Recall = tp / (tp + fn)\n",
    "\n",
    "Accuracy, Precision, Recall\n",
    "plt.savefig(\"../Figures/plot_04_1.png\")"
   ]
  },
  {
   "cell_type": "code",
   "execution_count": null,
   "metadata": {},
   "outputs": [],
   "source": []
  },
  {
   "cell_type": "code",
   "execution_count": 14,
   "metadata": {},
   "outputs": [],
   "source": [
    "# save the model to disk\n",
    "sys.path.insert(1, '../Codes/')\n",
    "filename = '../Codes/Models/lr_cvec_DF_P04_01.sav'\n",
    "pickle.dump(lr, open(filename, 'wb'))"
   ]
  },
  {
   "cell_type": "markdown",
   "metadata": {},
   "source": [
    "### Applying gradient boosting algorithm.\n",
    "Using All CPUs"
   ]
  },
  {
   "cell_type": "code",
   "execution_count": 15,
   "metadata": {},
   "outputs": [
    {
     "name": "stdout",
     "output_type": "stream",
     "text": [
      "Fitting 3 folds for each of 27 candidates, totalling 81 fits\n",
      "0.7278888888888888\n"
     ]
    },
    {
     "data": {
      "text/plain": [
       "{'learning_rate': 0.12, 'max_depth': 4, 'n_estimators': 150}"
      ]
     },
     "execution_count": 15,
     "metadata": {},
     "output_type": "execute_result"
    }
   ],
   "source": [
    "gboost = GradientBoostingClassifier(loss='deviance', learning_rate=0.1, \n",
    "                                    n_estimators=100, subsample=1.0, criterion='friedman_mse', \n",
    "                                    min_samples_split=2, min_samples_leaf=1, min_weight_fraction_leaf=0.0, \n",
    "                                    max_depth=3, min_impurity_decrease=0.0, min_impurity_split=None, \n",
    "                                    init=None, random_state=None, max_features=None, verbose=0, \n",
    "                                    max_leaf_nodes=None, warm_start=False, validation_fraction=0.1, \n",
    "                                    n_iter_no_change=None, tol=0.0001, ccp_alpha=0.0)\n",
    "gboost_params = {\n",
    "    'max_depth': [2,3,4],\n",
    "    'n_estimators': [100, 125, 150],\n",
    "    'learning_rate': [.08, .1, .12]\n",
    "}\n",
    "gs = GridSearchCV(gboost, param_grid=gboost_params, \n",
    "                  cv=3, verbose=1, n_jobs=-1)\n",
    "gs.fit(X_train_features, y_train)\n",
    "\n",
    "print(gs.best_score_)\n",
    "gs.best_params_"
   ]
  },
  {
   "cell_type": "markdown",
   "metadata": {},
   "source": [
    "just took ~ 8 seconds.\n",
    "Now using 1 CPU.\n",
    "### Using One CPU"
   ]
  },
  {
   "cell_type": "code",
   "execution_count": 16,
   "metadata": {},
   "outputs": [
    {
     "name": "stdout",
     "output_type": "stream",
     "text": [
      "Fitting 3 folds for each of 27 candidates, totalling 81 fits\n",
      "0.7267777777777779\n"
     ]
    },
    {
     "data": {
      "text/plain": [
       "{'learning_rate': 0.12, 'max_depth': 4, 'n_estimators': 150}"
      ]
     },
     "execution_count": 16,
     "metadata": {},
     "output_type": "execute_result"
    }
   ],
   "source": [
    "gboost = GradientBoostingClassifier(loss='deviance', learning_rate=0.1, \n",
    "                                    n_estimators=100, subsample=1.0, criterion='friedman_mse', \n",
    "                                    min_samples_split=2, min_samples_leaf=1, min_weight_fraction_leaf=0.0, \n",
    "                                    max_depth=3, min_impurity_decrease=0.0, min_impurity_split=None, \n",
    "                                    init=None, random_state=None, max_features=None, verbose=0, \n",
    "                                    max_leaf_nodes=None, warm_start=False, validation_fraction=0.1, \n",
    "                                    n_iter_no_change=None, tol=0.0001, ccp_alpha=0.0)\n",
    "gboost_params = {\n",
    "    'max_depth': [2,3,4],\n",
    "    'n_estimators': [100, 125, 150],\n",
    "    'learning_rate': [.08, .1, .12]\n",
    "}\n",
    "gs = GridSearchCV(gboost, param_grid=gboost_params, \n",
    "                  cv=3, verbose=1, n_jobs=None)\n",
    "gs.fit(X_train_features, y_train)\n",
    "\n",
    "print(gs.best_score_)\n",
    "gs.best_params_"
   ]
  },
  {
   "cell_type": "markdown",
   "metadata": {},
   "source": [
    "60 seconds compare to 8 seconds! "
   ]
  },
  {
   "cell_type": "markdown",
   "metadata": {},
   "source": [
    "Going with the best hyperparameters for gboost. Notice grid search convergence to max values."
   ]
  },
  {
   "cell_type": "code",
   "execution_count": 17,
   "metadata": {},
   "outputs": [
    {
     "name": "stdout",
     "output_type": "stream",
     "text": [
      "0.738\n"
     ]
    }
   ],
   "source": [
    "gboost = GradientBoostingClassifier(loss='deviance', learning_rate=0.12, \n",
    "                                    n_estimators=150, subsample=1.0, criterion='friedman_mse', \n",
    "                                    min_samples_split=2, min_samples_leaf=1, min_weight_fraction_leaf=0.0, \n",
    "                                    max_depth=4, min_impurity_decrease=0.0, min_impurity_split=None, \n",
    "                                    init=None, random_state=None, max_features=None, verbose=0, \n",
    "                                    max_leaf_nodes=None, warm_start=False, validation_fraction=0.1, \n",
    "                                    n_iter_no_change=None, tol=0.0001, ccp_alpha=0.0)\n",
    "gboost.fit(X_train_features, y_train)\n",
    "print(gboost.score(X_test_features, y_test))"
   ]
  },
  {
   "cell_type": "markdown",
   "metadata": {},
   "source": [
    "Checking out the Accuracy, Precision, Recall parameters."
   ]
  },
  {
   "cell_type": "code",
   "execution_count": 18,
   "metadata": {},
   "outputs": [
    {
     "data": {
      "image/png": "[encoded data removed]",
      "text/plain": [
       "<Figure size 432x288 with 2 Axes>"
      ]
     },
     "metadata": {
      "needs_background": "light"
     },
     "output_type": "display_data"
    }
   ],
   "source": [
    "preds = gboost.predict(X_test_features)\n",
    "\n",
    "# Save confusion matrix values\n",
    "tn, fp, fn, tp = confusion_matrix(y_test, preds).ravel()\n",
    "\n",
    "# View confusion matrix\n",
    "\n",
    "plot_confusion_matrix(gboost, X_test_features, \n",
    "                      y_test, cmap='Greys', values_format='d');\n",
    "Accuracy = (tp + tn) / (tp + tn + fp + fn)\n",
    "Precision = tp / (tp + fp)\n",
    "Recall = tp / (tp + fn)\n",
    "\n",
    "Accuracy, Precision, Recall\n",
    "plt.savefig(\"../Figures/plot_04_2.png\")"
   ]
  },
  {
   "cell_type": "code",
   "execution_count": 19,
   "metadata": {},
   "outputs": [],
   "source": [
    "# save the model to disk\n",
    "sys.path.insert(1, '../Codes/')\n",
    "filename = '../Codes/Models/gboost_cvec_DF_P04_01.sav'\n",
    "pickle.dump(gboost, open(filename, 'wb'))"
   ]
  },
  {
   "cell_type": "markdown",
   "metadata": {},
   "source": [
    "### Using ANN model \n",
    "\n",
    "Using All CPUs."
   ]
  },
  {
   "cell_type": "code",
   "execution_count": 20,
   "metadata": {},
   "outputs": [
    {
     "name": "stdout",
     "output_type": "stream",
     "text": [
      "Fitting 3 folds for each of 12 candidates, totalling 36 fits\n"
     ]
    },
    {
     "data": {
      "text/plain": [
       "GridSearchCV(cv=3, estimator=MLPClassifier(hidden_layer_sizes=50), n_jobs=-1,\n",
       "             param_grid={'activation': ['tanh', 'relu'],\n",
       "                         'hidden_layer_sizes': [20, 50],\n",
       "                         'solver': ['lbfgs', 'sgd', 'adam']},\n",
       "             verbose=1)"
      ]
     },
     "execution_count": 20,
     "metadata": {},
     "output_type": "execute_result"
    }
   ],
   "source": [
    "mlp = MLPClassifier(hidden_layer_sizes=50, activation='relu', solver='adam', \n",
    "                    alpha=0.0001, batch_size='auto', learning_rate='constant', \n",
    "                    learning_rate_init=0.001, power_t=0.5, max_iter=200, shuffle=True, \n",
    "                    random_state=None, tol=0.0001, verbose=False, warm_start=False, \n",
    "                    momentum=0.9, nesterovs_momentum=True, early_stopping=False, \n",
    "                    validation_fraction=0.1, beta_1=0.9, beta_2=0.999, epsilon=1e-08, \n",
    "                    n_iter_no_change=10, max_fun=15000)\n",
    "\n",
    "\n",
    "mlp_params = {\n",
    "    'hidden_layer_sizes': [20,50],\n",
    "    'activation': ['tanh', 'relu'],\n",
    "    'solver': ['lbfgs', 'sgd', 'adam']\n",
    "}\n",
    "mlp = GridSearchCV(mlp, param_grid=mlp_params, cv=3, verbose=1, n_jobs=-1)\n",
    "mlp.fit(X_train_features, y_train)"
   ]
  },
  {
   "cell_type": "code",
   "execution_count": 21,
   "metadata": {},
   "outputs": [
    {
     "name": "stdout",
     "output_type": "stream",
     "text": [
      "0.7436666666666666\n"
     ]
    },
    {
     "data": {
      "text/plain": [
       "{'activation': 'tanh', 'hidden_layer_sizes': 50, 'solver': 'sgd'}"
      ]
     },
     "execution_count": 21,
     "metadata": {},
     "output_type": "execute_result"
    }
   ],
   "source": [
    "print(mlp.best_score_)\n",
    "mlp.best_params_"
   ]
  },
  {
   "cell_type": "markdown",
   "metadata": {},
   "source": [
    "Checking out the Accuracy, Precision, Recall parameters."
   ]
  },
  {
   "cell_type": "code",
   "execution_count": 22,
   "metadata": {},
   "outputs": [
    {
     "data": {
      "image/png": "[encoded data removed]",
      "text/plain": [
       "<Figure size 432x288 with 2 Axes>"
      ]
     },
     "metadata": {
      "needs_background": "light"
     },
     "output_type": "display_data"
    }
   ],
   "source": [
    "preds = mlp.predict(X_test_features)\n",
    "\n",
    "# Save confusion matrix values\n",
    "tn, fp, fn, tp = confusion_matrix(y_test, preds).ravel()\n",
    "\n",
    "# View confusion matrix\n",
    "\n",
    "plot_confusion_matrix(mlp, X_test_features, y_test, \n",
    "                      cmap='Greys', values_format='d');\n",
    "Accuracy = (tp + tn) / (tp + tn + fp + fn)\n",
    "Precision = tp / (tp + fp)\n",
    "Recall = tp / (tp + fn)\n",
    "\n",
    "Accuracy, Precision, Recall\n",
    "plt.savefig(\"../Figures/plot_04_3.png\")"
   ]
  },
  {
   "cell_type": "markdown",
   "metadata": {},
   "source": [
    "Going with the best hyperparameters for ANN. "
   ]
  },
  {
   "cell_type": "code",
   "execution_count": 23,
   "metadata": {},
   "outputs": [
    {
     "name": "stdout",
     "output_type": "stream",
     "text": [
      "0.748\n"
     ]
    }
   ],
   "source": [
    "mlp = MLPClassifier(hidden_layer_sizes=50, activation='relu', solver='sgd', \n",
    "                    alpha=0.0001, batch_size='auto', learning_rate='constant', \n",
    "                    learning_rate_init=0.001, power_t=0.5, max_iter=100, shuffle=True, \n",
    "                    random_state=None, tol=0.0001, verbose=False, warm_start=False, \n",
    "                    momentum=0.9, nesterovs_momentum=True, early_stopping=False, \n",
    "                    validation_fraction=0.1, beta_1=0.9, beta_2=0.999, epsilon=1e-08, \n",
    "                    n_iter_no_change=10, max_fun=15000)\n",
    "\n",
    "\n",
    "mlp.fit(X_train_features, y_train)\n",
    "print(mlp.score(X_test_features, y_test))"
   ]
  },
  {
   "cell_type": "code",
   "execution_count": 24,
   "metadata": {},
   "outputs": [],
   "source": [
    "# save the model to disk\n",
    "sys.path.insert(1, '../Codes/')\n",
    "filename = '../Codes/Models/mlp_cvec_DF_P04_01.sav'\n",
    "pickle.dump(mlp, open(filename, 'wb'))"
   ]
  },
  {
   "cell_type": "markdown",
   "metadata": {},
   "source": [
    "## Lets use EDA data"
   ]
  },
  {
   "cell_type": "code",
   "execution_count": 25,
   "metadata": {},
   "outputs": [
    {
     "data": {
      "text/html": [
       "<div>\n",
       "<style scoped>\n",
       "    .dataframe tbody tr th:only-of-type {\n",
       "        vertical-align: middle;\n",
       "    }\n",
       "\n",
       "    .dataframe tbody tr th {\n",
       "        vertical-align: top;\n",
       "    }\n",
       "\n",
       "    .dataframe thead th {\n",
       "        text-align: right;\n",
       "    }\n",
       "</style>\n",
       "<table border=\"1\" class=\"dataframe\">\n",
       "  <thead>\n",
       "    <tr style=\"text-align: right;\">\n",
       "      <th></th>\n",
       "      <th>target</th>\n",
       "      <th>''</th>\n",
       "      <th>CC</th>\n",
       "      <th>CD</th>\n",
       "      <th>DT</th>\n",
       "      <th>EX</th>\n",
       "      <th>FW</th>\n",
       "      <th>IN</th>\n",
       "      <th>JJ</th>\n",
       "      <th>JJR</th>\n",
       "      <th>...</th>\n",
       "      <th>WP</th>\n",
       "      <th>WP$</th>\n",
       "      <th>WRB</th>\n",
       "      <th>ent</th>\n",
       "      <th>word_count*</th>\n",
       "      <th>sentiment_score*</th>\n",
       "      <th>polarity_score</th>\n",
       "      <th>polarity</th>\n",
       "      <th>polarity_VSA</th>\n",
       "      <th>text_complexity</th>\n",
       "    </tr>\n",
       "  </thead>\n",
       "  <tbody>\n",
       "    <tr>\n",
       "      <th>0</th>\n",
       "      <td>1</td>\n",
       "      <td>0.0</td>\n",
       "      <td>0.0</td>\n",
       "      <td>0.0</td>\n",
       "      <td>0.0</td>\n",
       "      <td>0.0</td>\n",
       "      <td>0.0</td>\n",
       "      <td>0.0</td>\n",
       "      <td>0.0</td>\n",
       "      <td>0.0</td>\n",
       "      <td>...</td>\n",
       "      <td>0.0</td>\n",
       "      <td>0.0</td>\n",
       "      <td>0.0</td>\n",
       "      <td>1</td>\n",
       "      <td>4</td>\n",
       "      <td>0.0</td>\n",
       "      <td>0.0</td>\n",
       "      <td>1</td>\n",
       "      <td>1</td>\n",
       "      <td>92.80</td>\n",
       "    </tr>\n",
       "    <tr>\n",
       "      <th>1</th>\n",
       "      <td>1</td>\n",
       "      <td>0.0</td>\n",
       "      <td>0.0</td>\n",
       "      <td>0.0</td>\n",
       "      <td>0.0</td>\n",
       "      <td>0.0</td>\n",
       "      <td>0.0</td>\n",
       "      <td>0.0</td>\n",
       "      <td>1.0</td>\n",
       "      <td>0.0</td>\n",
       "      <td>...</td>\n",
       "      <td>0.0</td>\n",
       "      <td>0.0</td>\n",
       "      <td>0.0</td>\n",
       "      <td>2</td>\n",
       "      <td>5</td>\n",
       "      <td>0.0</td>\n",
       "      <td>0.0</td>\n",
       "      <td>1</td>\n",
       "      <td>1</td>\n",
       "      <td>15.64</td>\n",
       "    </tr>\n",
       "  </tbody>\n",
       "</table>\n",
       "<p>2 rows × 43 columns</p>\n",
       "</div>"
      ],
      "text/plain": [
       "   target   ''   CC   CD   DT   EX   FW   IN   JJ  JJR       ...          WP  \\\n",
       "0       1  0.0  0.0  0.0  0.0  0.0  0.0  0.0  0.0  0.0       ...         0.0   \n",
       "1       1  0.0  0.0  0.0  0.0  0.0  0.0  0.0  1.0  0.0       ...         0.0   \n",
       "\n",
       "   WP$  WRB  ent  word_count*  sentiment_score*  polarity_score  polarity  \\\n",
       "0  0.0  0.0    1            4               0.0             0.0         1   \n",
       "1  0.0  0.0    2            5               0.0             0.0         1   \n",
       "\n",
       "   polarity_VSA  text_complexity  \n",
       "0             1            92.80  \n",
       "1             1            15.64  \n",
       "\n",
       "[2 rows x 43 columns]"
      ]
     },
     "execution_count": 25,
     "metadata": {},
     "output_type": "execute_result"
    }
   ],
   "source": [
    "EDA_df.head(2)"
   ]
  },
  {
   "cell_type": "markdown",
   "metadata": {},
   "source": [
    "Lets make a normalzied set of EDA data."
   ]
  },
  {
   "cell_type": "code",
   "execution_count": 26,
   "metadata": {},
   "outputs": [
    {
     "data": {
      "text/html": [
       "<div>\n",
       "<style scoped>\n",
       "    .dataframe tbody tr th:only-of-type {\n",
       "        vertical-align: middle;\n",
       "    }\n",
       "\n",
       "    .dataframe tbody tr th {\n",
       "        vertical-align: top;\n",
       "    }\n",
       "\n",
       "    .dataframe thead th {\n",
       "        text-align: right;\n",
       "    }\n",
       "</style>\n",
       "<table border=\"1\" class=\"dataframe\">\n",
       "  <thead>\n",
       "    <tr style=\"text-align: right;\">\n",
       "      <th></th>\n",
       "      <th>target</th>\n",
       "      <th>''</th>\n",
       "      <th>CC</th>\n",
       "      <th>CD</th>\n",
       "      <th>DT</th>\n",
       "      <th>EX</th>\n",
       "      <th>FW</th>\n",
       "      <th>IN</th>\n",
       "      <th>JJ</th>\n",
       "      <th>JJR</th>\n",
       "      <th>...</th>\n",
       "      <th>WP</th>\n",
       "      <th>WP$</th>\n",
       "      <th>WRB</th>\n",
       "      <th>ent</th>\n",
       "      <th>word_count*</th>\n",
       "      <th>sentiment_score*</th>\n",
       "      <th>polarity_score</th>\n",
       "      <th>polarity</th>\n",
       "      <th>polarity_VSA</th>\n",
       "      <th>text_complexity</th>\n",
       "    </tr>\n",
       "  </thead>\n",
       "  <tbody>\n",
       "    <tr>\n",
       "      <th>0</th>\n",
       "      <td>1.0</td>\n",
       "      <td>0.0</td>\n",
       "      <td>0.0</td>\n",
       "      <td>0.0</td>\n",
       "      <td>0.0</td>\n",
       "      <td>0.0</td>\n",
       "      <td>0.0</td>\n",
       "      <td>0.0</td>\n",
       "      <td>0.000000</td>\n",
       "      <td>0.0</td>\n",
       "      <td>...</td>\n",
       "      <td>0.0</td>\n",
       "      <td>0.0</td>\n",
       "      <td>0.0</td>\n",
       "      <td>0.000000</td>\n",
       "      <td>0.003015</td>\n",
       "      <td>0.499549</td>\n",
       "      <td>0.5</td>\n",
       "      <td>0.5</td>\n",
       "      <td>0.5</td>\n",
       "      <td>0.899776</td>\n",
       "    </tr>\n",
       "    <tr>\n",
       "      <th>1</th>\n",
       "      <td>1.0</td>\n",
       "      <td>0.0</td>\n",
       "      <td>0.0</td>\n",
       "      <td>0.0</td>\n",
       "      <td>0.0</td>\n",
       "      <td>0.0</td>\n",
       "      <td>0.0</td>\n",
       "      <td>0.0</td>\n",
       "      <td>0.005076</td>\n",
       "      <td>0.0</td>\n",
       "      <td>...</td>\n",
       "      <td>0.0</td>\n",
       "      <td>0.0</td>\n",
       "      <td>0.0</td>\n",
       "      <td>0.090909</td>\n",
       "      <td>0.004020</td>\n",
       "      <td>0.499549</td>\n",
       "      <td>0.5</td>\n",
       "      <td>0.5</td>\n",
       "      <td>0.5</td>\n",
       "      <td>0.831964</td>\n",
       "    </tr>\n",
       "    <tr>\n",
       "      <th>2</th>\n",
       "      <td>1.0</td>\n",
       "      <td>0.0</td>\n",
       "      <td>0.0</td>\n",
       "      <td>0.0</td>\n",
       "      <td>0.0</td>\n",
       "      <td>0.0</td>\n",
       "      <td>0.0</td>\n",
       "      <td>0.0</td>\n",
       "      <td>0.005076</td>\n",
       "      <td>0.0</td>\n",
       "      <td>...</td>\n",
       "      <td>0.0</td>\n",
       "      <td>0.0</td>\n",
       "      <td>0.0</td>\n",
       "      <td>0.000000</td>\n",
       "      <td>0.003015</td>\n",
       "      <td>0.659032</td>\n",
       "      <td>0.5</td>\n",
       "      <td>0.5</td>\n",
       "      <td>0.5</td>\n",
       "      <td>0.847730</td>\n",
       "    </tr>\n",
       "    <tr>\n",
       "      <th>3</th>\n",
       "      <td>1.0</td>\n",
       "      <td>0.0</td>\n",
       "      <td>0.0</td>\n",
       "      <td>0.0</td>\n",
       "      <td>0.0</td>\n",
       "      <td>0.0</td>\n",
       "      <td>0.0</td>\n",
       "      <td>0.0</td>\n",
       "      <td>0.000000</td>\n",
       "      <td>0.0</td>\n",
       "      <td>...</td>\n",
       "      <td>0.0</td>\n",
       "      <td>0.0</td>\n",
       "      <td>0.0</td>\n",
       "      <td>0.000000</td>\n",
       "      <td>0.002010</td>\n",
       "      <td>0.499549</td>\n",
       "      <td>0.5</td>\n",
       "      <td>0.5</td>\n",
       "      <td>0.5</td>\n",
       "      <td>0.848618</td>\n",
       "    </tr>\n",
       "    <tr>\n",
       "      <th>4</th>\n",
       "      <td>1.0</td>\n",
       "      <td>0.0</td>\n",
       "      <td>0.0</td>\n",
       "      <td>0.0</td>\n",
       "      <td>0.0</td>\n",
       "      <td>0.0</td>\n",
       "      <td>0.0</td>\n",
       "      <td>0.0</td>\n",
       "      <td>0.005076</td>\n",
       "      <td>0.0</td>\n",
       "      <td>...</td>\n",
       "      <td>0.0</td>\n",
       "      <td>0.0</td>\n",
       "      <td>0.0</td>\n",
       "      <td>0.000000</td>\n",
       "      <td>0.007035</td>\n",
       "      <td>0.729501</td>\n",
       "      <td>0.5</td>\n",
       "      <td>0.5</td>\n",
       "      <td>0.5</td>\n",
       "      <td>0.881338</td>\n",
       "    </tr>\n",
       "  </tbody>\n",
       "</table>\n",
       "<p>5 rows × 43 columns</p>\n",
       "</div>"
      ],
      "text/plain": [
       "   target   ''   CC   CD   DT   EX   FW   IN        JJ  JJR       ...         \\\n",
       "0     1.0  0.0  0.0  0.0  0.0  0.0  0.0  0.0  0.000000  0.0       ...          \n",
       "1     1.0  0.0  0.0  0.0  0.0  0.0  0.0  0.0  0.005076  0.0       ...          \n",
       "2     1.0  0.0  0.0  0.0  0.0  0.0  0.0  0.0  0.005076  0.0       ...          \n",
       "3     1.0  0.0  0.0  0.0  0.0  0.0  0.0  0.0  0.000000  0.0       ...          \n",
       "4     1.0  0.0  0.0  0.0  0.0  0.0  0.0  0.0  0.005076  0.0       ...          \n",
       "\n",
       "    WP  WP$  WRB       ent  word_count*  sentiment_score*  polarity_score  \\\n",
       "0  0.0  0.0  0.0  0.000000     0.003015          0.499549             0.5   \n",
       "1  0.0  0.0  0.0  0.090909     0.004020          0.499549             0.5   \n",
       "2  0.0  0.0  0.0  0.000000     0.003015          0.659032             0.5   \n",
       "3  0.0  0.0  0.0  0.000000     0.002010          0.499549             0.5   \n",
       "4  0.0  0.0  0.0  0.000000     0.007035          0.729501             0.5   \n",
       "\n",
       "   polarity  polarity_VSA  text_complexity  \n",
       "0       0.5           0.5         0.899776  \n",
       "1       0.5           0.5         0.831964  \n",
       "2       0.5           0.5         0.847730  \n",
       "3       0.5           0.5         0.848618  \n",
       "4       0.5           0.5         0.881338  \n",
       "\n",
       "[5 rows x 43 columns]"
      ]
     },
     "execution_count": 26,
     "metadata": {},
     "output_type": "execute_result"
    }
   ],
   "source": [
    "from sklearn import preprocessing\n",
    "EDA_arr = EDA_df.values #returns a numpy array\n",
    "min_max_scaler = preprocessing.MinMaxScaler()\n",
    "EDA_arr_scaled = min_max_scaler.fit_transform(EDA_arr)\n",
    "EDA_df_normalized = pd.DataFrame(EDA_arr_scaled, columns=EDA_df.columns)\n",
    "EDA_df_normalized.head()"
   ]
  },
  {
   "cell_type": "markdown",
   "metadata": {},
   "source": [
    "Prepare the data frame as numpy."
   ]
  },
  {
   "cell_type": "code",
   "execution_count": 27,
   "metadata": {},
   "outputs": [
    {
     "name": "stdout",
     "output_type": "stream",
     "text": [
      "train score 0.8264444444444444\n",
      "test score 0.8216666666666667\n"
     ]
    },
    {
     "data": {
      "image/png": "[encoded data removed]",
      "text/plain": [
       "<Figure size 432x288 with 2 Axes>"
      ]
     },
     "metadata": {
      "needs_background": "light"
     },
     "output_type": "display_data"
    }
   ],
   "source": [
    "y = EDA_df['target']\n",
    "X = EDA_df.drop(columns = ['target'])\n",
    "X_arr = np.array(X)\n",
    "y_arr = np.array(y)\n",
    "\n",
    "\n",
    "X_train, X_test, y_train, y_test = train_test_split(X_arr,\n",
    "                                                    y_arr,\n",
    "                                                    test_size = 0.25,\n",
    "                                                    random_state = 101)\n",
    "\n",
    "\n",
    "lr = LogisticRegression(solver='sag', \n",
    "                        max_iter=5000)\n",
    "\n",
    "lr.fit(X_train, y_train);\n",
    "\n",
    "lr.score(X_train, y_train); \n",
    "print('train score', lr.score(X_train, y_train))\n",
    "\n",
    "lr.score(X_test, y_test); \n",
    "print('test score', lr.score(X_test, y_test))\n",
    "\n",
    "\n",
    "preds = lr.predict(X_test)\n",
    "\n",
    "# Save confusion matrix values\n",
    "tn, fp, fn, tp = confusion_matrix(y_test, preds).ravel()\n",
    "\n",
    "# View confusion matrix\n",
    "\n",
    "plot_confusion_matrix(lr, X_test, y_test, \n",
    "                      cmap='Greys', values_format='d');\n",
    "Accuracy = (tp + tn) / (tp + tn + fp + fn)\n",
    "Precision = tp / (tp + fp)\n",
    "Recall = tp / (tp + fn)\n",
    "\n",
    "Accuracy, Precision, Recall\n",
    "plt.savefig(\"../Figures/plot_04_4.png\")"
   ]
  },
  {
   "cell_type": "code",
   "execution_count": 28,
   "metadata": {},
   "outputs": [],
   "source": [
    "# save the model to disk\n",
    "sys.path.insert(1, '../Codes/')\n",
    "filename = '../Codes/Models/lr_EDA_DF_P04_01.sav'\n",
    "pickle.dump(lr, open(filename, 'wb'))"
   ]
  },
  {
   "cell_type": "markdown",
   "metadata": {},
   "source": [
    "* Now lets use the normalized data set and see if it affects the reults."
   ]
  },
  {
   "cell_type": "code",
   "execution_count": 29,
   "metadata": {},
   "outputs": [
    {
     "name": "stdout",
     "output_type": "stream",
     "text": [
      "train score 0.8356666666666667\n",
      "test score 0.832\n"
     ]
    },
    {
     "data": {
      "image/png": "[encoded data removed]",
      "text/plain": [
       "<Figure size 432x288 with 2 Axes>"
      ]
     },
     "metadata": {
      "needs_background": "light"
     },
     "output_type": "display_data"
    }
   ],
   "source": [
    "y = EDA_df_normalized['target']\n",
    "X = EDA_df_normalized.drop(columns = ['target'])\n",
    "X_arr = np.array(X)\n",
    "y_arr = np.array(y)\n",
    "\n",
    "X_train, X_test, y_train, y_test = train_test_split(X_arr,\n",
    "                                                    y_arr,\n",
    "                                                    test_size = 0.25,\n",
    "                                                    random_state = 101)\n",
    "\n",
    "\n",
    "lr = LogisticRegression(solver='sag', \n",
    "                        max_iter=5000)\n",
    "\n",
    "lr.fit(X_train, y_train);\n",
    "\n",
    "lr.score(X_train, y_train); \n",
    "print('train score', lr.score(X_train, y_train))\n",
    "\n",
    "lr.score(X_test, y_test); \n",
    "print('test score', lr.score(X_test, y_test))\n",
    "\n",
    "preds = lr.predict(X_test)\n",
    "\n",
    "# Save confusion matrix values\n",
    "tn, fp, fn, tp = confusion_matrix(y_test, preds).ravel()\n",
    "\n",
    "# View confusion matrix\n",
    "\n",
    "plot_confusion_matrix(lr, X_test, y_test, \n",
    "                      cmap='Greys', values_format='d');\n",
    "Accuracy = (tp + tn) / (tp + tn + fp + fn)\n",
    "Precision = tp / (tp + fp)\n",
    "Recall = tp / (tp + fn)\n",
    "\n",
    "Accuracy, Precision, Recall\n",
    "plt.savefig(\"../Figures/plot_04_5.png\")"
   ]
  },
  {
   "cell_type": "code",
   "execution_count": 30,
   "metadata": {},
   "outputs": [],
   "source": [
    "# save the model to disk\n",
    "sys.path.insert(1, '../Codes/')\n",
    "filename = '../Codes/Models/lr_EDA_norm_DF_P04_01.sav'\n",
    "pickle.dump(lr, open(filename, 'wb'))"
   ]
  },
  {
   "cell_type": "markdown",
   "metadata": {},
   "source": [
    "### Gboost algorithm\n",
    "Now lets use Gboost algorithm."
   ]
  },
  {
   "cell_type": "code",
   "execution_count": 31,
   "metadata": {},
   "outputs": [
    {
     "name": "stdout",
     "output_type": "stream",
     "text": [
      "Fitting 3 folds for each of 27 candidates, totalling 81 fits\n",
      "0.8353333333333334\n"
     ]
    },
    {
     "data": {
      "text/plain": [
       "{'learning_rate': 0.08, 'max_depth': 2, 'n_estimators': 100}"
      ]
     },
     "execution_count": 31,
     "metadata": {},
     "output_type": "execute_result"
    }
   ],
   "source": [
    "y = EDA_df['target']\n",
    "X = EDA_df.drop(columns = ['target'])\n",
    "X_arr = np.array(X)\n",
    "y_arr = np.array(y)\n",
    "\n",
    "X_train, X_test, y_train, y_test = train_test_split(X_arr,\n",
    "                                                    y_arr,\n",
    "                                                    test_size = 0.25,\n",
    "                                                    random_state = 101)\n",
    "\n",
    "\n",
    "gboost = GradientBoostingClassifier(loss='deviance', learning_rate=0.1, \n",
    "                                    n_estimators=100, subsample=1.0, criterion='friedman_mse', \n",
    "                                    min_samples_split=2, min_samples_leaf=1, min_weight_fraction_leaf=0.0, \n",
    "                                    max_depth=3, min_impurity_decrease=0.0, min_impurity_split=None, \n",
    "                                    init=None, random_state=None, max_features=None, verbose=0, \n",
    "                                    max_leaf_nodes=None, warm_start=False, validation_fraction=0.1, \n",
    "                                    n_iter_no_change=None, tol=0.0001, ccp_alpha=0.0)\n",
    "gboost_params = {\n",
    "    'max_depth': [2,3,4],\n",
    "    'n_estimators': [100, 250, 500],\n",
    "    'learning_rate': [.08, .1, .12]\n",
    "}\n",
    "gs = GridSearchCV(gboost, param_grid=gboost_params, \n",
    "                  cv=3, verbose=1, n_jobs=-1)\n",
    "gs.fit(X_train, y_train)\n",
    "\n",
    "print(gs.best_score_)\n",
    "gs.best_params_"
   ]
  },
  {
   "cell_type": "markdown",
   "metadata": {},
   "source": [
    "and going down with the best hyperparameters"
   ]
  },
  {
   "cell_type": "code",
   "execution_count": 32,
   "metadata": {},
   "outputs": [
    {
     "name": "stdout",
     "output_type": "stream",
     "text": [
      "0.8316666666666667\n"
     ]
    }
   ],
   "source": [
    "gboost = GradientBoostingClassifier(loss='deviance', learning_rate=0.08, \n",
    "                                    n_estimators=100, subsample=1.0, criterion='friedman_mse', \n",
    "                                    min_samples_split=2, min_samples_leaf=1, min_weight_fraction_leaf=0.0, \n",
    "                                    max_depth=2, min_impurity_decrease=0.0, min_impurity_split=None, \n",
    "                                    init=None, random_state=None, max_features=None, verbose=0, \n",
    "                                    max_leaf_nodes=None, warm_start=False, validation_fraction=0.1, \n",
    "                                    n_iter_no_change=None, tol=0.0001, ccp_alpha=0.0)\n",
    "gboost.fit(X_train, y_train)\n",
    "print(gboost.score(X_test, y_test))"
   ]
  },
  {
   "cell_type": "code",
   "execution_count": 33,
   "metadata": {},
   "outputs": [
    {
     "data": {
      "image/png": "[encoded data removed]",
      "text/plain": [
       "<Figure size 432x288 with 2 Axes>"
      ]
     },
     "metadata": {
      "needs_background": "light"
     },
     "output_type": "display_data"
    }
   ],
   "source": [
    "preds = gboost.predict(X_test)\n",
    "\n",
    "# Save confusion matrix values\n",
    "tn, fp, fn, tp = confusion_matrix(y_test, preds).ravel()\n",
    "\n",
    "# View confusion matrix\n",
    "\n",
    "plot_confusion_matrix(gboost, X_test, y_test, \n",
    "                      cmap='Greys', values_format='d');\n",
    "Accuracy = (tp + tn) / (tp + tn + fp + fn)\n",
    "Precision = tp / (tp + fp)\n",
    "Recall = tp / (tp + fn)\n",
    "\n",
    "Accuracy, Precision, Recall\n",
    "plt.savefig(\"../Figures/plot_04_6.png\")"
   ]
  },
  {
   "cell_type": "code",
   "execution_count": 34,
   "metadata": {},
   "outputs": [],
   "source": [
    "# save the model to disk\n",
    "sys.path.insert(1, '../Codes/')\n",
    "filename = '../Codes/Models/gboost_EDA_DF_P04_01.sav'\n",
    "pickle.dump(gboost, open(filename, 'wb'))"
   ]
  },
  {
   "cell_type": "markdown",
   "metadata": {},
   "source": [
    "Gboost using normalized EDA data set."
   ]
  },
  {
   "cell_type": "code",
   "execution_count": 35,
   "metadata": {},
   "outputs": [
    {
     "name": "stdout",
     "output_type": "stream",
     "text": [
      "0.8316666666666667\n",
      "train score 0.8361111111111111\n",
      "test score 0.8316666666666667\n"
     ]
    },
    {
     "data": {
      "image/png": "[encoded data removed]",
      "text/plain": [
       "<Figure size 432x288 with 2 Axes>"
      ]
     },
     "metadata": {
      "needs_background": "light"
     },
     "output_type": "display_data"
    }
   ],
   "source": [
    "y = EDA_df_normalized['target']\n",
    "X = EDA_df_normalized.drop(columns = ['target'])\n",
    "X_arr = np.array(X)\n",
    "y_arr = np.array(y)\n",
    "\n",
    "X_train, X_test, y_train, y_test = train_test_split(X_arr,\n",
    "                                                    y_arr,\n",
    "                                                    test_size = 0.25,\n",
    "                                                    random_state = 101)\n",
    "\n",
    "\n",
    "gboost = GradientBoostingClassifier(loss='deviance', learning_rate=0.08, \n",
    "                                    n_estimators=100, subsample=1.0, criterion='friedman_mse', \n",
    "                                    min_samples_split=2, min_samples_leaf=1, min_weight_fraction_leaf=0.0, \n",
    "                                    max_depth=2, min_impurity_decrease=0.0, min_impurity_split=None, \n",
    "                                    init=None, random_state=None, max_features=None, verbose=0, \n",
    "                                    max_leaf_nodes=None, warm_start=False, validation_fraction=0.1, \n",
    "                                    n_iter_no_change=None, tol=0.0001, ccp_alpha=0.0)\n",
    "gboost.fit(X_train, y_train)\n",
    "print(gboost.score(X_test, y_test))\n",
    "\n",
    "\n",
    "\n",
    "gboost.fit(X_train, y_train);\n",
    "\n",
    "gboost.score(X_train, y_train); \n",
    "print('train score', gboost.score(X_train, y_train))\n",
    "\n",
    "gboost.score(X_test, y_test); \n",
    "print('test score', gboost.score(X_test, y_test))\n",
    "\n",
    "\n",
    "preds = gboost.predict(X_test)\n",
    "\n",
    "# Save confusion matrix values\n",
    "tn, fp, fn, tp = confusion_matrix(y_test, preds).ravel()\n",
    "\n",
    "# View confusion matrix\n",
    "\n",
    "plot_confusion_matrix(gboost, X_test, y_test, \n",
    "                      cmap='Greys', values_format='d');\n",
    "Accuracy = (tp + tn) / (tp + tn + fp + fn)\n",
    "Precision = tp / (tp + fp)\n",
    "Recall = tp / (tp + fn)\n",
    "\n",
    "Accuracy, Precision, Recall\n",
    "plt.savefig(\"../Figures/plot_04_7.png\")"
   ]
  },
  {
   "cell_type": "code",
   "execution_count": 36,
   "metadata": {},
   "outputs": [],
   "source": [
    "# save the model to disk\n",
    "sys.path.insert(1, '../Codes/')\n",
    "filename = '../Codes/Models/gboost_EDA_norm_DF_P04_01.sav'\n",
    "pickle.dump(gboost, open(filename, 'wb'))"
   ]
  },
  {
   "cell_type": "markdown",
   "metadata": {},
   "source": [
    "### ANN using all CPUs\n",
    "\n",
    "Grid search."
   ]
  },
  {
   "cell_type": "code",
   "execution_count": 37,
   "metadata": {},
   "outputs": [
    {
     "name": "stdout",
     "output_type": "stream",
     "text": [
      "Fitting 3 folds for each of 12 candidates, totalling 36 fits\n"
     ]
    },
    {
     "data": {
      "text/plain": [
       "GridSearchCV(cv=3, estimator=MLPClassifier(hidden_layer_sizes=50), n_jobs=-1,\n",
       "             param_grid={'activation': ['tanh', 'relu'],\n",
       "                         'hidden_layer_sizes': [20, 50],\n",
       "                         'solver': ['lbfgs', 'sgd', 'adam']},\n",
       "             verbose=1)"
      ]
     },
     "execution_count": 37,
     "metadata": {},
     "output_type": "execute_result"
    }
   ],
   "source": [
    "y = EDA_df['target']\n",
    "X = EDA_df.drop(columns = ['target'])\n",
    "X_arr = np.array(X)\n",
    "y_arr = np.array(y)\n",
    "\n",
    "X_train, X_test, y_train, y_test = train_test_split(X_arr,\n",
    "                                                    y_arr,\n",
    "                                                    test_size = 0.25,\n",
    "                                                    random_state = 101)\n",
    "\n",
    "\n",
    "mlp = MLPClassifier(hidden_layer_sizes=50, activation='relu', solver='adam', \n",
    "                    alpha=0.0001, batch_size='auto', learning_rate='constant', \n",
    "                    learning_rate_init=0.001, power_t=0.5, max_iter=200, shuffle=True, \n",
    "                    random_state=None, tol=0.0001, verbose=False, warm_start=False, \n",
    "                    momentum=0.9, nesterovs_momentum=True, early_stopping=False, \n",
    "                    validation_fraction=0.1, beta_1=0.9, beta_2=0.999, epsilon=1e-08, \n",
    "                    n_iter_no_change=10, max_fun=15000)\n",
    "\n",
    "\n",
    "mlp_params = {\n",
    "    'hidden_layer_sizes': [20,50],\n",
    "    'activation': ['tanh', 'relu'],\n",
    "    'solver': ['lbfgs', 'sgd', 'adam']\n",
    "}\n",
    "mlp = GridSearchCV(mlp, param_grid=mlp_params, cv=3, verbose=1, n_jobs=-1)\n",
    "mlp.fit(X_train, y_train)"
   ]
  },
  {
   "cell_type": "code",
   "execution_count": 38,
   "metadata": {},
   "outputs": [
    {
     "name": "stdout",
     "output_type": "stream",
     "text": [
      "0.8295555555555555\n"
     ]
    },
    {
     "data": {
      "text/plain": [
       "{'activation': 'tanh', 'hidden_layer_sizes': 20, 'solver': 'adam'}"
      ]
     },
     "execution_count": 38,
     "metadata": {},
     "output_type": "execute_result"
    }
   ],
   "source": [
    "print(mlp.best_score_)\n",
    "mlp.best_params_"
   ]
  },
  {
   "cell_type": "markdown",
   "metadata": {},
   "source": [
    "Going down with best hyperparameters."
   ]
  },
  {
   "cell_type": "code",
   "execution_count": 39,
   "metadata": {},
   "outputs": [
    {
     "name": "stdout",
     "output_type": "stream",
     "text": [
      "0.8276666666666667\n"
     ]
    },
    {
     "data": {
      "image/png": "[encoded data removed]",
      "text/plain": [
       "<Figure size 432x288 with 2 Axes>"
      ]
     },
     "metadata": {
      "needs_background": "light"
     },
     "output_type": "display_data"
    }
   ],
   "source": [
    "mlp = MLPClassifier(hidden_layer_sizes=50, activation='tanh', solver='adam', \n",
    "                    alpha=0.0001, batch_size='auto', learning_rate='constant', \n",
    "                    learning_rate_init=0.001, power_t=0.5, max_iter=200, shuffle=True, \n",
    "                    random_state=None, tol=0.0001, verbose=False, warm_start=False, \n",
    "                    momentum=0.9, nesterovs_momentum=True, early_stopping=False, \n",
    "                    validation_fraction=0.1, beta_1=0.9, beta_2=0.999, epsilon=1e-08, \n",
    "                    n_iter_no_change=10, max_fun=15000)\n",
    "\n",
    "\n",
    "mlp.fit(X_train, y_train)\n",
    "print(mlp.score(X_test, y_test))\n",
    "\n",
    "\n",
    "\n",
    "preds = mlp.predict(X_test)\n",
    "tn, fp, fn, tp = confusion_matrix(y_test, preds).ravel()\n",
    "\n",
    "# View confusion matrix\n",
    "plot_confusion_matrix(mlp, X_test, y_test, \n",
    "                      cmap='Greys', values_format='d');\n",
    "Accuracy = (tp + tn) / (tp + tn + fp + fn)\n",
    "Precision = tp / (tp + fp)\n",
    "Recall = tp / (tp + fn)\n",
    "\n",
    "Accuracy, Precision, Recall\n",
    "plt.savefig(\"../Figures/plot_04_8.png\")"
   ]
  },
  {
   "cell_type": "code",
   "execution_count": 40,
   "metadata": {},
   "outputs": [],
   "source": [
    "# save the model to disk\n",
    "sys.path.insert(1, '../Codes/')\n",
    "filename = '../Codes/Models/mlp_EDA_DF_P04_01.sav'\n",
    "pickle.dump(mlp, open(filename, 'wb'))"
   ]
  },
  {
   "cell_type": "markdown",
   "metadata": {},
   "source": [
    "Now using normalized data."
   ]
  },
  {
   "cell_type": "code",
   "execution_count": 41,
   "metadata": {},
   "outputs": [
    {
     "name": "stdout",
     "output_type": "stream",
     "text": [
      "0.831\n"
     ]
    },
    {
     "data": {
      "image/png": "[encoded data removed]",
      "text/plain": [
       "<Figure size 432x288 with 2 Axes>"
      ]
     },
     "metadata": {
      "needs_background": "light"
     },
     "output_type": "display_data"
    }
   ],
   "source": [
    "y = EDA_df_normalized['target']\n",
    "X = EDA_df_normalized.drop(columns = ['target'])\n",
    "X_arr = np.array(X)\n",
    "y_arr = np.array(y)\n",
    "\n",
    "X_train, X_test, y_train, y_test = train_test_split(X_arr,\n",
    "                                                    y_arr,\n",
    "                                                    test_size = 0.25,\n",
    "                                                    random_state = 101)\n",
    "\n",
    "\n",
    "mlp = MLPClassifier(hidden_layer_sizes=50, activation='tanh', solver='adam', \n",
    "                    alpha=0.0001, batch_size='auto', learning_rate='constant', \n",
    "                    learning_rate_init=0.001, power_t=0.5, max_iter=200, shuffle=True, \n",
    "                    random_state=None, tol=0.0001, verbose=False, warm_start=False, \n",
    "                    momentum=0.9, nesterovs_momentum=True, early_stopping=False, \n",
    "                    validation_fraction=0.1, beta_1=0.9, beta_2=0.999, epsilon=1e-08, \n",
    "                    n_iter_no_change=10, max_fun=15000)\n",
    "\n",
    "\n",
    "mlp.fit(X_train, y_train)\n",
    "print(mlp.score(X_test, y_test))\n",
    "\n",
    "\n",
    "\n",
    "preds = mlp.predict(X_test)\n",
    "tn, fp, fn, tp = confusion_matrix(y_test, preds).ravel()\n",
    "\n",
    "# View confusion matrix\n",
    "plot_confusion_matrix(mlp, X_test, y_test, \n",
    "                      cmap='Greys', values_format='d');\n",
    "Accuracy = (tp + tn) / (tp + tn + fp + fn)\n",
    "Precision = tp / (tp + fp)\n",
    "Recall = tp / (tp + fn)\n",
    "\n",
    "Accuracy, Precision, Recall\n",
    "plt.savefig(\"../Figures/plot_04_9.png\")"
   ]
  },
  {
   "cell_type": "code",
   "execution_count": 42,
   "metadata": {},
   "outputs": [],
   "source": [
    "# save the model to disk\n",
    "sys.path.insert(1, '../Codes/')\n",
    "filename = '../Codes/Models/mlp_EDA_norm_DF_P04_01.sav'\n",
    "pickle.dump(mlp, open(filename, 'wb'))"
   ]
  },
  {
   "cell_type": "markdown",
   "metadata": {},
   "source": [
    "Let's monitor the progress of algorithms."
   ]
  },
  {
   "cell_type": "code",
   "execution_count": 43,
   "metadata": {},
   "outputs": [
    {
     "data": {
      "image/png": "[encoded data removed]",
      "text/plain": [
       "<Figure size 1008x432 with 2 Axes>"
      ]
     },
     "metadata": {
      "needs_background": "light"
     },
     "output_type": "display_data"
    }
   ],
   "source": [
    "estimator = MLPClassifier(hidden_layer_sizes=50, activation='tanh', solver='adam', \n",
    "                    alpha=0.0001, batch_size='auto', learning_rate='constant', \n",
    "                    learning_rate_init=0.001, power_t=0.5, max_iter=200, shuffle=True, \n",
    "                    random_state=None, tol=0.0001, verbose=False, warm_start=False, \n",
    "                    momentum=0.9, nesterovs_momentum=True, early_stopping=False, \n",
    "                    validation_fraction=0.1, beta_1=0.9, beta_2=0.999, epsilon=1e-08, \n",
    "                    n_iter_no_change=10, max_fun=15000)\n",
    "\n",
    "X = np.array(X)\n",
    "y = np.array(y)\n",
    "\n",
    "train_sizes, train_scores, test_scores, fit_times, _ =\\\n",
    "                                       learning_curve(estimator, X, y, scoring='accuracy',\n",
    "                                                      cv=3, n_jobs=-1,\n",
    "                                                      train_sizes=np.linspace(.1, 1.0, 5),\n",
    "                                                      return_times=True)\n",
    "\n",
    "\n",
    "train_scores_mean = np.mean(train_scores, axis=1)\n",
    "train_scores_std = np.std(train_scores, axis=1)\n",
    "test_scores_mean = np.mean(test_scores, axis=1)\n",
    "test_scores_std = np.std(test_scores, axis=1)\n",
    "fit_times_mean = np.mean(fit_times, axis=1)\n",
    "fit_times_std = np.std(fit_times, axis=1)\n",
    "\n",
    "plt.figure(figsize=(14,6))\n",
    "plt.subplot(1,2,1)\n",
    "plt.plot(train_sizes, train_scores_mean, label='train_scores_mean')\n",
    "plt.fill_between(train_sizes, train_scores_mean-train_scores_std, \n",
    "                 train_scores_mean+train_scores_std, alpha=0.1,\n",
    "                         color=\"r\")\n",
    "\n",
    "\n",
    "plt.plot(train_sizes, test_scores_mean, label='test_scores_mean')\n",
    "plt.fill_between(train_sizes, test_scores_mean-test_scores_std, \n",
    "                 test_scores_mean+test_scores_std, alpha=0.1,\n",
    "                         color=\"g\")\n",
    "\n",
    "# plt.ylim(0,1)\n",
    "plt.title('Learning curve-MLPClassifier')\n",
    "plt.ylabel('Acuuracy score')\n",
    "plt.xlabel('Training size')\n",
    "plt.legend(loc='best')\n",
    "\n",
    "\n",
    "\n",
    "plt.subplot(1,2,2)\n",
    "\n",
    "# plt.figure(figsize=(8,6))\n",
    "plt.plot(fit_times_mean,train_scores_mean, label='train_scores_mean')\n",
    "plt.fill_between(fit_times_mean, train_scores_mean-train_scores_std, \n",
    "                 train_scores_mean+train_scores_std, alpha=0.1,\n",
    "                         color=\"r\")\n",
    "plt.plot(fit_times_mean,test_scores_mean, label='test_scores_mean')\n",
    "plt.fill_between(fit_times_mean, test_scores_mean-test_scores_std, \n",
    "                 test_scores_mean+test_scores_std, alpha=0.1,\n",
    "                         color=\"g\")\n",
    "# plt.ylim(0.5,1.1)\n",
    "plt.title('Learning curve-MLPClassifier')\n",
    "plt.ylabel('Acuuracy score')\n",
    "plt.xlabel('Training time')\n",
    "plt.legend(loc='lower right')\n",
    "plt.savefig(\"../Figures/plot_04_10.png\")"
   ]
  },
  {
   "cell_type": "code",
   "execution_count": 44,
   "metadata": {},
   "outputs": [
    {
     "data": {
      "image/png": "[encoded data removed]",
      "text/plain": [
       "<Figure size 1008x432 with 2 Axes>"
      ]
     },
     "metadata": {
      "needs_background": "light"
     },
     "output_type": "display_data"
    }
   ],
   "source": [
    "estimator = GradientBoostingClassifier(loss='deviance', learning_rate=0.08, \n",
    "                                    n_estimators=100, subsample=1.0, criterion='friedman_mse', \n",
    "                                    min_samples_split=2, min_samples_leaf=1, min_weight_fraction_leaf=0.0, \n",
    "                                    max_depth=2, min_impurity_decrease=0.0, min_impurity_split=None, \n",
    "                                    init=None, random_state=None, max_features=None, verbose=0, \n",
    "                                    max_leaf_nodes=None, warm_start=False, validation_fraction=0.1, \n",
    "                                    n_iter_no_change=None, tol=0.0001, ccp_alpha=0.0)\n",
    "\n",
    "X = np.array(X)\n",
    "y = np.array(y)\n",
    "\n",
    "train_sizes, train_scores, test_scores, fit_times, _ =\\\n",
    "                                       learning_curve(estimator, X, y, \n",
    "                                                      cv=3, n_jobs=-1,\n",
    "                                                      train_sizes=np.linspace(.1, 1.0, 5),\n",
    "                                                      return_times=True)\n",
    "\n",
    "\n",
    "train_scores_mean = np.mean(train_scores, axis=1)\n",
    "train_scores_std = np.std(train_scores, axis=1)\n",
    "test_scores_mean = np.mean(test_scores, axis=1)\n",
    "test_scores_std = np.std(test_scores, axis=1)\n",
    "fit_times_mean = np.mean(fit_times, axis=1)\n",
    "fit_times_std = np.std(fit_times, axis=1)\n",
    "\n",
    "\n",
    "\n",
    "plt.figure(figsize=(14,6))\n",
    "plt.subplot(1,2,1)\n",
    "plt.plot(train_sizes, train_scores_mean, label='train_scores_mean')\n",
    "plt.fill_between(train_sizes, train_scores_mean-train_scores_std, \n",
    "                 train_scores_mean+train_scores_std, alpha=0.1,\n",
    "                         color=\"r\")\n",
    "\n",
    "plt.plot(train_sizes, test_scores_mean, label='test_score')\n",
    "plt.fill_between(train_sizes, test_scores_mean-test_scores_std, \n",
    "                 test_scores_mean+test_scores_std, alpha=0.1,\n",
    "                         color=\"g\")\n",
    "\n",
    "plt.title('Learning curve-GradientBoostingClassifier')\n",
    "plt.ylabel('Acuuracy score')\n",
    "plt.xlabel('Training size')\n",
    "plt.legend(loc='best')\n",
    "\n",
    "\n",
    "plt.subplot(1,2,2)\n",
    "# plt.figure(figsize=(8,6))\n",
    "plt.plot(fit_times_mean,train_scores_mean, label='train_scores_mean')\n",
    "plt.fill_between(fit_times_mean, train_scores_mean-train_scores_std, \n",
    "                 train_scores_mean+train_scores_std, alpha=0.1,\n",
    "                         color=\"r\")\n",
    "plt.plot(fit_times_mean,test_scores_mean, label='test_scores_mean')\n",
    "plt.fill_between(fit_times_mean, test_scores_mean-test_scores_std, \n",
    "                 test_scores_mean+test_scores_std, alpha=0.1,\n",
    "                         color=\"g\")\n",
    "# plt.ylim(0.5,1.1)\n",
    "plt.title('Learning curve-GradientBoostingClassifier')\n",
    "plt.ylabel('Acuuracy score')\n",
    "plt.xlabel('Training time')\n",
    "plt.legend(loc='lower right')\n",
    "plt.savefig(\"../Figures/plot_04_11.png\")"
   ]
  },
  {
   "cell_type": "code",
   "execution_count": 45,
   "metadata": {},
   "outputs": [
    {
     "data": {
      "image/png": "[encoded data removed]",
      "text/plain": [
       "<Figure size 1008x432 with 2 Axes>"
      ]
     },
     "metadata": {
      "needs_background": "light"
     },
     "output_type": "display_data"
    }
   ],
   "source": [
    "estimator = LogisticRegression(solver='sag', \n",
    "                        max_iter=5000)\n",
    "X = np.array(X)\n",
    "y = np.array(y)\n",
    "\n",
    "train_sizes, train_scores, test_scores, fit_times, _ =\\\n",
    "                                       learning_curve(estimator, X, y, \n",
    "                                                      cv=3, n_jobs=-1,\n",
    "                                                      train_sizes=np.linspace(.1, 1.0, 5),\n",
    "                                                      return_times=True)\n",
    "\n",
    "\n",
    "train_scores_mean = np.mean(train_scores, axis=1)\n",
    "train_scores_std = np.std(train_scores, axis=1)\n",
    "test_scores_mean = np.mean(test_scores, axis=1)\n",
    "test_scores_std = np.std(test_scores, axis=1)\n",
    "fit_times_mean = np.mean(fit_times, axis=1)\n",
    "fit_times_std = np.std(fit_times, axis=1)\n",
    "\n",
    "\n",
    "plt.figure(figsize=(14,6))\n",
    "plt.subplot(1,2,1)\n",
    "plt.plot(train_sizes, train_scores_mean, label='train_scores_mean')\n",
    "plt.fill_between(train_sizes, train_scores_mean-train_scores_std, \n",
    "                 train_scores_mean+train_scores_std, alpha=0.1,\n",
    "                         color=\"r\")\n",
    "\n",
    "plt.plot(train_sizes, test_scores_mean, label='test_score')\n",
    "plt.fill_between(train_sizes, test_scores_mean-test_scores_std, \n",
    "                 test_scores_mean+test_scores_std, alpha=0.1,\n",
    "                         color=\"g\")\n",
    "\n",
    "plt.title('Learning curve-LogisticRegression')\n",
    "plt.ylabel('Acuuracy score')\n",
    "plt.xlabel('Training size')\n",
    "plt.legend(loc='best')\n",
    "\n",
    "\n",
    "\n",
    "plt.subplot(1,2,2)\n",
    "plt.plot(fit_times_mean,train_scores_mean, label='train_scores_mean')\n",
    "plt.fill_between(fit_times_mean, train_scores_mean-train_scores_std, \n",
    "                 train_scores_mean+train_scores_std, alpha=0.1,\n",
    "                         color=\"r\")\n",
    "plt.plot(fit_times_mean,test_scores_mean, label='test_scores_mean')\n",
    "plt.fill_between(fit_times_mean, test_scores_mean-test_scores_std, \n",
    "                 test_scores_mean+test_scores_std, alpha=0.1,\n",
    "                         color=\"g\")\n",
    "# plt.ylim(0.5,1.1)\n",
    "plt.title('Learning curve-LogisticRegression')\n",
    "plt.ylabel('Acuuracy score')\n",
    "plt.xlabel('Training time')\n",
    "plt.legend(loc='lower right')\n",
    "plt.savefig(\"../Figures/plot_04_12.png\")"
   ]
  },
  {
   "cell_type": "markdown",
   "metadata": {},
   "source": [
    "#### It was observed that the EDA data set works better and helps the ML algorithm to find patterns.\n",
    "#### Next we merge both df sets and try different ML algorithms."
   ]
  },
  {
   "cell_type": "code",
   "execution_count": null,
   "metadata": {},
   "outputs": [],
   "source": []
  }
 ],
 "metadata": {
  "kernelspec": {
   "display_name": "Python 3",
   "language": "python",
   "name": "python3"
  },
  "language_info": {
   "codemirror_mode": {
    "name": "ipython",
    "version": 3
   },
   "file_extension": ".py",
   "mimetype": "text/x-python",
   "name": "python",
   "nbconvert_exporter": "python",
   "pygments_lexer": "ipython3",
   "version": "3.6.4"
  }
 },
 "nbformat": 4,
 "nbformat_minor": 2
}
